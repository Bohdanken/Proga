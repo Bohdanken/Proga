
{
 "cells": [
  {
   "cell_type": "code",
   "execution_count": 1,
   "id": "7e9d47a0",
   "metadata": {},
   "outputs": [
    {
     "name": "stdout",
     "output_type": "stream",
     "text": [
      "Requirement already satisfied: requests in c:\\users\\богдан\\.pyenv\\pyenv-win\\versions\\3.9.6\\lib\\site-packages (2.28.2)\n",
      "Requirement already satisfied: certifi>=2017.4.17 in c:\\users\\богдан\\.pyenv\\pyenv-win\\versions\\3.9.6\\lib\\site-packages (from requests) (2022.12.7)\n",
      "Requirement already satisfied: idna<4,>=2.5 in c:\\users\\богдан\\.pyenv\\pyenv-win\\versions\\3.9.6\\lib\\site-packages (from requests) (3.4)\n",
      "Requirement already satisfied: urllib3<1.27,>=1.21.1 in c:\\users\\богдан\\.pyenv\\pyenv-win\\versions\\3.9.6\\lib\\site-packages (from requests) (1.26.15)\n",
      "Requirement already satisfied: charset-normalizer<4,>=2 in c:\\users\\богдан\\.pyenv\\pyenv-win\\versions\\3.9.6\\lib\\site-packages (from requests) (3.1.0)\n",
      "Note: you may need to restart the kernel to use updated packages.\n"
     ]
    }
   ],
   "source": [
    "pip install requests"
   ]
  },
  {
   "cell_type": "code",
   "execution_count": 4,
   "id": "20a12a2d",
   "metadata": {},
   "outputs": [],
   "source": [
    "import requests "
   ]
  },
  {
   "cell_type": "code",
   "execution_count": null,
   "id": "ad7cf465",
   "metadata": {},
   "outputs": [],
   "source": []
  },
  {
   "cell_type": "code",
   "execution_count": 5,
   "id": "6a64af41",
   "metadata": {},
   "outputs": [],
   "source": [
    "from bs4 import BeautifulSoup"
   ]
  },
  {
   "cell_type": "code",
   "execution_count": null,
   "id": "58a8282e",
   "metadata": {},
   "outputs": [],
   "source": []
  },
  {
   "cell_type": "code",
   "execution_count": null,
   "id": "6ee2be16",
   "metadata": {},
   "outputs": [],
   "source": []
  },
  {
   "cell_type": "code",
   "execution_count": 1,
   "id": "38a5400f",
   "metadata": {},
   "outputs": [],
   "source": [
    "BaseURL=\"https://understandingwar.org/backgrounder/russian-offensive-campaign-assessment-\""
   ]
  },
  {
   "cell_type": "code",
   "execution_count": 6,
   "id": "d4f36f22",
   "metadata": {},
   "outputs": [],
   "source": [
    "months={\"february\":28,\"march\":31, \"april\":30, \"may\":31, \"june\":30, \"july\":31, \"august\":31, \"september\":30, \"october\":31, \"november\":30, \"december\":31, \"january\":31}\n",
    "months_I={\"february\":\"02\",\"march\":\"03\", \"april\":\"04\", \"may\":\"05\", \"june\":\"06\", \"july\":\"07\", \"august\":\"08\", \"september\":\"09\", \"october\":\"10\", \"november\":\"11\", \"december\":\"12\", \"january\":\"01\"}"
   ]
  },
  {
   "cell_type": "code",
   "execution_count": 7,
   "id": "b4decc90",
   "metadata": {},
   "outputs": [],
   "source": [
    "def save_page(url, file_name):\n",
    "    page = requests.get(url)\n",
    "    #with open('D:\\Python project\\\\'+file_name +\".html\", \"w\") as f:\n",
    "       # f.write(url+'\\n')\n",
    "    with open('D:\\Python project\\\\'+file_name +\".html\", \"wb+\") as f:\n",
    "        f.write(page.content)"
   ]
  },
  {
   "cell_type": "code",
   "execution_count": 9,
   "id": "a297e0f0",
   "metadata": {},
   "outputs": [
    {
     "name": "stdout",
     "output_type": "stream",
     "text": [
      "28\n",
      "february\n",
      " february2422\n",
      "https://understandingwar.org/backgrounder/russian-offensive-campaign-assessment-february-24\n",
      " february2522\n",
      "https://understandingwar.org/backgrounder/russian-offensive-campaign-assessment-february-25\n",
      " february2622\n",
      "https://understandingwar.org/backgrounder/russian-offensive-campaign-assessment-february-26\n",
      " february2722\n",
      "https://understandingwar.org/backgrounder/russian-offensive-campaign-assessment-february-27\n",
      " february2822\n",
      "https://understandingwar.org/backgrounder/russian-offensive-campaign-assessment-february-28\n",
      "31\n",
      "march\n",
      " march122\n",
      "https://understandingwar.org/backgrounder/russian-offensive-campaign-assessment-march-1\n",
      " march222\n",
      "https://understandingwar.org/backgrounder/russian-offensive-campaign-assessment-march-2\n"
     ]
    },
    {
     "ename": "KeyboardInterrupt",
     "evalue": "",
     "output_type": "error",
     "traceback": [
      "\u001b[1;31m---------------------------------------------------------------------------\u001b[0m",
      "\u001b[1;31mKeyboardInterrupt\u001b[0m                         Traceback (most recent call last)",
      "Input \u001b[1;32mIn [9]\u001b[0m, in \u001b[0;36m<module>\u001b[1;34m\u001b[0m\n\u001b[0;32m     21\u001b[0m \u001b[38;5;28mprint\u001b[39m (url)\n\u001b[0;32m     22\u001b[0m save_page(url, file_name)\n\u001b[1;32m---> 23\u001b[0m \u001b[43mtime\u001b[49m\u001b[38;5;241;43m.\u001b[39;49m\u001b[43msleep\u001b[49m\u001b[43m \u001b[49m\u001b[43m(\u001b[49m\u001b[38;5;241;43m1\u001b[39;49m\u001b[43m)\u001b[49m\n",
      "\u001b[1;31mKeyboardInterrupt\u001b[0m: "
     ]
    }
   ],
   "source": [
    "import time\n",
    "for m in months:\n",
    "    fisrt_day = 1\n",
    "    day_count = months[m]\n",
    "    print (day_count)\n",
    "    print (m)\n",
    "    for d in range(fisrt_day, day_count+1):\n",
    "        if m== \"january\" and d>19:\n",
    "            continue\n",
    "        if m== \"february\" and d<24:\n",
    "            continue    \n",
    "        sd = str(d)\n",
    "        date = f\" {m}{sd}22\"\n",
    "        if not(m== \"january\"):\n",
    "            file_name= f\"{sd}-{months_I[m]}-2022\"\n",
    "            url=f\"{BaseURL}{m}-{sd}\"\n",
    "        else:\n",
    "            file_name= f\"{sd}-{months_I[m]}-2023\"\n",
    "            url=f\"{BaseURL}{m}-{sd}-2023\"\n",
    "        print (date)\n",
    "        print (url)\n",
    "        save_page(url, file_name)\n",
    "        time.sleep (1)"
   ]
  },
  {
   "cell_type": "code",
   "execution_count": null,
   "id": "49441b6f",
   "metadata": {},
   "outputs": [],
   "source": []
  },
  {
   "cell_type": "code",
   "execution_count": null,
   "id": "03cbf989",
   "metadata": {},
   "outputs": [],
   "source": []
  }
 ],
 "metadata": {
  "kernelspec": {
   "display_name": "Python 3 (ipykernel)",
   "language": "python",
   "name": "python3"
  },
  "language_info": {
   "codemirror_mode": {
    "name": "ipython",
    "version": 3
   },
   "file_extension": ".py",
   "mimetype": "text/x-python",
   "name": "python",
   "nbconvert_exporter": "python",
   "pygments_lexer": "ipython3",
   "version": "3.9.6"
  }
 },
 "nbformat": 4,
 "nbformat_minor": 5
}
