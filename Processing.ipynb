{
 "cells": [
  {
   "cell_type": "code",
   "execution_count": 343,
   "id": "a16143dd",
   "metadata": {
    "pycharm": {
     "name": "#%%\n"
    }
   },
   "outputs": [
    {
     "name": "stderr",
     "output_type": "stream",
     "text": [
      "C:\\Users\\IvarY\\AppData\\Local\\Temp\\ipykernel_2348\\143117762.py:2: DeprecationWarning: Importing display from IPython.core.display is deprecated since IPython 7.14, please import from IPython display\n",
      "  from IPython.core.display import display, HTML\n"
     ]
    }
   ],
   "source": [
    "import pandas as pd\n",
    "from IPython.core.display import display, HTML\n",
    "from bs4 import BeautifulSoup\n",
    "INPUT_DATA_FOLDER = \"isw_data\"\n",
    "DATA_FILE = \"table_of_data_preprocessed.csv\"\n",
    "\n",
    "OUTPUT_FOLDER = \"isw_data\"\n",
    "OUTPUT_DATA_FILE = \"table_of_data_processed.csv\""
   ]
  },
  {
   "cell_type": "code",
   "execution_count": 300,
   "id": "3b8030aa",
   "metadata": {
    "pycharm": {
     "name": "#%%\n"
    }
   },
   "outputs": [],
   "source": [
    "df = pd.read_csv(f\"{DATA_FILE}\")"
   ]
  },
  {
   "cell_type": "code",
   "execution_count": 301,
   "id": "d1bfd3e3",
   "metadata": {
    "pycharm": {
     "name": "#%%\n"
    }
   },
   "outputs": [
    {
     "data": {
      "text/html": [
       "<div>\n",
       "<style scoped>\n",
       "    .dataframe tbody tr th:only-of-type {\n",
       "        vertical-align: middle;\n",
       "    }\n",
       "\n",
       "    .dataframe tbody tr th {\n",
       "        vertical-align: top;\n",
       "    }\n",
       "\n",
       "    .dataframe thead th {\n",
       "        text-align: right;\n",
       "    }\n",
       "</style>\n",
       "<table border=\"1\" class=\"dataframe\">\n",
       "  <thead>\n",
       "    <tr style=\"text-align: right;\">\n",
       "      <th></th>\n",
       "      <th>Unnamed: 0</th>\n",
       "      <th>date</th>\n",
       "      <th>title</th>\n",
       "      <th>text_title</th>\n",
       "      <th>text_main</th>\n",
       "      <th>main_html_v8</th>\n",
       "    </tr>\n",
       "  </thead>\n",
       "  <tbody>\n",
       "    <tr>\n",
       "      <th>0</th>\n",
       "      <td>0</td>\n",
       "      <td>2022-02-25</td>\n",
       "      <td>Russia-Ukraine Warning Update: Russian Offensi...</td>\n",
       "      <td>Russian Offensive Campaign Assessment, January...</td>\n",
       "      <td>&lt;div class=\"field field-name-body field-type-t...</td>\n",
       "      <td>\\r\\nRussian forces entered major Ukrainian cit...</td>\n",
       "    </tr>\n",
       "    <tr>\n",
       "      <th>1</th>\n",
       "      <td>1</td>\n",
       "      <td>2022-02-26</td>\n",
       "      <td>Russia-Ukraine Warning Update: Russian Offensi...</td>\n",
       "      <td>Russian Offensive Campaign Assessment, January...</td>\n",
       "      <td>&lt;div class=\"field field-name-body field-type-t...</td>\n",
       "      <td>\\r\\nRussian forces’ main axes of advance in th...</td>\n",
       "    </tr>\n",
       "    <tr>\n",
       "      <th>2</th>\n",
       "      <td>2</td>\n",
       "      <td>2022-02-27</td>\n",
       "      <td>Russia-Ukraine Warning Update: Russian Offensi...</td>\n",
       "      <td>Russian Offensive Campaign Assessment, January...</td>\n",
       "      <td>&lt;div class=\"field field-name-body field-type-t...</td>\n",
       "      <td>\\r\\nThe Russian military has likely recognized...</td>\n",
       "    </tr>\n",
       "    <tr>\n",
       "      <th>3</th>\n",
       "      <td>3</td>\n",
       "      <td>2022-02-28</td>\n",
       "      <td>Russian Offensive Campaign Assessment, Februar...</td>\n",
       "      <td>Russian Offensive Campaign Assessment, January...</td>\n",
       "      <td>&lt;div class=\"field field-name-body field-type-t...</td>\n",
       "      <td>The Russian military is reorganizing its milit...</td>\n",
       "    </tr>\n",
       "    <tr>\n",
       "      <th>4</th>\n",
       "      <td>4</td>\n",
       "      <td>2022-03-01</td>\n",
       "      <td>Russian Offensive Campaign Assessment, March 1...</td>\n",
       "      <td>Russian Offensive Campaign Assessment, January...</td>\n",
       "      <td>&lt;div class=\"field field-name-body field-type-t...</td>\n",
       "      <td>Russian forces are completing the reinforcemen...</td>\n",
       "    </tr>\n",
       "    <tr>\n",
       "      <th>5</th>\n",
       "      <td>5</td>\n",
       "      <td>2022-03-02</td>\n",
       "      <td>Russian Offensive Campaign Assessment, March 2...</td>\n",
       "      <td>Russian Offensive Campaign Assessment, January...</td>\n",
       "      <td>&lt;div class=\"field field-name-body field-type-t...</td>\n",
       "      <td>Russian forces resumed offensive operations in...</td>\n",
       "    </tr>\n",
       "    <tr>\n",
       "      <th>6</th>\n",
       "      <td>6</td>\n",
       "      <td>2022-03-03</td>\n",
       "      <td>Ukraine Conflict Update 14 | Institute for the...</td>\n",
       "      <td>Russian Offensive Campaign Assessment, January...</td>\n",
       "      <td>&lt;div class=\"field field-name-body field-type-t...</td>\n",
       "      <td>\\r\\nwith the Critical Threats Project, AEI\\r\\n...</td>\n",
       "    </tr>\n",
       "    <tr>\n",
       "      <th>7</th>\n",
       "      <td>7</td>\n",
       "      <td>2022-03-04</td>\n",
       "      <td>Ukraine Conflict Update 15 | Institute for the...</td>\n",
       "      <td>Russian Offensive Campaign Assessment, January...</td>\n",
       "      <td>&lt;div class=\"field field-name-body field-type-t...</td>\n",
       "      <td>\\r\\nwith the Critical Threats Project, AEI\\r\\n...</td>\n",
       "    </tr>\n",
       "    <tr>\n",
       "      <th>8</th>\n",
       "      <td>8</td>\n",
       "      <td>2022-03-05</td>\n",
       "      <td>Explainer on Russian Conscription, Reserve, an...</td>\n",
       "      <td>Russian Offensive Campaign Assessment, January...</td>\n",
       "      <td>&lt;div class=\"field field-name-body field-type-t...</td>\n",
       "      <td>\\r\\nThe early announcement of the  spring draf...</td>\n",
       "    </tr>\n",
       "    <tr>\n",
       "      <th>9</th>\n",
       "      <td>9</td>\n",
       "      <td>2022-03-06</td>\n",
       "      <td>Ukraine Conflict Update 16 | Institute for the...</td>\n",
       "      <td>Russian Offensive Campaign Assessment, January...</td>\n",
       "      <td>&lt;div class=\"field field-name-body field-type-t...</td>\n",
       "      <td>\\r\\nwith the Critical Threats Project, AEI\\r\\n...</td>\n",
       "    </tr>\n",
       "  </tbody>\n",
       "</table>\n",
       "</div>"
      ],
      "text/plain": [
       "   Unnamed: 0        date                                              title  \\\n",
       "0           0  2022-02-25  Russia-Ukraine Warning Update: Russian Offensi...   \n",
       "1           1  2022-02-26  Russia-Ukraine Warning Update: Russian Offensi...   \n",
       "2           2  2022-02-27  Russia-Ukraine Warning Update: Russian Offensi...   \n",
       "3           3  2022-02-28  Russian Offensive Campaign Assessment, Februar...   \n",
       "4           4  2022-03-01  Russian Offensive Campaign Assessment, March 1...   \n",
       "5           5  2022-03-02  Russian Offensive Campaign Assessment, March 2...   \n",
       "6           6  2022-03-03  Ukraine Conflict Update 14 | Institute for the...   \n",
       "7           7  2022-03-04  Ukraine Conflict Update 15 | Institute for the...   \n",
       "8           8  2022-03-05  Explainer on Russian Conscription, Reserve, an...   \n",
       "9           9  2022-03-06  Ukraine Conflict Update 16 | Institute for the...   \n",
       "\n",
       "                                          text_title  \\\n",
       "0  Russian Offensive Campaign Assessment, January...   \n",
       "1  Russian Offensive Campaign Assessment, January...   \n",
       "2  Russian Offensive Campaign Assessment, January...   \n",
       "3  Russian Offensive Campaign Assessment, January...   \n",
       "4  Russian Offensive Campaign Assessment, January...   \n",
       "5  Russian Offensive Campaign Assessment, January...   \n",
       "6  Russian Offensive Campaign Assessment, January...   \n",
       "7  Russian Offensive Campaign Assessment, January...   \n",
       "8  Russian Offensive Campaign Assessment, January...   \n",
       "9  Russian Offensive Campaign Assessment, January...   \n",
       "\n",
       "                                           text_main  \\\n",
       "0  <div class=\"field field-name-body field-type-t...   \n",
       "1  <div class=\"field field-name-body field-type-t...   \n",
       "2  <div class=\"field field-name-body field-type-t...   \n",
       "3  <div class=\"field field-name-body field-type-t...   \n",
       "4  <div class=\"field field-name-body field-type-t...   \n",
       "5  <div class=\"field field-name-body field-type-t...   \n",
       "6  <div class=\"field field-name-body field-type-t...   \n",
       "7  <div class=\"field field-name-body field-type-t...   \n",
       "8  <div class=\"field field-name-body field-type-t...   \n",
       "9  <div class=\"field field-name-body field-type-t...   \n",
       "\n",
       "                                        main_html_v8  \n",
       "0  \\r\\nRussian forces entered major Ukrainian cit...  \n",
       "1  \\r\\nRussian forces’ main axes of advance in th...  \n",
       "2  \\r\\nThe Russian military has likely recognized...  \n",
       "3  The Russian military is reorganizing its milit...  \n",
       "4  Russian forces are completing the reinforcemen...  \n",
       "5  Russian forces resumed offensive operations in...  \n",
       "6  \\r\\nwith the Critical Threats Project, AEI\\r\\n...  \n",
       "7  \\r\\nwith the Critical Threats Project, AEI\\r\\n...  \n",
       "8  \\r\\nThe early announcement of the  spring draf...  \n",
       "9  \\r\\nwith the Critical Threats Project, AEI\\r\\n...  "
      ]
     },
     "execution_count": 301,
     "metadata": {},
     "output_type": "execute_result"
    }
   ],
   "source": [
    "df.head(10)"
   ]
  },
  {
   "cell_type": "code",
   "execution_count": 302,
   "id": "3aee3e7b",
   "metadata": {
    "pycharm": {
     "name": "#%%\n"
    }
   },
   "outputs": [
    {
     "name": "stdout",
     "output_type": "stream",
     "text": [
      "showing info https://raw.githubusercontent.com/nltk/nltk_data/gh-pages/index.xml\n"
     ]
    },
    {
     "data": {
      "text/plain": [
       "True"
      ]
     },
     "execution_count": 302,
     "metadata": {},
     "output_type": "execute_result"
    }
   ],
   "source": [
    "import nltk\n",
    "\n",
    "nltk.download()"
   ]
  },
  {
   "cell_type": "code",
   "execution_count": 303,
   "id": "cd1f3ad6",
   "metadata": {
    "pycharm": {
     "name": "#%%\n"
    }
   },
   "outputs": [],
   "source": [
    "words = [w for w in nltk.corpus.state_union.words() if w.isalpha()]"
   ]
  },
  {
   "cell_type": "code",
   "execution_count": 304,
   "id": "32cff338",
   "metadata": {
    "pycharm": {
     "name": "#%%\n"
    }
   },
   "outputs": [],
   "source": [
    "stopwords = nltk.corpus.stopwords.words(\"english\")"
   ]
  },
  {
   "cell_type": "code",
   "execution_count": 305,
   "id": "6915fa8f",
   "metadata": {
    "pycharm": {
     "name": "#%%\n"
    }
   },
   "outputs": [],
   "source": [
    "df['main_html'] = df['main_html_v8'].apply(lambda x: x.lower())\n",
    "#display(HTML(df.iloc[0][\"main_html\"]))"
   ]
  },
  {
   "cell_type": "code",
   "execution_count": 306,
   "metadata": {
    "collapsed": false,
    "pycharm": {
     "name": "#%%\n"
    }
   },
   "outputs": [],
   "source": [
    "import unicodedata\n",
    "\n",
    "\n",
    "def remove_special_characters(data):\n",
    "    result = unicodedata.normalize(\"NFKD\", data)\n",
    "    #CHARS_TO_REMOVE=['\\r','\\n']\n",
    "    return result.replace('\\r', ' ').replace('\\n', ' ')"
   ]
  },
  {
   "cell_type": "code",
   "execution_count": 307,
   "metadata": {
    "collapsed": false,
    "pycharm": {
     "name": "#%%\n"
    }
   },
   "outputs": [
    {
     "data": {
      "text/plain": [
       "'  russian forces entered major ukrainian cities—including kyiv and kherson—for the first time on february 25. russian forces’ main axes of advance focused on kyiv (successfully isolating the city on both banks of the dnipro river). russian military operations along ukraine’s northern border have been less well-planned, organized, and conducted than those emanating from crimea. they have also been less successful so far. the divergence in performance likely arises in part from differences in the composition and organization of the russian ground forces elements in the western military district and belarus (to ukraine’s north) and southern military district and black sea fleet (to its south and east), as isw has previously observed. determined and well-organized ukrainian resistance around kyiv and kharkiv has also played an important role in preventing the russian military from advancing with the speed and success for which it had reportedly planned. the russian military has deployed additional forces to southeastern belarus, likely beyond those moscow had planned to use against ukraine, to offset these problems and challenges. russian forces remain much larger and more capable than ukraine’s conventional military, however. russia will likely defeat ukrainian regular military forces and secure their territorial objectives at some point in the coming days or weeks if putin is determined to do so and willing to pay the cost in blood and treasure.   key takeaways  russian forces entered the outskirts of kyiv on the west bank of the dnipro on february 25. russian sabotage groups in civilian clothes are reportedly active in downtown kyiv.  russian forces have so far failed to enter kyiv’s eastern outskirts. ukrainian forces have successfully slowed russian troops, which have temporarily abandoned the failed attempt to take the city of chernihiv and are instead bypassing it.  elements of the russian 76th vdv (airborne) division have concentrated in southeastern belarus likely for use along the chernihiv-bypass axis toward kyiv in the next 24 hours.  russian forces will likely envelop kharkhiv in the next 24 hours after failing to enter the city through frontal assaults on february 24.  russian forces have achieved little success on frontal assaults or envelopments against ukrainian forces in donbas but may not have intended to do more than pin ukrainian forces in the east.   north of crimea, russian forces fully captured kherson and are likely on the verge of seizing melitopol in the east. unconfirmed reports indicate that russian forces had bypassed kherson earlier and headed directly for mykolaiv and odessa.  russian forces may be assembling in stolin, belarus, to open a new line of advance against rivne in western ukraine.     click here to enlarge the map below.          russian forces carried out additional air and missile strikes on kyiv and other major cities around 3:00 am local time on february 25. isw cannot confirm the frequency and targets of overnight russian strikes at this time. the ukrainian general staff reported that russian forces are increasingly targeting civil infrastructure and residential buildings “to intimidate the population of ukraine.” russian forces continue to refrain from using the likely full scale of russian air and missile capabilities, likely seeking to limit the negative imagery of heavy ukrainian civilian casualties. however, russian forces will likely increase their use of bombardments in coming days to overcome heavier-than-anticipated ukrainian resistance.  russian ground forces are advancing on four primary axes, discussed in turn below:  belarus/kyiv;  kharkiv;  donbas; and  crimea-kherson.  1)     belarus/kyiv axis: russian forces entered the outskirts of kyiv on the west bank of the dnipro on february 25. russian forces have so far failed to enter kyiv’s eastern outskirts. they have abandoned for now the failed attempt to take the city of chernihiv and are instead bypassing it.  elements of the 76thvdv (airborne) division have concentrated in southeastern belarus likely for use along the chernihiv-bypass axis toward kyiv in the next 24 hours.  russian forces entered the northwest kyiv suburb of obolon, on the western bank of the dnipro river, as of 11:00 am local time. the ukrainian general staff asked residents of obolon to shelter in place and make molotov cocktails the morning of february 25. the russian ministry of defense claimed at 3:30 pm local time on february 25 that russian forces had isolated kyiv from the west.  russian forces bypassed the city of chernihiv on the eastern approach to kyiv after being halted by ukrainian forces much of february 24-25. the uk defense ministry reported at 6:00 pm local time that russian forces opened a “new route” to kyiv after failing to capture chernihiv. russian forces have not yet entered kyiv’s eastern outskirts.  the ukrainian general staff reported russian vdv (airborne) troops redeployed from belarus to the east bank of the dnipro river due to damage to the hostomel military airport on the western bank, now in russian hands after ukrainian forces withdrew sometime early on february 25. russian forces failed to secure hostomel airport by air assault and appear to have taken it only when mechanized units from belarus arrived.  ukrainian defenders appear to have damaged the runway enough to make it unusable, preventing russian forces from airlifting troops directly onto kyiv’s western flank and causing russian forces to reprioritize the eastern axis of advance.  russian reconnaissance and sabotage units, many reportedly operating in civilian clothes or captured ukrainian uniforms, are reportedly active in central kyiv. a ukrainian deputy defense minister reported russian forces seized two ukrainian trucks to break through ukrainian lines into central kyiv around noon local time. the ukrainian general staff warned at 5:00 pm local time that russian units in civilian clothes are operating in several unspecified ukrainian cities.  president zelensky, his chief of staff, and prime minister shmyhal released a video from downtown kyiv at 8:00 pm local time on february 25 stating “we are all here, defending our independence.”  the ukrainian military reported it redeployed unspecified units to assist in the defense of kyiv. isw cannot currently confirm the extent of ukrainian preparations to conduct urban fighting in kyiv.  2)     kharkiv axis: russian forces will likely envelop kharkiv in the next 24 hours after failing to enter the city through frontal assaults on february 24. russian forces are now advancing on a broad front along the northeastern ukrainian border as of february 25.  kharkiv civil authorities reported russian forces entering the outskirts of kharkiv from several directions at 9:00 pm local time. elements of russia’s 25th separate guards motor rifle brigade, part of the 6th combined arms army and permanently deployed near st petersburg, are confirmed to be active in kharkiv.  russian forces have reportedly crossed the northeastern ukrainian border at several other points both west of kharkiv, including okhtyrka and sumy. russian forces are likely advancing toward kyiv on a broad front and may seek to envelop and isolate kharkiv.  3)     donbas axis: russian forces have achieved little success on the frontal assaults or the envelopment but may not have intended to do more than pin ukrainian forces in the east.  the russians have not weighted their ground offensive efforts toward breaking through ukrainian defensive positions on the line of contact, taking mariupol from the east, or driving rapidly through luhansk oblast to the north. ukrainian forces remain largely in their original defensive positions in the east. the russians may be content to leave them there while concentrating on capturing kyiv and imposing a new government on ukraine. they may alternatively seek to envelop and destroy ukrainian forces at and near the line of contact at a later date.  russian forces have been unable to continue an enveloping maneuver through donetsk oblast as of 4:00 pm local time february 25. they have not apparently reinforced their efforts to do so, however, suggesting that they may not be very determined to make rapid progress on this axis as long as ukrainian forces remain in defensive positions.  ukrainian forces report undergoing continuous shelling.  ukrainian forces claim to continue to hold the entire line of contact in donetsk and luhansk as of 1pm local time february 25.  russian forces are likely conducting a frontal assault on mariupol from the northeast. the mayor of mariupol claimed ukrainian forces destroyed twenty-two russian tanks advancing from pavlopil at 4:00 pm local time on february 25. russian sources reported shelling mariupol with mlrs systems at 7:00 pm local time on february 25.  4)            crimea axis: russian forces fully captured kherson and are likely on the verge of seizing melitopol in the east. unconfirmed reports indicate that russian forces had bypassed kherson earlier and headed directly for mykolaiv and odessa.  russian forces reportedly captured kherson at 6:00 pm local time on february 25. elements of the russian 42nd motor rifle division of the 58th combined arms army and unknown vdv (airborne) elements are confirmed to be active in kherson.  russian forces are advancing west of kherson and reportedly bypassed it early february 25 before its capture by follow-on russian forces later in the day. ukrainian forces destroyed at least one bridge over the dnipro to slow russian forces. the ukrainian ministry of defense reported russian forces are advancing on mykolaiv. isw cannot confirm the current depth of russian advances.  russian forces may have captured melitopol, east of crimea, late on february 25. ukrainian forces reported defending the city at 10:00 am local time february 25. russian forces claimed to have captured the city as of 6:00 pm local time.  the ukrainian general staff reported that russia is deploying second echelon troops to kherson on february 25. if confirmed, this is the first russian deployment of second-line troops into ukrainian territory.  isw cannot confirm any russian amphibious landings as of 3:00 pm est. several western sources misreported a quote from an anonymous us official that there are indications of russia’s capability to conduct an amphibious assault west of mariupol with thousands of troops as meaning a landing had already occurred. russia may wait until forces from crimea have fully secured crossings over the dnipro river or gotten closer to odesa before attempting to seize odesa by air and sea.  immediate items to watch  social media users observed a russian armored column assembling in stolin, belarus, on february 25. these forces could potentially conduct a new line of advance against rivne in western ukraine.  russian naval infantry have not yet conducted amphibious landings but retain the capability to do so against the odesa or the azov sea coasts or both.  russian forces continue to refrain from using their likely full spectrum of air and missile capabilities. the ukrainian air force also remains active. russian operations will likely steadily wear down ukrainian air capabilities and eventually take the ukrainian air force out of the fight.  russian forces have not yet attempted the decapitation strike several analysts and outlets have forecasted and may attempt to do so in the near future.  russia has sufficient conventional military power to reinforce each of its current axes of advance and overpower the conventional ukrainian forces defending them.                                      '"
      ]
     },
     "execution_count": 307,
     "metadata": {},
     "output_type": "execute_result"
    }
   ],
   "source": [
    "df['main_html1'] = df['main_html'].apply(lambda x: remove_special_characters(x))\n",
    "df['main_html1'][0]"
   ]
  },
  {
   "cell_type": "code",
   "execution_count": 308,
   "id": "411ba9df",
   "metadata": {
    "pycharm": {
     "name": "#%%\n"
    }
   },
   "outputs": [],
   "source": [
    "import string\n",
    "\n",
    "def remove_any_punct(q):\n",
    "    result=\" \"\n",
    "    # for char in q:\n",
    "    #     if char.isalpha():\n",
    "    #         result.join(char)\n",
    "    #     else:\n",
    "    #         result.join(\" \")\n",
    "    # return result\n",
    "    return q.translate(str.maketrans(string.punctuation, ' '*len(string.punctuation)))"
   ]
  },
  {
   "cell_type": "code",
   "execution_count": 309,
   "id": "5212dc24",
   "metadata": {
    "pycharm": {
     "name": "#%%\n"
    }
   },
   "outputs": [],
   "source": [
    "#df=df.drop(['main_html2'], axis=1)\n",
    "#df['main_html'][0]\n",
    "df['main_html2'] = df['main_html1'].apply(lambda x: remove_any_punct(x))\n",
    "#print(df.iloc[0]['main_html'])\n",
    "#print(df.iloc[0]['main_html2'])\n",
    "#df['main_html2'][0]"
   ]
  },
  {
   "cell_type": "code",
   "execution_count": 310,
   "id": "cf4c0fa0",
   "metadata": {
    "pycharm": {
     "name": "#%%\n"
    }
   },
   "outputs": [],
   "source": [
    "def remove_one_letter_word (data):\n",
    "    word_tokens = nltk.word_tokenize(str(data))\n",
    "    new_text = \"\"\n",
    "    for w in word_tokens:\n",
    "        if len(w) == 1 :\n",
    "            continue\n",
    "\n",
    "        new_text= new_text + \" \" + w\n",
    "    return new_text"
   ]
  },
  {
   "cell_type": "code",
   "execution_count": 311,
   "id": "34a148c2",
   "metadata": {
    "pycharm": {
     "name": "#%%\n"
    }
   },
   "outputs": [],
   "source": [
    "#remove_one_letter_word(df.iloc[0][\"main_html\"])\n",
    "df['main_html3'] = df['main_html2'].apply(lambda x: remove_one_letter_word(x))\n",
    "#print(df.iloc[0][\"main_html3\"])\n",
    "#df['main_html3'][0]"
   ]
  },
  {
   "cell_type": "code",
   "execution_count": 312,
   "metadata": {
    "collapsed": false,
    "pycharm": {
     "name": "#%%\n"
    }
   },
   "outputs": [
    {
     "data": {
      "text/plain": [
       "' russian forces entered major ukrainian cities—including kyiv and kherson—for the first time on february 25 russian forces main axes of advance focused on kyiv successfully isolating the city on both banks of the dnipro river russian military operations along ukraine northern border have been less well planned organized and conducted than those emanating from crimea they have also been less successful so far the divergence in performance likely arises in part from differences in the composition and organization of the russian ground forces elements in the western military district and belarus to ukraine north and southern military district and black sea fleet to its south and east as isw has previously observed determined and well organized ukrainian resistance around kyiv and kharkiv has also played an important role in preventing the russian military from advancing with the speed and success for which it had reportedly planned the russian military has deployed additional forces to southeastern belarus likely beyond those moscow had planned to use against ukraine to offset these problems and challenges russian forces remain much larger and more capable than ukraine conventional military however russia will likely defeat ukrainian regular military forces and secure their territorial objectives at some point in the coming days or weeks if putin is determined to do so and willing to pay the cost in blood and treasure key takeaways russian forces entered the outskirts of kyiv on the west bank of the dnipro on february 25 russian sabotage groups in civilian clothes are reportedly active in downtown kyiv russian forces have so far failed to enter kyiv eastern outskirts ukrainian forces have successfully slowed russian troops which have temporarily abandoned the failed attempt to take the city of chernihiv and are instead bypassing it elements of the russian 76th vdv airborne division have concentrated in southeastern belarus likely for use along the chernihiv bypass axis toward kyiv in the next 24 hours russian forces will likely envelop kharkhiv in the next 24 hours after failing to enter the city through frontal assaults on february 24 russian forces have achieved little success on frontal assaults or envelopments against ukrainian forces in donbas but may not have intended to do more than pin ukrainian forces in the east north of crimea russian forces fully captured kherson and are likely on the verge of seizing melitopol in the east unconfirmed reports indicate that russian forces had bypassed kherson earlier and headed directly for mykolaiv and odessa russian forces may be assembling in stolin belarus to open new line of advance against rivne in western ukraine click here to enlarge the map below russian forces carried out additional air and missile strikes on kyiv and other major cities around 00 am local time on february 25 isw can not confirm the frequency and targets of overnight russian strikes at this time the ukrainian general staff reported that russian forces are increasingly targeting civil infrastructure and residential buildings to intimidate the population of ukraine russian forces continue to refrain from using the likely full scale of russian air and missile capabilities likely seeking to limit the negative imagery of heavy ukrainian civilian casualties however russian forces will likely increase their use of bombardments in coming days to overcome heavier than anticipated ukrainian resistance russian ground forces are advancing on four primary axes discussed in turn below belarus kyiv kharkiv donbas and crimea kherson belarus kyiv axis russian forces entered the outskirts of kyiv on the west bank of the dnipro on february 25 russian forces have so far failed to enter kyiv eastern outskirts they have abandoned for now the failed attempt to take the city of chernihiv and are instead bypassing it elements of the 76thvdv airborne division have concentrated in southeastern belarus likely for use along the chernihiv bypass axis toward kyiv in the next 24 hours russian forces entered the northwest kyiv suburb of obolon on the western bank of the dnipro river as of 11 00 am local time the ukrainian general staff asked residents of obolon to shelter in place and make molotov cocktails the morning of february 25 the russian ministry of defense claimed at 30 pm local time on february 25 that russian forces had isolated kyiv from the west russian forces bypassed the city of chernihiv on the eastern approach to kyiv after being halted by ukrainian forces much of february 24 25 the uk defense ministry reported at 00 pm local time that russian forces opened new route to kyiv after failing to capture chernihiv russian forces have not yet entered kyiv eastern outskirts the ukrainian general staff reported russian vdv airborne troops redeployed from belarus to the east bank of the dnipro river due to damage to the hostomel military airport on the western bank now in russian hands after ukrainian forces withdrew sometime early on february 25 russian forces failed to secure hostomel airport by air assault and appear to have taken it only when mechanized units from belarus arrived ukrainian defenders appear to have damaged the runway enough to make it unusable preventing russian forces from airlifting troops directly onto kyiv western flank and causing russian forces to reprioritize the eastern axis of advance russian reconnaissance and sabotage units many reportedly operating in civilian clothes or captured ukrainian uniforms are reportedly active in central kyiv ukrainian deputy defense minister reported russian forces seized two ukrainian trucks to break through ukrainian lines into central kyiv around noon local time the ukrainian general staff warned at 00 pm local time that russian units in civilian clothes are operating in several unspecified ukrainian cities president zelensky his chief of staff and prime minister shmyhal released video from downtown kyiv at 00 pm local time on february 25 stating we are all here defending our independence the ukrainian military reported it redeployed unspecified units to assist in the defense of kyiv isw can not currently confirm the extent of ukrainian preparations to conduct urban fighting in kyiv kharkiv axis russian forces will likely envelop kharkiv in the next 24 hours after failing to enter the city through frontal assaults on february 24 russian forces are now advancing on broad front along the northeastern ukrainian border as of february 25 kharkiv civil authorities reported russian forces entering the outskirts of kharkiv from several directions at 00 pm local time elements of russia 25th separate guards motor rifle brigade part of the 6th combined arms army and permanently deployed near st petersburg are confirmed to be active in kharkiv russian forces have reportedly crossed the northeastern ukrainian border at several other points both west of kharkiv including okhtyrka and sumy russian forces are likely advancing toward kyiv on broad front and may seek to envelop and isolate kharkiv donbas axis russian forces have achieved little success on the frontal assaults or the envelopment but may not have intended to do more than pin ukrainian forces in the east the russians have not weighted their ground offensive efforts toward breaking through ukrainian defensive positions on the line of contact taking mariupol from the east or driving rapidly through luhansk oblast to the north ukrainian forces remain largely in their original defensive positions in the east the russians may be content to leave them there while concentrating on capturing kyiv and imposing new government on ukraine they may alternatively seek to envelop and destroy ukrainian forces at and near the line of contact at later date russian forces have been unable to continue an enveloping maneuver through donetsk oblast as of 00 pm local time february 25 they have not apparently reinforced their efforts to do so however suggesting that they may not be very determined to make rapid progress on this axis as long as ukrainian forces remain in defensive positions ukrainian forces report undergoing continuous shelling ukrainian forces claim to continue to hold the entire line of contact in donetsk and luhansk as of 1pm local time february 25 russian forces are likely conducting frontal assault on mariupol from the northeast the mayor of mariupol claimed ukrainian forces destroyed twenty two russian tanks advancing from pavlopil at 00 pm local time on february 25 russian sources reported shelling mariupol with mlrs systems at 00 pm local time on february 25 crimea axis russian forces fully captured kherson and are likely on the verge of seizing melitopol in the east unconfirmed reports indicate that russian forces had bypassed kherson earlier and headed directly for mykolaiv and odessa russian forces reportedly captured kherson at 00 pm local time on february 25 elements of the russian 42nd motor rifle division of the 58th combined arms army and unknown vdv airborne elements are confirmed to be active in kherson russian forces are advancing west of kherson and reportedly bypassed it early february 25 before its capture by follow on russian forces later in the day ukrainian forces destroyed at least one bridge over the dnipro to slow russian forces the ukrainian ministry of defense reported russian forces are advancing on mykolaiv isw can not confirm the current depth of russian advances russian forces may have captured melitopol east of crimea late on february 25 ukrainian forces reported defending the city at 10 00 am local time february 25 russian forces claimed to have captured the city as of 00 pm local time the ukrainian general staff reported that russia is deploying second echelon troops to kherson on february 25 if confirmed this is the first russian deployment of second line troops into ukrainian territory isw can not confirm any russian amphibious landings as of 00 pm est several western sources misreported quote from an anonymous us official that there are indications of russia capability to conduct an amphibious assault west of mariupol with thousands of troops as meaning landing had already occurred russia may wait until forces from crimea have fully secured crossings over the dnipro river or gotten closer to odesa before attempting to seize odesa by air and sea immediate items to watch social media users observed russian armored column assembling in stolin belarus on february 25 these forces could potentially conduct new line of advance against rivne in western ukraine russian naval infantry have not yet conducted amphibious landings but retain the capability to do so against the odesa or the azov sea coasts or both russian forces continue to refrain from using their likely full spectrum of air and missile capabilities the ukrainian air force also remains active russian operations will likely steadily wear down ukrainian air capabilities and eventually take the ukrainian air force out of the fight russian forces have not yet attempted the decapitation strike several analysts and outlets have forecasted and may attempt to do so in the near future russia has sufficient conventional military power to reinforce each of its current axes of advance and overpower the conventional ukrainian forces defending them'"
      ]
     },
     "execution_count": 312,
     "metadata": {},
     "output_type": "execute_result"
    }
   ],
   "source": [
    "df['main_html3'][0]"
   ]
  },
  {
   "cell_type": "code",
   "execution_count": 329,
   "metadata": {
    "collapsed": false,
    "pycharm": {
     "name": "#%%\n"
    }
   },
   "outputs": [],
   "source": [
    "# df=df.drop(['title', 'text_title', 'text_main', 'main_html_v8', 'main_html'], axis=1)\n",
    "# df"
   ]
  },
  {
   "cell_type": "code",
   "execution_count": 330,
   "metadata": {
    "collapsed": false,
    "pycharm": {
     "name": "#%%\n"
    }
   },
   "outputs": [],
   "source": [
    "def remove_stopwords(data):\n",
    "    word_tokens = nltk.word_tokenize(str(data))\n",
    "    stop_stop_words = {\"no\", \"not\"}\n",
    "    stop_words = set(stopwords) - stop_stop_words\n",
    "    result = \"\"\n",
    "    for w in word_tokens:\n",
    "        if w not in stop_words:\n",
    "            result = result + \" \" + w\n",
    "    return result"
   ]
  },
  {
   "cell_type": "code",
   "execution_count": 339,
   "metadata": {
    "collapsed": false,
    "pycharm": {
     "name": "#%%\n"
    }
   },
   "outputs": [
    {
     "name": "stderr",
     "output_type": "stream",
     "text": [
      "[nltk_data] Downloading package wordnet to\n",
      "[nltk_data]     C:\\Users\\IvarY\\AppData\\Roaming\\nltk_data...\n"
     ]
    }
   ],
   "source": [
    "def stemming(data):\n",
    "    stemmer = nltk.PorterStemmer()\n",
    "    tokens = nltk.word_tokenize(str(data))\n",
    "    result = \"\"\n",
    "    for w in tokens:\n",
    "        result = result + \" \" + stemmer.stem(w)\n",
    "    return result\n",
    "nltk.download('wordnet')\n",
    "def lemmatizing(data):\n",
    "    lemmatizer = nltk.WordNetLemmatizer()\n",
    "    tokens = nltk.word_tokenize(str(data))\n",
    "    result = \"\"\n",
    "    for w in tokens:\n",
    "        result = result + \" \" + lemmatizer.lemmatize(w)\n",
    "    return result"
   ]
  },
  {
   "cell_type": "code",
   "execution_count": 332,
   "metadata": {
    "collapsed": false,
    "pycharm": {
     "name": "#%%\n"
    }
   },
   "outputs": [],
   "source": [
    "from num2words import num2words\n",
    "def convert_numbers(data):\n",
    "    tokens = nltk.word_tokenize(str(data))\n",
    "    result=\"\"\n",
    "    for w in tokens :\n",
    "        if w.isdigit():\n",
    "            if(int(w)>10000000000):\n",
    "                continue\n",
    "            w = remove_any_punct(num2words(w))\n",
    "        result = result + ' ' + w\n",
    "    return result"
   ]
  },
  {
   "cell_type": "code",
   "execution_count": 334,
   "metadata": {
    "collapsed": false,
    "pycharm": {
     "name": "#%%\n"
    }
   },
   "outputs": [
    {
     "data": {
      "text/plain": [
       "' russian forces entered major ukrainian cities—including kyiv kherson—for first time february twenty five russian forces main axes advance focused kyiv successfully isolating city banks dnipro river russian military operations along ukraine northern border less well planned organized conducted emanating crimea also less successful far divergence performance likely arises part differences composition organization russian ground forces elements western military district belarus ukraine north southern military district black sea fleet south east isw previously observed determined well organized ukrainian resistance around kyiv kharkiv also played important role preventing russian military advancing speed success reportedly planned russian military deployed additional forces southeastern belarus likely beyond moscow planned use ukraine offset problems challenges russian forces remain much larger capable ukraine conventional military however russia likely defeat ukrainian regular military forces secure territorial objectives point coming days weeks putin determined willing pay cost blood treasure key takeaways russian forces entered outskirts kyiv west bank dnipro february twenty five russian sabotage groups civilian clothes reportedly active downtown kyiv russian forces far failed enter kyiv eastern outskirts ukrainian forces successfully slowed russian troops temporarily abandoned failed attempt take city chernihiv instead bypassing elements russian 76th vdv airborne division concentrated southeastern belarus likely use along chernihiv bypass axis toward kyiv next twenty four hours russian forces likely envelop kharkhiv next twenty four hours failing enter city frontal assaults february twenty four russian forces achieved little success frontal assaults envelopments ukrainian forces donbas may not intended pin ukrainian forces east north crimea russian forces fully captured kherson likely verge seizing melitopol east unconfirmed reports indicate russian forces bypassed kherson earlier headed directly mykolaiv odessa russian forces may assembling stolin belarus open new line advance rivne western ukraine click enlarge map russian forces carried additional air missile strikes kyiv major cities around zero local time february twenty five isw not confirm frequency targets overnight russian strikes time ukrainian general staff reported russian forces increasingly targeting civil infrastructure residential buildings intimidate population ukraine russian forces continue refrain using likely full scale russian air missile capabilities likely seeking limit negative imagery heavy ukrainian civilian casualties however russian forces likely increase use bombardments coming days overcome heavier anticipated ukrainian resistance russian ground forces advancing four primary axes discussed turn belarus kyiv kharkiv donbas crimea kherson belarus kyiv axis russian forces entered outskirts kyiv west bank dnipro february twenty five russian forces far failed enter kyiv eastern outskirts abandoned failed attempt take city chernihiv instead bypassing elements 76thvdv airborne division concentrated southeastern belarus likely use along chernihiv bypass axis toward kyiv next twenty four hours russian forces entered northwest kyiv suburb obolon western bank dnipro river eleven zero local time ukrainian general staff asked residents obolon shelter place make molotov cocktails morning february twenty five russian ministry defense claimed thirty pm local time february twenty five russian forces isolated kyiv west russian forces bypassed city chernihiv eastern approach kyiv halted ukrainian forces much february twenty four twenty five uk defense ministry reported zero pm local time russian forces opened new route kyiv failing capture chernihiv russian forces not yet entered kyiv eastern outskirts ukrainian general staff reported russian vdv airborne troops redeployed belarus east bank dnipro river due damage hostomel military airport western bank russian hands ukrainian forces withdrew sometime early february twenty five russian forces failed secure hostomel airport air assault appear taken mechanized units belarus arrived ukrainian defenders appear damaged runway enough make unusable preventing russian forces airlifting troops directly onto kyiv western flank causing russian forces reprioritize eastern axis advance russian reconnaissance sabotage units many reportedly operating civilian clothes captured ukrainian uniforms reportedly active central kyiv ukrainian deputy defense minister reported russian forces seized two ukrainian trucks break ukrainian lines central kyiv around noon local time ukrainian general staff warned zero pm local time russian units civilian clothes operating several unspecified ukrainian cities president zelensky chief staff prime minister shmyhal released video downtown kyiv zero pm local time february twenty five stating defending independence ukrainian military reported redeployed unspecified units assist defense kyiv isw not currently confirm extent ukrainian preparations conduct urban fighting kyiv kharkiv axis russian forces likely envelop kharkiv next twenty four hours failing enter city frontal assaults february twenty four russian forces advancing broad front along northeastern ukrainian border february twenty five kharkiv civil authorities reported russian forces entering outskirts kharkiv several directions zero pm local time elements russia 25th separate guards motor rifle brigade part 6th combined arms army permanently deployed near st petersburg confirmed active kharkiv russian forces reportedly crossed northeastern ukrainian border several points west kharkiv including okhtyrka sumy russian forces likely advancing toward kyiv broad front may seek envelop isolate kharkiv donbas axis russian forces achieved little success frontal assaults envelopment may not intended pin ukrainian forces east russians not weighted ground offensive efforts toward breaking ukrainian defensive positions line contact taking mariupol east driving rapidly luhansk oblast north ukrainian forces remain largely original defensive positions east russians may content leave concentrating capturing kyiv imposing new government ukraine may alternatively seek envelop destroy ukrainian forces near line contact later date russian forces unable continue enveloping maneuver donetsk oblast zero pm local time february twenty five not apparently reinforced efforts however suggesting may not determined make rapid progress axis long ukrainian forces remain defensive positions ukrainian forces report undergoing continuous shelling ukrainian forces claim continue hold entire line contact donetsk luhansk 1pm local time february twenty five russian forces likely conducting frontal assault mariupol northeast mayor mariupol claimed ukrainian forces destroyed twenty two russian tanks advancing pavlopil zero pm local time february twenty five russian sources reported shelling mariupol mlrs systems zero pm local time february twenty five crimea axis russian forces fully captured kherson likely verge seizing melitopol east unconfirmed reports indicate russian forces bypassed kherson earlier headed directly mykolaiv odessa russian forces reportedly captured kherson zero pm local time february twenty five elements russian 42nd motor rifle division 58th combined arms army unknown vdv airborne elements confirmed active kherson russian forces advancing west kherson reportedly bypassed early february twenty five capture follow russian forces later day ukrainian forces destroyed least one bridge dnipro slow russian forces ukrainian ministry defense reported russian forces advancing mykolaiv isw not confirm current depth russian advances russian forces may captured melitopol east crimea late february twenty five ukrainian forces reported defending city ten zero local time february twenty five russian forces claimed captured city zero pm local time ukrainian general staff reported russia deploying second echelon troops kherson february twenty five confirmed first russian deployment second line troops ukrainian territory isw not confirm russian amphibious landings zero pm est several western sources misreported quote anonymous us official indications russia capability conduct amphibious assault west mariupol thousands troops meaning landing already occurred russia may wait forces crimea fully secured crossings dnipro river gotten closer odesa attempting seize odesa air sea immediate items watch social media users observed russian armored column assembling stolin belarus february twenty five forces could potentially conduct new line advance rivne western ukraine russian naval infantry not yet conducted amphibious landings retain capability odesa azov sea coasts russian forces continue refrain using likely full spectrum air missile capabilities ukrainian air force also remains active russian operations likely steadily wear ukrainian air capabilities eventually take ukrainian air force fight russian forces not yet attempted decapitation strike several analysts outlets forecasted may attempt near future russia sufficient conventional military power reinforce current axes advance overpower conventional ukrainian forces defending'"
      ]
     },
     "execution_count": 334,
     "metadata": {},
     "output_type": "execute_result"
    }
   ],
   "source": [
    "df['main_html4']=df['main_html3'].apply(lambda x: convert_numbers(x)).apply(lambda x: remove_stopwords(x))\n",
    "df['main_html4'][0]"
   ]
  },
  {
   "cell_type": "code",
   "execution_count": 335,
   "metadata": {
    "collapsed": false,
    "pycharm": {
     "name": "#%%\n"
    }
   },
   "outputs": [
    {
     "data": {
      "text/plain": [
       "' russian forc enter major ukrainian cities—includ kyiv kherson—for first time februari twenti five russian forc main axe advanc focus kyiv success isol citi bank dnipro river russian militari oper along ukrain northern border less well plan organ conduct eman crimea also less success far diverg perform like aris part differ composit organ russian ground forc element western militari district belaru ukrain north southern militari district black sea fleet south east isw previous observ determin well organ ukrainian resist around kyiv kharkiv also play import role prevent russian militari advanc speed success reportedli plan russian militari deploy addit forc southeastern belaru like beyond moscow plan use ukrain offset problem challeng russian forc remain much larger capabl ukrain convent militari howev russia like defeat ukrainian regular militari forc secur territori object point come day week putin determin will pay cost blood treasur key takeaway russian forc enter outskirt kyiv west bank dnipro februari twenti five russian sabotag group civilian cloth reportedli activ downtown kyiv russian forc far fail enter kyiv eastern outskirt ukrainian forc success slow russian troop temporarili abandon fail attempt take citi chernihiv instead bypass element russian 76th vdv airborn divis concentr southeastern belaru like use along chernihiv bypass axi toward kyiv next twenti four hour russian forc like envelop kharkhiv next twenti four hour fail enter citi frontal assault februari twenti four russian forc achiev littl success frontal assault envelop ukrainian forc donba may not intend pin ukrainian forc east north crimea russian forc fulli captur kherson like verg seiz melitopol east unconfirm report indic russian forc bypass kherson earlier head directli mykolaiv odessa russian forc may assembl stolin belaru open new line advanc rivn western ukrain click enlarg map russian forc carri addit air missil strike kyiv major citi around zero local time februari twenti five isw not confirm frequenc target overnight russian strike time ukrainian gener staff report russian forc increasingli target civil infrastructur residenti build intimid popul ukrain russian forc continu refrain use like full scale russian air missil capabl like seek limit neg imageri heavi ukrainian civilian casualti howev russian forc like increas use bombard come day overcom heavier anticip ukrainian resist russian ground forc advanc four primari axe discuss turn belaru kyiv kharkiv donba crimea kherson belaru kyiv axi russian forc enter outskirt kyiv west bank dnipro februari twenti five russian forc far fail enter kyiv eastern outskirt abandon fail attempt take citi chernihiv instead bypass element 76thvdv airborn divis concentr southeastern belaru like use along chernihiv bypass axi toward kyiv next twenti four hour russian forc enter northwest kyiv suburb obolon western bank dnipro river eleven zero local time ukrainian gener staff ask resid obolon shelter place make molotov cocktail morn februari twenti five russian ministri defens claim thirti pm local time februari twenti five russian forc isol kyiv west russian forc bypass citi chernihiv eastern approach kyiv halt ukrainian forc much februari twenti four twenti five uk defens ministri report zero pm local time russian forc open new rout kyiv fail captur chernihiv russian forc not yet enter kyiv eastern outskirt ukrainian gener staff report russian vdv airborn troop redeploy belaru east bank dnipro river due damag hostomel militari airport western bank russian hand ukrainian forc withdrew sometim earli februari twenti five russian forc fail secur hostomel airport air assault appear taken mechan unit belaru arriv ukrainian defend appear damag runway enough make unus prevent russian forc airlift troop directli onto kyiv western flank caus russian forc repriorit eastern axi advanc russian reconnaiss sabotag unit mani reportedli oper civilian cloth captur ukrainian uniform reportedli activ central kyiv ukrainian deputi defens minist report russian forc seiz two ukrainian truck break ukrainian line central kyiv around noon local time ukrainian gener staff warn zero pm local time russian unit civilian cloth oper sever unspecifi ukrainian citi presid zelenski chief staff prime minist shmyhal releas video downtown kyiv zero pm local time februari twenti five state defend independ ukrainian militari report redeploy unspecifi unit assist defens kyiv isw not current confirm extent ukrainian prepar conduct urban fight kyiv kharkiv axi russian forc like envelop kharkiv next twenti four hour fail enter citi frontal assault februari twenti four russian forc advanc broad front along northeastern ukrainian border februari twenti five kharkiv civil author report russian forc enter outskirt kharkiv sever direct zero pm local time element russia 25th separ guard motor rifl brigad part 6th combin arm armi perman deploy near st petersburg confirm activ kharkiv russian forc reportedli cross northeastern ukrainian border sever point west kharkiv includ okhtyrka sumi russian forc like advanc toward kyiv broad front may seek envelop isol kharkiv donba axi russian forc achiev littl success frontal assault envelop may not intend pin ukrainian forc east russian not weight ground offens effort toward break ukrainian defens posit line contact take mariupol east drive rapidli luhansk oblast north ukrainian forc remain larg origin defens posit east russian may content leav concentr captur kyiv impos new govern ukrain may altern seek envelop destroy ukrainian forc near line contact later date russian forc unabl continu envelop maneuv donetsk oblast zero pm local time februari twenti five not appar reinforc effort howev suggest may not determin make rapid progress axi long ukrainian forc remain defens posit ukrainian forc report undergo continu shell ukrainian forc claim continu hold entir line contact donetsk luhansk 1pm local time februari twenti five russian forc like conduct frontal assault mariupol northeast mayor mariupol claim ukrainian forc destroy twenti two russian tank advanc pavlopil zero pm local time februari twenti five russian sourc report shell mariupol mlr system zero pm local time februari twenti five crimea axi russian forc fulli captur kherson like verg seiz melitopol east unconfirm report indic russian forc bypass kherson earlier head directli mykolaiv odessa russian forc reportedli captur kherson zero pm local time februari twenti five element russian 42nd motor rifl divis 58th combin arm armi unknown vdv airborn element confirm activ kherson russian forc advanc west kherson reportedli bypass earli februari twenti five captur follow russian forc later day ukrainian forc destroy least one bridg dnipro slow russian forc ukrainian ministri defens report russian forc advanc mykolaiv isw not confirm current depth russian advanc russian forc may captur melitopol east crimea late februari twenti five ukrainian forc report defend citi ten zero local time februari twenti five russian forc claim captur citi zero pm local time ukrainian gener staff report russia deploy second echelon troop kherson februari twenti five confirm first russian deploy second line troop ukrainian territori isw not confirm russian amphibi land zero pm est sever western sourc misreport quot anonym us offici indic russia capabl conduct amphibi assault west mariupol thousand troop mean land alreadi occur russia may wait forc crimea fulli secur cross dnipro river gotten closer odesa attempt seiz odesa air sea immedi item watch social media user observ russian armor column assembl stolin belaru februari twenti five forc could potenti conduct new line advanc rivn western ukrain russian naval infantri not yet conduct amphibi land retain capabl odesa azov sea coast russian forc continu refrain use like full spectrum air missil capabl ukrainian air forc also remain activ russian oper like steadili wear ukrainian air capabl eventu take ukrainian air forc fight russian forc not yet attempt decapit strike sever analyst outlet forecast may attempt near futur russia suffici convent militari power reinforc current axe advanc overpow convent ukrainian forc defend'"
      ]
     },
     "execution_count": 335,
     "metadata": {},
     "output_type": "execute_result"
    }
   ],
   "source": [
    "df['data_stemmed'] = df['main_html4'].apply(lambda x: stemming(x))\n",
    "df['data_stemmed'][0]"
   ]
  },
  {
   "cell_type": "code",
   "execution_count": 340,
   "metadata": {
    "collapsed": false,
    "pycharm": {
     "name": "#%%\n"
    }
   },
   "outputs": [
    {
     "data": {
      "text/plain": [
       "' russian force entered major ukrainian cities—including kyiv kherson—for first time february twenty five russian force main ax advance focused kyiv successfully isolating city bank dnipro river russian military operation along ukraine northern border le well planned organized conducted emanating crimea also le successful far divergence performance likely arises part difference composition organization russian ground force element western military district belarus ukraine north southern military district black sea fleet south east isw previously observed determined well organized ukrainian resistance around kyiv kharkiv also played important role preventing russian military advancing speed success reportedly planned russian military deployed additional force southeastern belarus likely beyond moscow planned use ukraine offset problem challenge russian force remain much larger capable ukraine conventional military however russia likely defeat ukrainian regular military force secure territorial objective point coming day week putin determined willing pay cost blood treasure key takeaway russian force entered outskirt kyiv west bank dnipro february twenty five russian sabotage group civilian clothes reportedly active downtown kyiv russian force far failed enter kyiv eastern outskirt ukrainian force successfully slowed russian troop temporarily abandoned failed attempt take city chernihiv instead bypassing element russian 76th vdv airborne division concentrated southeastern belarus likely use along chernihiv bypass axis toward kyiv next twenty four hour russian force likely envelop kharkhiv next twenty four hour failing enter city frontal assault february twenty four russian force achieved little success frontal assault envelopment ukrainian force donbas may not intended pin ukrainian force east north crimea russian force fully captured kherson likely verge seizing melitopol east unconfirmed report indicate russian force bypassed kherson earlier headed directly mykolaiv odessa russian force may assembling stolin belarus open new line advance rivne western ukraine click enlarge map russian force carried additional air missile strike kyiv major city around zero local time february twenty five isw not confirm frequency target overnight russian strike time ukrainian general staff reported russian force increasingly targeting civil infrastructure residential building intimidate population ukraine russian force continue refrain using likely full scale russian air missile capability likely seeking limit negative imagery heavy ukrainian civilian casualty however russian force likely increase use bombardment coming day overcome heavier anticipated ukrainian resistance russian ground force advancing four primary ax discussed turn belarus kyiv kharkiv donbas crimea kherson belarus kyiv axis russian force entered outskirt kyiv west bank dnipro february twenty five russian force far failed enter kyiv eastern outskirt abandoned failed attempt take city chernihiv instead bypassing element 76thvdv airborne division concentrated southeastern belarus likely use along chernihiv bypass axis toward kyiv next twenty four hour russian force entered northwest kyiv suburb obolon western bank dnipro river eleven zero local time ukrainian general staff asked resident obolon shelter place make molotov cocktail morning february twenty five russian ministry defense claimed thirty pm local time february twenty five russian force isolated kyiv west russian force bypassed city chernihiv eastern approach kyiv halted ukrainian force much february twenty four twenty five uk defense ministry reported zero pm local time russian force opened new route kyiv failing capture chernihiv russian force not yet entered kyiv eastern outskirt ukrainian general staff reported russian vdv airborne troop redeployed belarus east bank dnipro river due damage hostomel military airport western bank russian hand ukrainian force withdrew sometime early february twenty five russian force failed secure hostomel airport air assault appear taken mechanized unit belarus arrived ukrainian defender appear damaged runway enough make unusable preventing russian force airlifting troop directly onto kyiv western flank causing russian force reprioritize eastern axis advance russian reconnaissance sabotage unit many reportedly operating civilian clothes captured ukrainian uniform reportedly active central kyiv ukrainian deputy defense minister reported russian force seized two ukrainian truck break ukrainian line central kyiv around noon local time ukrainian general staff warned zero pm local time russian unit civilian clothes operating several unspecified ukrainian city president zelensky chief staff prime minister shmyhal released video downtown kyiv zero pm local time february twenty five stating defending independence ukrainian military reported redeployed unspecified unit assist defense kyiv isw not currently confirm extent ukrainian preparation conduct urban fighting kyiv kharkiv axis russian force likely envelop kharkiv next twenty four hour failing enter city frontal assault february twenty four russian force advancing broad front along northeastern ukrainian border february twenty five kharkiv civil authority reported russian force entering outskirt kharkiv several direction zero pm local time element russia 25th separate guard motor rifle brigade part 6th combined arm army permanently deployed near st petersburg confirmed active kharkiv russian force reportedly crossed northeastern ukrainian border several point west kharkiv including okhtyrka sumy russian force likely advancing toward kyiv broad front may seek envelop isolate kharkiv donbas axis russian force achieved little success frontal assault envelopment may not intended pin ukrainian force east russian not weighted ground offensive effort toward breaking ukrainian defensive position line contact taking mariupol east driving rapidly luhansk oblast north ukrainian force remain largely original defensive position east russian may content leave concentrating capturing kyiv imposing new government ukraine may alternatively seek envelop destroy ukrainian force near line contact later date russian force unable continue enveloping maneuver donetsk oblast zero pm local time february twenty five not apparently reinforced effort however suggesting may not determined make rapid progress axis long ukrainian force remain defensive position ukrainian force report undergoing continuous shelling ukrainian force claim continue hold entire line contact donetsk luhansk 1pm local time february twenty five russian force likely conducting frontal assault mariupol northeast mayor mariupol claimed ukrainian force destroyed twenty two russian tank advancing pavlopil zero pm local time february twenty five russian source reported shelling mariupol mlrs system zero pm local time february twenty five crimea axis russian force fully captured kherson likely verge seizing melitopol east unconfirmed report indicate russian force bypassed kherson earlier headed directly mykolaiv odessa russian force reportedly captured kherson zero pm local time february twenty five element russian 42nd motor rifle division 58th combined arm army unknown vdv airborne element confirmed active kherson russian force advancing west kherson reportedly bypassed early february twenty five capture follow russian force later day ukrainian force destroyed least one bridge dnipro slow russian force ukrainian ministry defense reported russian force advancing mykolaiv isw not confirm current depth russian advance russian force may captured melitopol east crimea late february twenty five ukrainian force reported defending city ten zero local time february twenty five russian force claimed captured city zero pm local time ukrainian general staff reported russia deploying second echelon troop kherson february twenty five confirmed first russian deployment second line troop ukrainian territory isw not confirm russian amphibious landing zero pm est several western source misreported quote anonymous u official indication russia capability conduct amphibious assault west mariupol thousand troop meaning landing already occurred russia may wait force crimea fully secured crossing dnipro river gotten closer odesa attempting seize odesa air sea immediate item watch social medium user observed russian armored column assembling stolin belarus february twenty five force could potentially conduct new line advance rivne western ukraine russian naval infantry not yet conducted amphibious landing retain capability odesa azov sea coast russian force continue refrain using likely full spectrum air missile capability ukrainian air force also remains active russian operation likely steadily wear ukrainian air capability eventually take ukrainian air force fight russian force not yet attempted decapitation strike several analyst outlet forecasted may attempt near future russia sufficient conventional military power reinforce current ax advance overpower conventional ukrainian force defending'"
      ]
     },
     "execution_count": 340,
     "metadata": {},
     "output_type": "execute_result"
    }
   ],
   "source": [
    "df['data_lemmatized'] = df['main_html4'].apply(lambda x: lemmatizing(x))\n",
    "df['data_lemmatized'][0]"
   ]
  },
  {
   "cell_type": "code",
   "execution_count": 347,
   "metadata": {
    "collapsed": false,
    "pycharm": {
     "name": "#%%\n"
    }
   },
   "outputs": [
    {
     "data": {
      "text/html": [
       "<div>\n",
       "<style scoped>\n",
       "    .dataframe tbody tr th:only-of-type {\n",
       "        vertical-align: middle;\n",
       "    }\n",
       "\n",
       "    .dataframe tbody tr th {\n",
       "        vertical-align: top;\n",
       "    }\n",
       "\n",
       "    .dataframe thead th {\n",
       "        text-align: right;\n",
       "    }\n",
       "</style>\n",
       "<table border=\"1\" class=\"dataframe\">\n",
       "  <thead>\n",
       "    <tr style=\"text-align: right;\">\n",
       "      <th></th>\n",
       "      <th>Unnamed: 0</th>\n",
       "      <th>date</th>\n",
       "      <th>title</th>\n",
       "      <th>text_title</th>\n",
       "      <th>text_main</th>\n",
       "      <th>main_html_v8</th>\n",
       "      <th>main_html</th>\n",
       "      <th>main_html1</th>\n",
       "      <th>main_html2</th>\n",
       "      <th>main_html3</th>\n",
       "      <th>main_html4</th>\n",
       "      <th>data_stemmed</th>\n",
       "      <th>data_lemmatized</th>\n",
       "    </tr>\n",
       "  </thead>\n",
       "  <tbody>\n",
       "    <tr>\n",
       "      <th>0</th>\n",
       "      <td>0</td>\n",
       "      <td>2022-02-25</td>\n",
       "      <td>Russia-Ukraine Warning Update: Russian Offensi...</td>\n",
       "      <td>Russian Offensive Campaign Assessment, January...</td>\n",
       "      <td>&lt;div class=\"field field-name-body field-type-t...</td>\n",
       "      <td>\\r\\nRussian forces entered major Ukrainian cit...</td>\n",
       "      <td>\\r\\nrussian forces entered major ukrainian cit...</td>\n",
       "      <td>russian forces entered major ukrainian citie...</td>\n",
       "      <td>russian forces entered major ukrainian citie...</td>\n",
       "      <td>russian forces entered major ukrainian cities...</td>\n",
       "      <td>russian forces entered major ukrainian cities...</td>\n",
       "      <td>russian forc enter major ukrainian cities—inc...</td>\n",
       "      <td>russian force entered major ukrainian cities—...</td>\n",
       "    </tr>\n",
       "    <tr>\n",
       "      <th>1</th>\n",
       "      <td>1</td>\n",
       "      <td>2022-02-26</td>\n",
       "      <td>Russia-Ukraine Warning Update: Russian Offensi...</td>\n",
       "      <td>Russian Offensive Campaign Assessment, January...</td>\n",
       "      <td>&lt;div class=\"field field-name-body field-type-t...</td>\n",
       "      <td>\\r\\nRussian forces’ main axes of advance in th...</td>\n",
       "      <td>\\r\\nrussian forces’ main axes of advance in th...</td>\n",
       "      <td>russian forces’ main axes of advance in the ...</td>\n",
       "      <td>russian forces’ main axes of advance in the ...</td>\n",
       "      <td>russian forces main axes of advance in the la...</td>\n",
       "      <td>russian forces main axes advance last twenty ...</td>\n",
       "      <td>russian forc main axe advanc last twenti four...</td>\n",
       "      <td>russian force main ax advance last twenty fou...</td>\n",
       "    </tr>\n",
       "    <tr>\n",
       "      <th>2</th>\n",
       "      <td>2</td>\n",
       "      <td>2022-02-27</td>\n",
       "      <td>Russia-Ukraine Warning Update: Russian Offensi...</td>\n",
       "      <td>Russian Offensive Campaign Assessment, January...</td>\n",
       "      <td>&lt;div class=\"field field-name-body field-type-t...</td>\n",
       "      <td>\\r\\nThe Russian military has likely recognized...</td>\n",
       "      <td>\\r\\nthe russian military has likely recognized...</td>\n",
       "      <td>the russian military has likely recognized t...</td>\n",
       "      <td>the russian military has likely recognized t...</td>\n",
       "      <td>the russian military has likely recognized th...</td>\n",
       "      <td>russian military likely recognized initial ex...</td>\n",
       "      <td>russian militari like recogn initi expect lim...</td>\n",
       "      <td>russian military likely recognized initial ex...</td>\n",
       "    </tr>\n",
       "    <tr>\n",
       "      <th>3</th>\n",
       "      <td>3</td>\n",
       "      <td>2022-02-28</td>\n",
       "      <td>Russian Offensive Campaign Assessment, Februar...</td>\n",
       "      <td>Russian Offensive Campaign Assessment, January...</td>\n",
       "      <td>&lt;div class=\"field field-name-body field-type-t...</td>\n",
       "      <td>The Russian military is reorganizing its milit...</td>\n",
       "      <td>the russian military is reorganizing its milit...</td>\n",
       "      <td>the russian military is reorganizing its milit...</td>\n",
       "      <td>the russian military is reorganizing its milit...</td>\n",
       "      <td>the russian military is reorganizing its mili...</td>\n",
       "      <td>russian military reorganizing military effort...</td>\n",
       "      <td>russian militari reorgan militari effort atte...</td>\n",
       "      <td>russian military reorganizing military effort...</td>\n",
       "    </tr>\n",
       "    <tr>\n",
       "      <th>4</th>\n",
       "      <td>4</td>\n",
       "      <td>2022-03-01</td>\n",
       "      <td>Russian Offensive Campaign Assessment, March 1...</td>\n",
       "      <td>Russian Offensive Campaign Assessment, January...</td>\n",
       "      <td>&lt;div class=\"field field-name-body field-type-t...</td>\n",
       "      <td>Russian forces are completing the reinforcemen...</td>\n",
       "      <td>russian forces are completing the reinforcemen...</td>\n",
       "      <td>russian forces are completing the reinforcemen...</td>\n",
       "      <td>russian forces are completing the reinforcemen...</td>\n",
       "      <td>russian forces are completing the reinforceme...</td>\n",
       "      <td>russian forces completing reinforcement resup...</td>\n",
       "      <td>russian forc complet reinforc resuppli troop ...</td>\n",
       "      <td>russian force completing reinforcement resupp...</td>\n",
       "    </tr>\n",
       "    <tr>\n",
       "      <th>5</th>\n",
       "      <td>5</td>\n",
       "      <td>2022-03-02</td>\n",
       "      <td>Russian Offensive Campaign Assessment, March 2...</td>\n",
       "      <td>Russian Offensive Campaign Assessment, January...</td>\n",
       "      <td>&lt;div class=\"field field-name-body field-type-t...</td>\n",
       "      <td>Russian forces resumed offensive operations in...</td>\n",
       "      <td>russian forces resumed offensive operations in...</td>\n",
       "      <td>russian forces resumed offensive operations in...</td>\n",
       "      <td>russian forces resumed offensive operations in...</td>\n",
       "      <td>russian forces resumed offensive operations i...</td>\n",
       "      <td>russian forces resumed offensive operations s...</td>\n",
       "      <td>russian forc resum offens oper support envelo...</td>\n",
       "      <td>russian force resumed offensive operation sup...</td>\n",
       "    </tr>\n",
       "    <tr>\n",
       "      <th>6</th>\n",
       "      <td>6</td>\n",
       "      <td>2022-03-03</td>\n",
       "      <td>Ukraine Conflict Update 14 | Institute for the...</td>\n",
       "      <td>Russian Offensive Campaign Assessment, January...</td>\n",
       "      <td>&lt;div class=\"field field-name-body field-type-t...</td>\n",
       "      <td>\\r\\nwith the Critical Threats Project, AEI\\r\\n...</td>\n",
       "      <td>\\r\\nwith the critical threats project, aei\\r\\n...</td>\n",
       "      <td>with the critical threats project, aei  marc...</td>\n",
       "      <td>with the critical threats project  aei  marc...</td>\n",
       "      <td>with the critical threats project aei march i...</td>\n",
       "      <td>critical threats project aei march isw publis...</td>\n",
       "      <td>critic threat project aei march isw publish r...</td>\n",
       "      <td>critical threat project aei march isw publish...</td>\n",
       "    </tr>\n",
       "    <tr>\n",
       "      <th>7</th>\n",
       "      <td>7</td>\n",
       "      <td>2022-03-04</td>\n",
       "      <td>Ukraine Conflict Update 15 | Institute for the...</td>\n",
       "      <td>Russian Offensive Campaign Assessment, January...</td>\n",
       "      <td>&lt;div class=\"field field-name-body field-type-t...</td>\n",
       "      <td>\\r\\nwith the Critical Threats Project, AEI\\r\\n...</td>\n",
       "      <td>\\r\\nwith the critical threats project, aei\\r\\n...</td>\n",
       "      <td>with the critical threats project, aei  marc...</td>\n",
       "      <td>with the critical threats project  aei  marc...</td>\n",
       "      <td>with the critical threats project aei march i...</td>\n",
       "      <td>critical threats project aei march isw publis...</td>\n",
       "      <td>critic threat project aei march isw publish r...</td>\n",
       "      <td>critical threat project aei march isw publish...</td>\n",
       "    </tr>\n",
       "    <tr>\n",
       "      <th>8</th>\n",
       "      <td>8</td>\n",
       "      <td>2022-03-05</td>\n",
       "      <td>Explainer on Russian Conscription, Reserve, an...</td>\n",
       "      <td>Russian Offensive Campaign Assessment, January...</td>\n",
       "      <td>&lt;div class=\"field field-name-body field-type-t...</td>\n",
       "      <td>\\r\\nThe early announcement of the  spring draf...</td>\n",
       "      <td>\\r\\nthe early announcement of the  spring draf...</td>\n",
       "      <td>the early announcement of the  spring draft ...</td>\n",
       "      <td>the early announcement of the  spring draft ...</td>\n",
       "      <td>the early announcement of the spring draft is...</td>\n",
       "      <td>early announcement spring draft unlikely incr...</td>\n",
       "      <td>earli announc spring draft unlik increas russ...</td>\n",
       "      <td>early announcement spring draft unlikely incr...</td>\n",
       "    </tr>\n",
       "    <tr>\n",
       "      <th>9</th>\n",
       "      <td>9</td>\n",
       "      <td>2022-03-06</td>\n",
       "      <td>Ukraine Conflict Update 16 | Institute for the...</td>\n",
       "      <td>Russian Offensive Campaign Assessment, January...</td>\n",
       "      <td>&lt;div class=\"field field-name-body field-type-t...</td>\n",
       "      <td>\\r\\nwith the Critical Threats Project, AEI\\r\\n...</td>\n",
       "      <td>\\r\\nwith the critical threats project, aei\\r\\n...</td>\n",
       "      <td>with the critical threats project, aei  marc...</td>\n",
       "      <td>with the critical threats project  aei  marc...</td>\n",
       "      <td>with the critical threats project aei march i...</td>\n",
       "      <td>critical threats project aei march isw publis...</td>\n",
       "      <td>critic threat project aei march isw publish r...</td>\n",
       "      <td>critical threat project aei march isw publish...</td>\n",
       "    </tr>\n",
       "    <tr>\n",
       "      <th>10</th>\n",
       "      <td>10</td>\n",
       "      <td>2022-03-07</td>\n",
       "      <td>Russian Offensive Campaign Assessment, March 7...</td>\n",
       "      <td>Russian Offensive Campaign Assessment, January...</td>\n",
       "      <td>&lt;div class=\"field field-name-body field-type-t...</td>\n",
       "      <td>Russian forces are concentrating in the easter...</td>\n",
       "      <td>russian forces are concentrating in the easter...</td>\n",
       "      <td>russian forces are concentrating in the easter...</td>\n",
       "      <td>russian forces are concentrating in the easter...</td>\n",
       "      <td>russian forces are concentrating in the easte...</td>\n",
       "      <td>russian forces concentrating eastern northwes...</td>\n",
       "      <td>russian forc concentr eastern northwestern we...</td>\n",
       "      <td>russian force concentrating eastern northwest...</td>\n",
       "    </tr>\n",
       "    <tr>\n",
       "      <th>11</th>\n",
       "      <td>11</td>\n",
       "      <td>2022-03-08</td>\n",
       "      <td>Russian Offensive Campaign Assessment, March 8...</td>\n",
       "      <td>Russian Offensive Campaign Assessment, January...</td>\n",
       "      <td>&lt;div class=\"field field-name-body field-type-t...</td>\n",
       "      <td>Russian forces continued concentrating in the ...</td>\n",
       "      <td>russian forces continued concentrating in the ...</td>\n",
       "      <td>russian forces continued concentrating in the ...</td>\n",
       "      <td>russian forces continued concentrating in the ...</td>\n",
       "      <td>russian forces continued concentrating in the...</td>\n",
       "      <td>russian forces continued concentrating easter...</td>\n",
       "      <td>russian forc continu concentr eastern northwe...</td>\n",
       "      <td>russian force continued concentrating eastern...</td>\n",
       "    </tr>\n",
       "    <tr>\n",
       "      <th>12</th>\n",
       "      <td>12</td>\n",
       "      <td>2022-03-09</td>\n",
       "      <td>Russian Offensive Campaign Assessment, March 9...</td>\n",
       "      <td>Russian Offensive Campaign Assessment, January...</td>\n",
       "      <td>&lt;div class=\"field field-name-body field-type-t...</td>\n",
       "      <td>Russian operations to continue the encirclemen...</td>\n",
       "      <td>russian operations to continue the encirclemen...</td>\n",
       "      <td>russian operations to continue the encirclemen...</td>\n",
       "      <td>russian operations to continue the encirclemen...</td>\n",
       "      <td>russian operations to continue the encircleme...</td>\n",
       "      <td>russian operations continue encirclement assa...</td>\n",
       "      <td>russian oper continu encircl assault kyiv lik...</td>\n",
       "      <td>russian operation continue encirclement assau...</td>\n",
       "    </tr>\n",
       "    <tr>\n",
       "      <th>13</th>\n",
       "      <td>13</td>\n",
       "      <td>2022-03-10</td>\n",
       "      <td>Russian Offensive Campaign Assessment, March 1...</td>\n",
       "      <td>Russian Offensive Campaign Assessment, January...</td>\n",
       "      <td>&lt;div class=\"field field-name-body field-type-t...</td>\n",
       "      <td>The likelihood is increasing that Ukrainian fo...</td>\n",
       "      <td>the likelihood is increasing that ukrainian fo...</td>\n",
       "      <td>the likelihood is increasing that ukrainian fo...</td>\n",
       "      <td>the likelihood is increasing that ukrainian fo...</td>\n",
       "      <td>the likelihood is increasing that ukrainian f...</td>\n",
       "      <td>likelihood increasing ukrainian forces could ...</td>\n",
       "      <td>likelihood increas ukrainian forc could fight...</td>\n",
       "      <td>likelihood increasing ukrainian force could f...</td>\n",
       "    </tr>\n",
       "    <tr>\n",
       "      <th>14</th>\n",
       "      <td>14</td>\n",
       "      <td>2022-03-11</td>\n",
       "      <td>Russian Offensive Campaign Assessment, March 1...</td>\n",
       "      <td>Russian Offensive Campaign Assessment, January...</td>\n",
       "      <td>&lt;div class=\"field field-name-body field-type-t...</td>\n",
       "      <td>Russian ground forces attempting to encircle a...</td>\n",
       "      <td>russian ground forces attempting to encircle a...</td>\n",
       "      <td>russian ground forces attempting to encircle a...</td>\n",
       "      <td>russian ground forces attempting to encircle a...</td>\n",
       "      <td>russian ground forces attempting to encircle ...</td>\n",
       "      <td>russian ground forces attempting encircle tak...</td>\n",
       "      <td>russian ground forc attempt encircl take kyiv...</td>\n",
       "      <td>russian ground force attempting encircle take...</td>\n",
       "    </tr>\n",
       "  </tbody>\n",
       "</table>\n",
       "</div>"
      ],
      "text/plain": [
       "    Unnamed: 0        date                                              title  \\\n",
       "0            0  2022-02-25  Russia-Ukraine Warning Update: Russian Offensi...   \n",
       "1            1  2022-02-26  Russia-Ukraine Warning Update: Russian Offensi...   \n",
       "2            2  2022-02-27  Russia-Ukraine Warning Update: Russian Offensi...   \n",
       "3            3  2022-02-28  Russian Offensive Campaign Assessment, Februar...   \n",
       "4            4  2022-03-01  Russian Offensive Campaign Assessment, March 1...   \n",
       "5            5  2022-03-02  Russian Offensive Campaign Assessment, March 2...   \n",
       "6            6  2022-03-03  Ukraine Conflict Update 14 | Institute for the...   \n",
       "7            7  2022-03-04  Ukraine Conflict Update 15 | Institute for the...   \n",
       "8            8  2022-03-05  Explainer on Russian Conscription, Reserve, an...   \n",
       "9            9  2022-03-06  Ukraine Conflict Update 16 | Institute for the...   \n",
       "10          10  2022-03-07  Russian Offensive Campaign Assessment, March 7...   \n",
       "11          11  2022-03-08  Russian Offensive Campaign Assessment, March 8...   \n",
       "12          12  2022-03-09  Russian Offensive Campaign Assessment, March 9...   \n",
       "13          13  2022-03-10  Russian Offensive Campaign Assessment, March 1...   \n",
       "14          14  2022-03-11  Russian Offensive Campaign Assessment, March 1...   \n",
       "\n",
       "                                           text_title  \\\n",
       "0   Russian Offensive Campaign Assessment, January...   \n",
       "1   Russian Offensive Campaign Assessment, January...   \n",
       "2   Russian Offensive Campaign Assessment, January...   \n",
       "3   Russian Offensive Campaign Assessment, January...   \n",
       "4   Russian Offensive Campaign Assessment, January...   \n",
       "5   Russian Offensive Campaign Assessment, January...   \n",
       "6   Russian Offensive Campaign Assessment, January...   \n",
       "7   Russian Offensive Campaign Assessment, January...   \n",
       "8   Russian Offensive Campaign Assessment, January...   \n",
       "9   Russian Offensive Campaign Assessment, January...   \n",
       "10  Russian Offensive Campaign Assessment, January...   \n",
       "11  Russian Offensive Campaign Assessment, January...   \n",
       "12  Russian Offensive Campaign Assessment, January...   \n",
       "13  Russian Offensive Campaign Assessment, January...   \n",
       "14  Russian Offensive Campaign Assessment, January...   \n",
       "\n",
       "                                            text_main  \\\n",
       "0   <div class=\"field field-name-body field-type-t...   \n",
       "1   <div class=\"field field-name-body field-type-t...   \n",
       "2   <div class=\"field field-name-body field-type-t...   \n",
       "3   <div class=\"field field-name-body field-type-t...   \n",
       "4   <div class=\"field field-name-body field-type-t...   \n",
       "5   <div class=\"field field-name-body field-type-t...   \n",
       "6   <div class=\"field field-name-body field-type-t...   \n",
       "7   <div class=\"field field-name-body field-type-t...   \n",
       "8   <div class=\"field field-name-body field-type-t...   \n",
       "9   <div class=\"field field-name-body field-type-t...   \n",
       "10  <div class=\"field field-name-body field-type-t...   \n",
       "11  <div class=\"field field-name-body field-type-t...   \n",
       "12  <div class=\"field field-name-body field-type-t...   \n",
       "13  <div class=\"field field-name-body field-type-t...   \n",
       "14  <div class=\"field field-name-body field-type-t...   \n",
       "\n",
       "                                         main_html_v8  \\\n",
       "0   \\r\\nRussian forces entered major Ukrainian cit...   \n",
       "1   \\r\\nRussian forces’ main axes of advance in th...   \n",
       "2   \\r\\nThe Russian military has likely recognized...   \n",
       "3   The Russian military is reorganizing its milit...   \n",
       "4   Russian forces are completing the reinforcemen...   \n",
       "5   Russian forces resumed offensive operations in...   \n",
       "6   \\r\\nwith the Critical Threats Project, AEI\\r\\n...   \n",
       "7   \\r\\nwith the Critical Threats Project, AEI\\r\\n...   \n",
       "8   \\r\\nThe early announcement of the  spring draf...   \n",
       "9   \\r\\nwith the Critical Threats Project, AEI\\r\\n...   \n",
       "10  Russian forces are concentrating in the easter...   \n",
       "11  Russian forces continued concentrating in the ...   \n",
       "12  Russian operations to continue the encirclemen...   \n",
       "13  The likelihood is increasing that Ukrainian fo...   \n",
       "14  Russian ground forces attempting to encircle a...   \n",
       "\n",
       "                                            main_html  \\\n",
       "0   \\r\\nrussian forces entered major ukrainian cit...   \n",
       "1   \\r\\nrussian forces’ main axes of advance in th...   \n",
       "2   \\r\\nthe russian military has likely recognized...   \n",
       "3   the russian military is reorganizing its milit...   \n",
       "4   russian forces are completing the reinforcemen...   \n",
       "5   russian forces resumed offensive operations in...   \n",
       "6   \\r\\nwith the critical threats project, aei\\r\\n...   \n",
       "7   \\r\\nwith the critical threats project, aei\\r\\n...   \n",
       "8   \\r\\nthe early announcement of the  spring draf...   \n",
       "9   \\r\\nwith the critical threats project, aei\\r\\n...   \n",
       "10  russian forces are concentrating in the easter...   \n",
       "11  russian forces continued concentrating in the ...   \n",
       "12  russian operations to continue the encirclemen...   \n",
       "13  the likelihood is increasing that ukrainian fo...   \n",
       "14  russian ground forces attempting to encircle a...   \n",
       "\n",
       "                                           main_html1  \\\n",
       "0     russian forces entered major ukrainian citie...   \n",
       "1     russian forces’ main axes of advance in the ...   \n",
       "2     the russian military has likely recognized t...   \n",
       "3   the russian military is reorganizing its milit...   \n",
       "4   russian forces are completing the reinforcemen...   \n",
       "5   russian forces resumed offensive operations in...   \n",
       "6     with the critical threats project, aei  marc...   \n",
       "7     with the critical threats project, aei  marc...   \n",
       "8     the early announcement of the  spring draft ...   \n",
       "9     with the critical threats project, aei  marc...   \n",
       "10  russian forces are concentrating in the easter...   \n",
       "11  russian forces continued concentrating in the ...   \n",
       "12  russian operations to continue the encirclemen...   \n",
       "13  the likelihood is increasing that ukrainian fo...   \n",
       "14  russian ground forces attempting to encircle a...   \n",
       "\n",
       "                                           main_html2  \\\n",
       "0     russian forces entered major ukrainian citie...   \n",
       "1     russian forces’ main axes of advance in the ...   \n",
       "2     the russian military has likely recognized t...   \n",
       "3   the russian military is reorganizing its milit...   \n",
       "4   russian forces are completing the reinforcemen...   \n",
       "5   russian forces resumed offensive operations in...   \n",
       "6     with the critical threats project  aei  marc...   \n",
       "7     with the critical threats project  aei  marc...   \n",
       "8     the early announcement of the  spring draft ...   \n",
       "9     with the critical threats project  aei  marc...   \n",
       "10  russian forces are concentrating in the easter...   \n",
       "11  russian forces continued concentrating in the ...   \n",
       "12  russian operations to continue the encirclemen...   \n",
       "13  the likelihood is increasing that ukrainian fo...   \n",
       "14  russian ground forces attempting to encircle a...   \n",
       "\n",
       "                                           main_html3  \\\n",
       "0    russian forces entered major ukrainian cities...   \n",
       "1    russian forces main axes of advance in the la...   \n",
       "2    the russian military has likely recognized th...   \n",
       "3    the russian military is reorganizing its mili...   \n",
       "4    russian forces are completing the reinforceme...   \n",
       "5    russian forces resumed offensive operations i...   \n",
       "6    with the critical threats project aei march i...   \n",
       "7    with the critical threats project aei march i...   \n",
       "8    the early announcement of the spring draft is...   \n",
       "9    with the critical threats project aei march i...   \n",
       "10   russian forces are concentrating in the easte...   \n",
       "11   russian forces continued concentrating in the...   \n",
       "12   russian operations to continue the encircleme...   \n",
       "13   the likelihood is increasing that ukrainian f...   \n",
       "14   russian ground forces attempting to encircle ...   \n",
       "\n",
       "                                           main_html4  \\\n",
       "0    russian forces entered major ukrainian cities...   \n",
       "1    russian forces main axes advance last twenty ...   \n",
       "2    russian military likely recognized initial ex...   \n",
       "3    russian military reorganizing military effort...   \n",
       "4    russian forces completing reinforcement resup...   \n",
       "5    russian forces resumed offensive operations s...   \n",
       "6    critical threats project aei march isw publis...   \n",
       "7    critical threats project aei march isw publis...   \n",
       "8    early announcement spring draft unlikely incr...   \n",
       "9    critical threats project aei march isw publis...   \n",
       "10   russian forces concentrating eastern northwes...   \n",
       "11   russian forces continued concentrating easter...   \n",
       "12   russian operations continue encirclement assa...   \n",
       "13   likelihood increasing ukrainian forces could ...   \n",
       "14   russian ground forces attempting encircle tak...   \n",
       "\n",
       "                                         data_stemmed  \\\n",
       "0    russian forc enter major ukrainian cities—inc...   \n",
       "1    russian forc main axe advanc last twenti four...   \n",
       "2    russian militari like recogn initi expect lim...   \n",
       "3    russian militari reorgan militari effort atte...   \n",
       "4    russian forc complet reinforc resuppli troop ...   \n",
       "5    russian forc resum offens oper support envelo...   \n",
       "6    critic threat project aei march isw publish r...   \n",
       "7    critic threat project aei march isw publish r...   \n",
       "8    earli announc spring draft unlik increas russ...   \n",
       "9    critic threat project aei march isw publish r...   \n",
       "10   russian forc concentr eastern northwestern we...   \n",
       "11   russian forc continu concentr eastern northwe...   \n",
       "12   russian oper continu encircl assault kyiv lik...   \n",
       "13   likelihood increas ukrainian forc could fight...   \n",
       "14   russian ground forc attempt encircl take kyiv...   \n",
       "\n",
       "                                      data_lemmatized  \n",
       "0    russian force entered major ukrainian cities—...  \n",
       "1    russian force main ax advance last twenty fou...  \n",
       "2    russian military likely recognized initial ex...  \n",
       "3    russian military reorganizing military effort...  \n",
       "4    russian force completing reinforcement resupp...  \n",
       "5    russian force resumed offensive operation sup...  \n",
       "6    critical threat project aei march isw publish...  \n",
       "7    critical threat project aei march isw publish...  \n",
       "8    early announcement spring draft unlikely incr...  \n",
       "9    critical threat project aei march isw publish...  \n",
       "10   russian force concentrating eastern northwest...  \n",
       "11   russian force continued concentrating eastern...  \n",
       "12   russian operation continue encirclement assau...  \n",
       "13   likelihood increasing ukrainian force could f...  \n",
       "14   russian ground force attempting encircle take...  "
      ]
     },
     "execution_count": 347,
     "metadata": {},
     "output_type": "execute_result"
    }
   ],
   "source": [
    "df.head(15)"
   ]
  },
  {
   "cell_type": "code",
   "execution_count": 354,
   "metadata": {
    "collapsed": false,
    "pycharm": {
     "name": "#%%\n"
    }
   },
   "outputs": [],
   "source": [
    "df.to_csv(f\"{OUTPUT_FOLDER}/{OUTPUT_DATA_FILE}\", sep=\";\", index=False)"
   ]
  },
  {
   "cell_type": "code",
   "execution_count": 350,
   "metadata": {
    "collapsed": false,
    "pycharm": {
     "name": "#%%\n"
    }
   },
   "outputs": [
    {
     "data": {
      "text/html": [
       "<div>\n",
       "<style scoped>\n",
       "    .dataframe tbody tr th:only-of-type {\n",
       "        vertical-align: middle;\n",
       "    }\n",
       "\n",
       "    .dataframe tbody tr th {\n",
       "        vertical-align: top;\n",
       "    }\n",
       "\n",
       "    .dataframe thead th {\n",
       "        text-align: right;\n",
       "    }\n",
       "</style>\n",
       "<table border=\"1\" class=\"dataframe\">\n",
       "  <thead>\n",
       "    <tr style=\"text-align: right;\">\n",
       "      <th></th>\n",
       "      <th>date</th>\n",
       "      <th>data_stemmed</th>\n",
       "      <th>data_lemmatized</th>\n",
       "    </tr>\n",
       "  </thead>\n",
       "  <tbody>\n",
       "    <tr>\n",
       "      <th>0</th>\n",
       "      <td>2022-02-25</td>\n",
       "      <td>russian forc enter major ukrainian cities—inc...</td>\n",
       "      <td>russian force entered major ukrainian cities—...</td>\n",
       "    </tr>\n",
       "    <tr>\n",
       "      <th>1</th>\n",
       "      <td>2022-02-26</td>\n",
       "      <td>russian forc main axe advanc last twenti four...</td>\n",
       "      <td>russian force main ax advance last twenty fou...</td>\n",
       "    </tr>\n",
       "    <tr>\n",
       "      <th>2</th>\n",
       "      <td>2022-02-27</td>\n",
       "      <td>russian militari like recogn initi expect lim...</td>\n",
       "      <td>russian military likely recognized initial ex...</td>\n",
       "    </tr>\n",
       "    <tr>\n",
       "      <th>3</th>\n",
       "      <td>2022-02-28</td>\n",
       "      <td>russian militari reorgan militari effort atte...</td>\n",
       "      <td>russian military reorganizing military effort...</td>\n",
       "    </tr>\n",
       "    <tr>\n",
       "      <th>4</th>\n",
       "      <td>2022-03-01</td>\n",
       "      <td>russian forc complet reinforc resuppli troop ...</td>\n",
       "      <td>russian force completing reinforcement resupp...</td>\n",
       "    </tr>\n",
       "    <tr>\n",
       "      <th>...</th>\n",
       "      <td>...</td>\n",
       "      <td>...</td>\n",
       "      <td>...</td>\n",
       "    </tr>\n",
       "    <tr>\n",
       "      <th>319</th>\n",
       "      <td>2023-01-16</td>\n",
       "      <td>click see isw interact map russian invas ukra...</td>\n",
       "      <td>click see isw interactive map russian invasio...</td>\n",
       "    </tr>\n",
       "    <tr>\n",
       "      <th>320</th>\n",
       "      <td>2023-01-17</td>\n",
       "      <td>kateryna stepanenko karolina hird riley baile...</td>\n",
       "      <td>kateryna stepanenko karolina hird riley baile...</td>\n",
       "    </tr>\n",
       "    <tr>\n",
       "      <th>321</th>\n",
       "      <td>2023-01-18</td>\n",
       "      <td>click see isw interact map russian invas ukra...</td>\n",
       "      <td>click see isw interactive map russian invasio...</td>\n",
       "    </tr>\n",
       "    <tr>\n",
       "      <th>322</th>\n",
       "      <td>2023-01-19</td>\n",
       "      <td>georg barro riley bailey kateryna stepanenko ...</td>\n",
       "      <td>george barros riley bailey kateryna stepanenk...</td>\n",
       "    </tr>\n",
       "    <tr>\n",
       "      <th>323</th>\n",
       "      <td>2023-01-20</td>\n",
       "      <td>kateryna stepanenko karolina hird riley baile...</td>\n",
       "      <td>kateryna stepanenko karolina hird riley baile...</td>\n",
       "    </tr>\n",
       "  </tbody>\n",
       "</table>\n",
       "<p>324 rows × 3 columns</p>\n",
       "</div>"
      ],
      "text/plain": [
       "           date                                       data_stemmed  \\\n",
       "0    2022-02-25   russian forc enter major ukrainian cities—inc...   \n",
       "1    2022-02-26   russian forc main axe advanc last twenti four...   \n",
       "2    2022-02-27   russian militari like recogn initi expect lim...   \n",
       "3    2022-02-28   russian militari reorgan militari effort atte...   \n",
       "4    2022-03-01   russian forc complet reinforc resuppli troop ...   \n",
       "..          ...                                                ...   \n",
       "319  2023-01-16   click see isw interact map russian invas ukra...   \n",
       "320  2023-01-17   kateryna stepanenko karolina hird riley baile...   \n",
       "321  2023-01-18   click see isw interact map russian invas ukra...   \n",
       "322  2023-01-19   georg barro riley bailey kateryna stepanenko ...   \n",
       "323  2023-01-20   kateryna stepanenko karolina hird riley baile...   \n",
       "\n",
       "                                       data_lemmatized  \n",
       "0     russian force entered major ukrainian cities—...  \n",
       "1     russian force main ax advance last twenty fou...  \n",
       "2     russian military likely recognized initial ex...  \n",
       "3     russian military reorganizing military effort...  \n",
       "4     russian force completing reinforcement resupp...  \n",
       "..                                                 ...  \n",
       "319   click see isw interactive map russian invasio...  \n",
       "320   kateryna stepanenko karolina hird riley baile...  \n",
       "321   click see isw interactive map russian invasio...  \n",
       "322   george barros riley bailey kateryna stepanenk...  \n",
       "323   kateryna stepanenko karolina hird riley baile...  \n",
       "\n",
       "[324 rows x 3 columns]"
      ]
     },
     "execution_count": 350,
     "metadata": {},
     "output_type": "execute_result"
    }
   ],
   "source": [
    "#df[['date', 'data_stemmed', 'data_lemmatized']]"
   ]
  },
  {
   "cell_type": "code",
   "execution_count": 355,
   "metadata": {
    "collapsed": false,
    "pycharm": {
     "name": "#%%\n"
    }
   },
   "outputs": [],
   "source": [
    "df = pd.read_csv(f\"{OUTPUT_FOLDER}/{OUTPUT_DATA_FILE}\", sep=\";\")"
   ]
  },
  {
   "cell_type": "code",
   "execution_count": 356,
   "metadata": {
    "collapsed": false,
    "pycharm": {
     "name": "#%%\n"
    }
   },
   "outputs": [
    {
     "data": {
      "text/html": [
       "<div>\n",
       "<style scoped>\n",
       "    .dataframe tbody tr th:only-of-type {\n",
       "        vertical-align: middle;\n",
       "    }\n",
       "\n",
       "    .dataframe tbody tr th {\n",
       "        vertical-align: top;\n",
       "    }\n",
       "\n",
       "    .dataframe thead th {\n",
       "        text-align: right;\n",
       "    }\n",
       "</style>\n",
       "<table border=\"1\" class=\"dataframe\">\n",
       "  <thead>\n",
       "    <tr style=\"text-align: right;\">\n",
       "      <th></th>\n",
       "      <th>Unnamed: 0</th>\n",
       "      <th>date</th>\n",
       "      <th>title</th>\n",
       "      <th>text_title</th>\n",
       "      <th>text_main</th>\n",
       "      <th>main_html_v8</th>\n",
       "      <th>main_html</th>\n",
       "      <th>main_html1</th>\n",
       "      <th>main_html2</th>\n",
       "      <th>main_html3</th>\n",
       "      <th>main_html4</th>\n",
       "      <th>data_stemmed</th>\n",
       "      <th>data_lemmatized</th>\n",
       "    </tr>\n",
       "  </thead>\n",
       "  <tbody>\n",
       "    <tr>\n",
       "      <th>0</th>\n",
       "      <td>0</td>\n",
       "      <td>2022-02-25</td>\n",
       "      <td>Russia-Ukraine Warning Update: Russian Offensi...</td>\n",
       "      <td>Russian Offensive Campaign Assessment, January...</td>\n",
       "      <td>&lt;div class=\"field field-name-body field-type-t...</td>\n",
       "      <td>\\r\\nRussian forces entered major Ukrainian cit...</td>\n",
       "      <td>\\r\\nrussian forces entered major ukrainian cit...</td>\n",
       "      <td>russian forces entered major ukrainian citie...</td>\n",
       "      <td>russian forces entered major ukrainian citie...</td>\n",
       "      <td>russian forces entered major ukrainian cities...</td>\n",
       "      <td>russian forces entered major ukrainian cities...</td>\n",
       "      <td>russian forc enter major ukrainian cities—inc...</td>\n",
       "      <td>russian force entered major ukrainian cities—...</td>\n",
       "    </tr>\n",
       "    <tr>\n",
       "      <th>1</th>\n",
       "      <td>1</td>\n",
       "      <td>2022-02-26</td>\n",
       "      <td>Russia-Ukraine Warning Update: Russian Offensi...</td>\n",
       "      <td>Russian Offensive Campaign Assessment, January...</td>\n",
       "      <td>&lt;div class=\"field field-name-body field-type-t...</td>\n",
       "      <td>\\r\\nRussian forces’ main axes of advance in th...</td>\n",
       "      <td>\\r\\nrussian forces’ main axes of advance in th...</td>\n",
       "      <td>russian forces’ main axes of advance in the ...</td>\n",
       "      <td>russian forces’ main axes of advance in the ...</td>\n",
       "      <td>russian forces main axes of advance in the la...</td>\n",
       "      <td>russian forces main axes advance last twenty ...</td>\n",
       "      <td>russian forc main axe advanc last twenti four...</td>\n",
       "      <td>russian force main ax advance last twenty fou...</td>\n",
       "    </tr>\n",
       "    <tr>\n",
       "      <th>2</th>\n",
       "      <td>2</td>\n",
       "      <td>2022-02-27</td>\n",
       "      <td>Russia-Ukraine Warning Update: Russian Offensi...</td>\n",
       "      <td>Russian Offensive Campaign Assessment, January...</td>\n",
       "      <td>&lt;div class=\"field field-name-body field-type-t...</td>\n",
       "      <td>\\r\\nThe Russian military has likely recognized...</td>\n",
       "      <td>\\r\\nthe russian military has likely recognized...</td>\n",
       "      <td>the russian military has likely recognized t...</td>\n",
       "      <td>the russian military has likely recognized t...</td>\n",
       "      <td>the russian military has likely recognized th...</td>\n",
       "      <td>russian military likely recognized initial ex...</td>\n",
       "      <td>russian militari like recogn initi expect lim...</td>\n",
       "      <td>russian military likely recognized initial ex...</td>\n",
       "    </tr>\n",
       "    <tr>\n",
       "      <th>3</th>\n",
       "      <td>3</td>\n",
       "      <td>2022-02-28</td>\n",
       "      <td>Russian Offensive Campaign Assessment, Februar...</td>\n",
       "      <td>Russian Offensive Campaign Assessment, January...</td>\n",
       "      <td>&lt;div class=\"field field-name-body field-type-t...</td>\n",
       "      <td>The Russian military is reorganizing its milit...</td>\n",
       "      <td>the russian military is reorganizing its milit...</td>\n",
       "      <td>the russian military is reorganizing its milit...</td>\n",
       "      <td>the russian military is reorganizing its milit...</td>\n",
       "      <td>the russian military is reorganizing its mili...</td>\n",
       "      <td>russian military reorganizing military effort...</td>\n",
       "      <td>russian militari reorgan militari effort atte...</td>\n",
       "      <td>russian military reorganizing military effort...</td>\n",
       "    </tr>\n",
       "    <tr>\n",
       "      <th>4</th>\n",
       "      <td>4</td>\n",
       "      <td>2022-03-01</td>\n",
       "      <td>Russian Offensive Campaign Assessment, March 1...</td>\n",
       "      <td>Russian Offensive Campaign Assessment, January...</td>\n",
       "      <td>&lt;div class=\"field field-name-body field-type-t...</td>\n",
       "      <td>Russian forces are completing the reinforcemen...</td>\n",
       "      <td>russian forces are completing the reinforcemen...</td>\n",
       "      <td>russian forces are completing the reinforcemen...</td>\n",
       "      <td>russian forces are completing the reinforcemen...</td>\n",
       "      <td>russian forces are completing the reinforceme...</td>\n",
       "      <td>russian forces completing reinforcement resup...</td>\n",
       "      <td>russian forc complet reinforc resuppli troop ...</td>\n",
       "      <td>russian force completing reinforcement resupp...</td>\n",
       "    </tr>\n",
       "  </tbody>\n",
       "</table>\n",
       "</div>"
      ],
      "text/plain": [
       "   Unnamed: 0        date                                              title  \\\n",
       "0           0  2022-02-25  Russia-Ukraine Warning Update: Russian Offensi...   \n",
       "1           1  2022-02-26  Russia-Ukraine Warning Update: Russian Offensi...   \n",
       "2           2  2022-02-27  Russia-Ukraine Warning Update: Russian Offensi...   \n",
       "3           3  2022-02-28  Russian Offensive Campaign Assessment, Februar...   \n",
       "4           4  2022-03-01  Russian Offensive Campaign Assessment, March 1...   \n",
       "\n",
       "                                          text_title  \\\n",
       "0  Russian Offensive Campaign Assessment, January...   \n",
       "1  Russian Offensive Campaign Assessment, January...   \n",
       "2  Russian Offensive Campaign Assessment, January...   \n",
       "3  Russian Offensive Campaign Assessment, January...   \n",
       "4  Russian Offensive Campaign Assessment, January...   \n",
       "\n",
       "                                           text_main  \\\n",
       "0  <div class=\"field field-name-body field-type-t...   \n",
       "1  <div class=\"field field-name-body field-type-t...   \n",
       "2  <div class=\"field field-name-body field-type-t...   \n",
       "3  <div class=\"field field-name-body field-type-t...   \n",
       "4  <div class=\"field field-name-body field-type-t...   \n",
       "\n",
       "                                        main_html_v8  \\\n",
       "0  \\r\\nRussian forces entered major Ukrainian cit...   \n",
       "1  \\r\\nRussian forces’ main axes of advance in th...   \n",
       "2  \\r\\nThe Russian military has likely recognized...   \n",
       "3  The Russian military is reorganizing its milit...   \n",
       "4  Russian forces are completing the reinforcemen...   \n",
       "\n",
       "                                           main_html  \\\n",
       "0  \\r\\nrussian forces entered major ukrainian cit...   \n",
       "1  \\r\\nrussian forces’ main axes of advance in th...   \n",
       "2  \\r\\nthe russian military has likely recognized...   \n",
       "3  the russian military is reorganizing its milit...   \n",
       "4  russian forces are completing the reinforcemen...   \n",
       "\n",
       "                                          main_html1  \\\n",
       "0    russian forces entered major ukrainian citie...   \n",
       "1    russian forces’ main axes of advance in the ...   \n",
       "2    the russian military has likely recognized t...   \n",
       "3  the russian military is reorganizing its milit...   \n",
       "4  russian forces are completing the reinforcemen...   \n",
       "\n",
       "                                          main_html2  \\\n",
       "0    russian forces entered major ukrainian citie...   \n",
       "1    russian forces’ main axes of advance in the ...   \n",
       "2    the russian military has likely recognized t...   \n",
       "3  the russian military is reorganizing its milit...   \n",
       "4  russian forces are completing the reinforcemen...   \n",
       "\n",
       "                                          main_html3  \\\n",
       "0   russian forces entered major ukrainian cities...   \n",
       "1   russian forces main axes of advance in the la...   \n",
       "2   the russian military has likely recognized th...   \n",
       "3   the russian military is reorganizing its mili...   \n",
       "4   russian forces are completing the reinforceme...   \n",
       "\n",
       "                                          main_html4  \\\n",
       "0   russian forces entered major ukrainian cities...   \n",
       "1   russian forces main axes advance last twenty ...   \n",
       "2   russian military likely recognized initial ex...   \n",
       "3   russian military reorganizing military effort...   \n",
       "4   russian forces completing reinforcement resup...   \n",
       "\n",
       "                                        data_stemmed  \\\n",
       "0   russian forc enter major ukrainian cities—inc...   \n",
       "1   russian forc main axe advanc last twenti four...   \n",
       "2   russian militari like recogn initi expect lim...   \n",
       "3   russian militari reorgan militari effort atte...   \n",
       "4   russian forc complet reinforc resuppli troop ...   \n",
       "\n",
       "                                     data_lemmatized  \n",
       "0   russian force entered major ukrainian cities—...  \n",
       "1   russian force main ax advance last twenty fou...  \n",
       "2   russian military likely recognized initial ex...  \n",
       "3   russian military reorganizing military effort...  \n",
       "4   russian force completing reinforcement resupp...  "
      ]
     },
     "execution_count": 356,
     "metadata": {},
     "output_type": "execute_result"
    }
   ],
   "source": [
    "df.head(5)"
   ]
  },
  {
   "cell_type": "code",
   "execution_count": 357,
   "metadata": {
    "collapsed": false,
    "pycharm": {
     "name": "#%%\n"
    }
   },
   "outputs": [
    {
     "data": {
      "text/plain": [
       "324"
      ]
     },
     "execution_count": 357,
     "metadata": {},
     "output_type": "execute_result"
    }
   ],
   "source": [
    "docs = df['data_lemmatized'].tolist()\n",
    "len(docs)"
   ]
  },
  {
   "cell_type": "code",
   "execution_count": 359,
   "metadata": {
    "collapsed": false,
    "pycharm": {
     "name": "#%%\n"
    }
   },
   "outputs": [
    {
     "data": {
      "text/plain": [
       "(324, 8972)"
      ]
     },
     "execution_count": 359,
     "metadata": {},
     "output_type": "execute_result"
    }
   ],
   "source": [
    "from sklearn.feature_extraction.text import CountVectorizer, TfidfVectorizer, TfidfTransformer\n",
    "cv = CountVectorizer(max_df=0.98, min_df=2)\n",
    "word_count_vector = cv.fit_transform(docs)\n",
    "word_count_vector.shape"
   ]
  },
  {
   "cell_type": "code",
   "execution_count": 362,
   "metadata": {
    "collapsed": false,
    "pycharm": {
     "name": "#%%\n"
    }
   },
   "outputs": [],
   "source": [
    "import pickle\n",
    "with open(\"./model/count_vectorizer_v1.pkl\", 'wb') as handle:\n",
    "    pickle.dump(cv, handle)"
   ]
  },
  {
   "cell_type": "code",
   "execution_count": 363,
   "metadata": {
    "collapsed": false,
    "pycharm": {
     "name": "#%%\n"
    }
   },
   "outputs": [
    {
     "data": {
      "text/html": [
       "<style>#sk-container-id-1 {color: black;background-color: white;}#sk-container-id-1 pre{padding: 0;}#sk-container-id-1 div.sk-toggleable {background-color: white;}#sk-container-id-1 label.sk-toggleable__label {cursor: pointer;display: block;width: 100%;margin-bottom: 0;padding: 0.3em;box-sizing: border-box;text-align: center;}#sk-container-id-1 label.sk-toggleable__label-arrow:before {content: \"▸\";float: left;margin-right: 0.25em;color: #696969;}#sk-container-id-1 label.sk-toggleable__label-arrow:hover:before {color: black;}#sk-container-id-1 div.sk-estimator:hover label.sk-toggleable__label-arrow:before {color: black;}#sk-container-id-1 div.sk-toggleable__content {max-height: 0;max-width: 0;overflow: hidden;text-align: left;background-color: #f0f8ff;}#sk-container-id-1 div.sk-toggleable__content pre {margin: 0.2em;color: black;border-radius: 0.25em;background-color: #f0f8ff;}#sk-container-id-1 input.sk-toggleable__control:checked~div.sk-toggleable__content {max-height: 200px;max-width: 100%;overflow: auto;}#sk-container-id-1 input.sk-toggleable__control:checked~label.sk-toggleable__label-arrow:before {content: \"▾\";}#sk-container-id-1 div.sk-estimator input.sk-toggleable__control:checked~label.sk-toggleable__label {background-color: #d4ebff;}#sk-container-id-1 div.sk-label input.sk-toggleable__control:checked~label.sk-toggleable__label {background-color: #d4ebff;}#sk-container-id-1 input.sk-hidden--visually {border: 0;clip: rect(1px 1px 1px 1px);clip: rect(1px, 1px, 1px, 1px);height: 1px;margin: -1px;overflow: hidden;padding: 0;position: absolute;width: 1px;}#sk-container-id-1 div.sk-estimator {font-family: monospace;background-color: #f0f8ff;border: 1px dotted black;border-radius: 0.25em;box-sizing: border-box;margin-bottom: 0.5em;}#sk-container-id-1 div.sk-estimator:hover {background-color: #d4ebff;}#sk-container-id-1 div.sk-parallel-item::after {content: \"\";width: 100%;border-bottom: 1px solid gray;flex-grow: 1;}#sk-container-id-1 div.sk-label:hover label.sk-toggleable__label {background-color: #d4ebff;}#sk-container-id-1 div.sk-serial::before {content: \"\";position: absolute;border-left: 1px solid gray;box-sizing: border-box;top: 0;bottom: 0;left: 50%;z-index: 0;}#sk-container-id-1 div.sk-serial {display: flex;flex-direction: column;align-items: center;background-color: white;padding-right: 0.2em;padding-left: 0.2em;position: relative;}#sk-container-id-1 div.sk-item {position: relative;z-index: 1;}#sk-container-id-1 div.sk-parallel {display: flex;align-items: stretch;justify-content: center;background-color: white;position: relative;}#sk-container-id-1 div.sk-item::before, #sk-container-id-1 div.sk-parallel-item::before {content: \"\";position: absolute;border-left: 1px solid gray;box-sizing: border-box;top: 0;bottom: 0;left: 50%;z-index: -1;}#sk-container-id-1 div.sk-parallel-item {display: flex;flex-direction: column;z-index: 1;position: relative;background-color: white;}#sk-container-id-1 div.sk-parallel-item:first-child::after {align-self: flex-end;width: 50%;}#sk-container-id-1 div.sk-parallel-item:last-child::after {align-self: flex-start;width: 50%;}#sk-container-id-1 div.sk-parallel-item:only-child::after {width: 0;}#sk-container-id-1 div.sk-dashed-wrapped {border: 1px dashed gray;margin: 0 0.4em 0.5em 0.4em;box-sizing: border-box;padding-bottom: 0.4em;background-color: white;}#sk-container-id-1 div.sk-label label {font-family: monospace;font-weight: bold;display: inline-block;line-height: 1.2em;}#sk-container-id-1 div.sk-label-container {text-align: center;}#sk-container-id-1 div.sk-container {/* jupyter's `normalize.less` sets `[hidden] { display: none; }` but bootstrap.min.css set `[hidden] { display: none !important; }` so we also need the `!important` here to be able to override the default hidden behavior on the sphinx rendered scikit-learn.org. See: https://github.com/scikit-learn/scikit-learn/issues/21755 */display: inline-block !important;position: relative;}#sk-container-id-1 div.sk-text-repr-fallback {display: none;}</style><div id=\"sk-container-id-1\" class=\"sk-top-container\"><div class=\"sk-text-repr-fallback\"><pre>TfidfTransformer()</pre><b>In a Jupyter environment, please rerun this cell to show the HTML representation or trust the notebook. <br />On GitHub, the HTML representation is unable to render, please try loading this page with nbviewer.org.</b></div><div class=\"sk-container\" hidden><div class=\"sk-item\"><div class=\"sk-estimator sk-toggleable\"><input class=\"sk-toggleable__control sk-hidden--visually\" id=\"sk-estimator-id-1\" type=\"checkbox\" checked><label for=\"sk-estimator-id-1\" class=\"sk-toggleable__label sk-toggleable__label-arrow\">TfidfTransformer</label><div class=\"sk-toggleable__content\"><pre>TfidfTransformer()</pre></div></div></div></div></div>"
      ],
      "text/plain": [
       "TfidfTransformer()"
      ]
     },
     "execution_count": 363,
     "metadata": {},
     "output_type": "execute_result"
    }
   ],
   "source": [
    "tfidf_transformer = TfidfTransformer(smooth_idf=True,use_idf=True,)\n",
    "tfidf_transformer.fit(word_count_vector)"
   ]
  },
  {
   "cell_type": "code",
   "execution_count": 364,
   "metadata": {
    "collapsed": false,
    "pycharm": {
     "name": "#%%\n"
    }
   },
   "outputs": [],
   "source": [
    "with open(\"model/tfidf_transformer_v1.pkl\", 'wb') as handle:\n",
    "    pickle.dump(tfidf_transformer, handle)"
   ]
  },
  {
   "cell_type": "code",
   "execution_count": 365,
   "metadata": {
    "collapsed": false,
    "pycharm": {
     "name": "#%%\n"
    }
   },
   "outputs": [
    {
     "data": {
      "text/html": [
       "<div>\n",
       "<style scoped>\n",
       "    .dataframe tbody tr th:only-of-type {\n",
       "        vertical-align: middle;\n",
       "    }\n",
       "\n",
       "    .dataframe tbody tr th {\n",
       "        vertical-align: top;\n",
       "    }\n",
       "\n",
       "    .dataframe thead th {\n",
       "        text-align: right;\n",
       "    }\n",
       "</style>\n",
       "<table border=\"1\" class=\"dataframe\">\n",
       "  <thead>\n",
       "    <tr style=\"text-align: right;\">\n",
       "      <th></th>\n",
       "      <th>idf_weights</th>\n",
       "    </tr>\n",
       "  </thead>\n",
       "  <tbody>\n",
       "    <tr>\n",
       "      <th>area</th>\n",
       "      <td>1.021774</td>\n",
       "    </tr>\n",
       "    <tr>\n",
       "      <th>kharkiv</th>\n",
       "      <td>1.021774</td>\n",
       "    </tr>\n",
       "    <tr>\n",
       "      <th>attack</th>\n",
       "      <td>1.024923</td>\n",
       "    </tr>\n",
       "    <tr>\n",
       "      <th>combat</th>\n",
       "      <td>1.028083</td>\n",
       "    </tr>\n",
       "    <tr>\n",
       "      <th>position</th>\n",
       "      <td>1.028083</td>\n",
       "    </tr>\n",
       "    <tr>\n",
       "      <th>...</th>\n",
       "      <td>...</td>\n",
       "    </tr>\n",
       "    <tr>\n",
       "      <th>militaristic</th>\n",
       "      <td>5.685213</td>\n",
       "    </tr>\n",
       "    <tr>\n",
       "      <th>mimic</th>\n",
       "      <td>5.685213</td>\n",
       "    </tr>\n",
       "    <tr>\n",
       "      <th>minefield</th>\n",
       "      <td>5.685213</td>\n",
       "    </tr>\n",
       "    <tr>\n",
       "      <th>mineralne</th>\n",
       "      <td>5.685213</td>\n",
       "    </tr>\n",
       "    <tr>\n",
       "      <th>сухопутныи</th>\n",
       "      <td>5.685213</td>\n",
       "    </tr>\n",
       "  </tbody>\n",
       "</table>\n",
       "<p>8972 rows × 1 columns</p>\n",
       "</div>"
      ],
      "text/plain": [
       "              idf_weights\n",
       "area             1.021774\n",
       "kharkiv          1.021774\n",
       "attack           1.024923\n",
       "combat           1.028083\n",
       "position         1.028083\n",
       "...                   ...\n",
       "militaristic     5.685213\n",
       "mimic            5.685213\n",
       "minefield        5.685213\n",
       "mineralne        5.685213\n",
       "сухопутныи       5.685213\n",
       "\n",
       "[8972 rows x 1 columns]"
      ]
     },
     "execution_count": 365,
     "metadata": {},
     "output_type": "execute_result"
    }
   ],
   "source": [
    "df_idf = pd.DataFrame(tfidf_transformer.idf_, index=cv.get_feature_names_out(), columns=[\"idf_weights\"])\n",
    "df_idf.sort_values(by=['idf_weights'])"
   ]
  },
  {
   "cell_type": "code",
   "execution_count": 366,
   "metadata": {
    "collapsed": false,
    "pycharm": {
     "name": "#%%\n"
    }
   },
   "outputs": [],
   "source": [
    "tf_idf_vector = tfidf_transformer.transform(word_count_vector)"
   ]
  },
  {
   "cell_type": "code",
   "execution_count": 368,
   "metadata": {
    "collapsed": false,
    "pycharm": {
     "name": "#%%\n"
    }
   },
   "outputs": [],
   "source": [
    "tfidf = pickle.load(open(\"model/tfidf_transformer_v1.pkl\", \"rb\"))\n",
    "cv = pickle.load(open(\"model/count_vectorizer_v1.pkl\", \"rb\"))"
   ]
  },
  {
   "cell_type": "code",
   "execution_count": 369,
   "metadata": {
    "collapsed": false,
    "pycharm": {
     "name": "#%%\n"
    }
   },
   "outputs": [],
   "source": [
    "feature_names = cv.get_feature_names_out()"
   ]
  },
  {
   "cell_type": "code",
   "execution_count": 370,
   "metadata": {
    "collapsed": false,
    "pycharm": {
     "name": "#%%\n"
    }
   },
   "outputs": [
    {
     "data": {
      "text/plain": [
       "array(['10', '100', '100km', ..., 'zyuganov', 'коридор', 'сухопутныи'],\n",
       "      dtype=object)"
      ]
     },
     "execution_count": 370,
     "metadata": {},
     "output_type": "execute_result"
    }
   ],
   "source": [
    "feature_names"
   ]
  },
  {
   "cell_type": "code",
   "execution_count": 371,
   "metadata": {
    "collapsed": false,
    "pycharm": {
     "name": "#%%\n"
    }
   },
   "outputs": [],
   "source": [
    "def sort_coo(coo_matrix):\n",
    "    tuples = zip(coo_matrix.col, coo_matrix.data)\n",
    "    return sorted(tuples, key=lambda x: (x[1], x[0]), reverse=True)\n",
    "\n",
    "def extract_topn_from_vector(feature_names, sorted_items, topn=10):\n",
    "    sorted_items = sorted_items[:topn]\n",
    "\n",
    "    score_vals = []\n",
    "    feature_vals = []\n",
    "\n",
    "    for idx, score in sorted_items:\n",
    "        score_vals.append(round(score, 3))\n",
    "        feature_vals.append(feature_names[idx])\n",
    "\n",
    "    results = {}\n",
    "\n",
    "    for idx in range(len(feature_vals)):\n",
    "        results[feature_vals[idx]]=score_vals[idx]\n",
    "    return results\n",
    "\n",
    "def conver_doc_to_vector(doc):\n",
    "    feature_names = cv.get_feature_names_out()\n",
    "    top_n = 100\n",
    "    tf_idf_vector = tfidf.transform(cv.transform([doc]))\n",
    "\n",
    "    sorted_items = sort_coo(tf_idf_vector.tocoo())\n",
    "\n",
    "    keywords = extract_topn_from_vector(feature_names, sorted_items, top_n)\n",
    "\n",
    "    return keywords"
   ]
  },
  {
   "cell_type": "code",
   "execution_count": 373,
   "metadata": {
    "collapsed": false,
    "pycharm": {
     "name": "#%%\n"
    }
   },
   "outputs": [],
   "source": [
    "df['keywords'] = df['data_lemmatized'].apply(lambda x: conver_doc_to_vector(x))"
   ]
  },
  {
   "cell_type": "code",
   "execution_count": 374,
   "metadata": {
    "collapsed": false,
    "pycharm": {
     "name": "#%%\n"
    }
   },
   "outputs": [
    {
     "data": {
      "text/html": [
       "<div>\n",
       "<style scoped>\n",
       "    .dataframe tbody tr th:only-of-type {\n",
       "        vertical-align: middle;\n",
       "    }\n",
       "\n",
       "    .dataframe tbody tr th {\n",
       "        vertical-align: top;\n",
       "    }\n",
       "\n",
       "    .dataframe thead th {\n",
       "        text-align: right;\n",
       "    }\n",
       "</style>\n",
       "<table border=\"1\" class=\"dataframe\">\n",
       "  <thead>\n",
       "    <tr style=\"text-align: right;\">\n",
       "      <th></th>\n",
       "      <th>Unnamed: 0</th>\n",
       "      <th>date</th>\n",
       "      <th>title</th>\n",
       "      <th>text_title</th>\n",
       "      <th>text_main</th>\n",
       "      <th>main_html_v8</th>\n",
       "      <th>main_html</th>\n",
       "      <th>main_html1</th>\n",
       "      <th>main_html2</th>\n",
       "      <th>main_html3</th>\n",
       "      <th>main_html4</th>\n",
       "      <th>data_stemmed</th>\n",
       "      <th>data_lemmatized</th>\n",
       "      <th>keywords</th>\n",
       "    </tr>\n",
       "  </thead>\n",
       "  <tbody>\n",
       "    <tr>\n",
       "      <th>0</th>\n",
       "      <td>0</td>\n",
       "      <td>2022-02-25</td>\n",
       "      <td>Russia-Ukraine Warning Update: Russian Offensi...</td>\n",
       "      <td>Russian Offensive Campaign Assessment, January...</td>\n",
       "      <td>&lt;div class=\"field field-name-body field-type-t...</td>\n",
       "      <td>\\r\\nRussian forces entered major Ukrainian cit...</td>\n",
       "      <td>\\r\\nrussian forces entered major ukrainian cit...</td>\n",
       "      <td>russian forces entered major ukrainian citie...</td>\n",
       "      <td>russian forces entered major ukrainian citie...</td>\n",
       "      <td>russian forces entered major ukrainian cities...</td>\n",
       "      <td>russian forces entered major ukrainian cities...</td>\n",
       "      <td>russian forc enter major ukrainian cities—inc...</td>\n",
       "      <td>russian force entered major ukrainian cities—...</td>\n",
       "      <td>{'february': 0.339, 'kyiv': 0.323, 'pm': 0.298...</td>\n",
       "    </tr>\n",
       "    <tr>\n",
       "      <th>1</th>\n",
       "      <td>1</td>\n",
       "      <td>2022-02-26</td>\n",
       "      <td>Russia-Ukraine Warning Update: Russian Offensi...</td>\n",
       "      <td>Russian Offensive Campaign Assessment, January...</td>\n",
       "      <td>&lt;div class=\"field field-name-body field-type-t...</td>\n",
       "      <td>\\r\\nRussian forces’ main axes of advance in th...</td>\n",
       "      <td>\\r\\nrussian forces’ main axes of advance in th...</td>\n",
       "      <td>russian forces’ main axes of advance in the ...</td>\n",
       "      <td>russian forces’ main axes of advance in the ...</td>\n",
       "      <td>russian forces main axes of advance in the la...</td>\n",
       "      <td>russian forces main axes advance last twenty ...</td>\n",
       "      <td>russian forc main axe advanc last twenti four...</td>\n",
       "      <td>russian force main ax advance last twenty fou...</td>\n",
       "      <td>{'february': 0.409, 'kyiv': 0.367, 'twenty': 0...</td>\n",
       "    </tr>\n",
       "    <tr>\n",
       "      <th>2</th>\n",
       "      <td>2</td>\n",
       "      <td>2022-02-27</td>\n",
       "      <td>Russia-Ukraine Warning Update: Russian Offensi...</td>\n",
       "      <td>Russian Offensive Campaign Assessment, January...</td>\n",
       "      <td>&lt;div class=\"field field-name-body field-type-t...</td>\n",
       "      <td>\\r\\nThe Russian military has likely recognized...</td>\n",
       "      <td>\\r\\nthe russian military has likely recognized...</td>\n",
       "      <td>the russian military has likely recognized t...</td>\n",
       "      <td>the russian military has likely recognized t...</td>\n",
       "      <td>the russian military has likely recognized th...</td>\n",
       "      <td>russian military likely recognized initial ex...</td>\n",
       "      <td>russian militari like recogn initi expect lim...</td>\n",
       "      <td>russian military likely recognized initial ex...</td>\n",
       "      <td>{'february': 0.496, 'seven': 0.35, 'twenty': 0...</td>\n",
       "    </tr>\n",
       "    <tr>\n",
       "      <th>3</th>\n",
       "      <td>3</td>\n",
       "      <td>2022-02-28</td>\n",
       "      <td>Russian Offensive Campaign Assessment, Februar...</td>\n",
       "      <td>Russian Offensive Campaign Assessment, January...</td>\n",
       "      <td>&lt;div class=\"field field-name-body field-type-t...</td>\n",
       "      <td>The Russian military is reorganizing its milit...</td>\n",
       "      <td>the russian military is reorganizing its milit...</td>\n",
       "      <td>the russian military is reorganizing its milit...</td>\n",
       "      <td>the russian military is reorganizing its milit...</td>\n",
       "      <td>the russian military is reorganizing its mili...</td>\n",
       "      <td>russian military reorganizing military effort...</td>\n",
       "      <td>russian militari reorgan militari effort atte...</td>\n",
       "      <td>russian military reorganizing military effort...</td>\n",
       "      <td>{'february': 0.553, 'eight': 0.348, 'twenty': ...</td>\n",
       "    </tr>\n",
       "    <tr>\n",
       "      <th>4</th>\n",
       "      <td>4</td>\n",
       "      <td>2022-03-01</td>\n",
       "      <td>Russian Offensive Campaign Assessment, March 1...</td>\n",
       "      <td>Russian Offensive Campaign Assessment, January...</td>\n",
       "      <td>&lt;div class=\"field field-name-body field-type-t...</td>\n",
       "      <td>Russian forces are completing the reinforcemen...</td>\n",
       "      <td>russian forces are completing the reinforcemen...</td>\n",
       "      <td>russian forces are completing the reinforcemen...</td>\n",
       "      <td>russian forces are completing the reinforcemen...</td>\n",
       "      <td>russian forces are completing the reinforceme...</td>\n",
       "      <td>russian forces completing reinforcement resup...</td>\n",
       "      <td>russian forc complet reinforc resuppli troop ...</td>\n",
       "      <td>russian force completing reinforcement resupp...</td>\n",
       "      <td>{'kyiv': 0.359, 'chernihiv': 0.219, 'hour': 0....</td>\n",
       "    </tr>\n",
       "    <tr>\n",
       "      <th>5</th>\n",
       "      <td>5</td>\n",
       "      <td>2022-03-02</td>\n",
       "      <td>Russian Offensive Campaign Assessment, March 2...</td>\n",
       "      <td>Russian Offensive Campaign Assessment, January...</td>\n",
       "      <td>&lt;div class=\"field field-name-body field-type-t...</td>\n",
       "      <td>Russian forces resumed offensive operations in...</td>\n",
       "      <td>russian forces resumed offensive operations in...</td>\n",
       "      <td>russian forces resumed offensive operations in...</td>\n",
       "      <td>russian forces resumed offensive operations in...</td>\n",
       "      <td>russian forces resumed offensive operations i...</td>\n",
       "      <td>russian forces resumed offensive operations s...</td>\n",
       "      <td>russian forc resum offens oper support envelo...</td>\n",
       "      <td>russian force resumed offensive operation sup...</td>\n",
       "      <td>{'march': 0.561, 'kyiv': 0.392, 'chernihiv': 0...</td>\n",
       "    </tr>\n",
       "    <tr>\n",
       "      <th>6</th>\n",
       "      <td>6</td>\n",
       "      <td>2022-03-03</td>\n",
       "      <td>Ukraine Conflict Update 14 | Institute for the...</td>\n",
       "      <td>Russian Offensive Campaign Assessment, January...</td>\n",
       "      <td>&lt;div class=\"field field-name-body field-type-t...</td>\n",
       "      <td>\\r\\nwith the Critical Threats Project, AEI\\r\\n...</td>\n",
       "      <td>\\r\\nwith the critical threats project, aei\\r\\n...</td>\n",
       "      <td>with the critical threats project, aei  marc...</td>\n",
       "      <td>with the critical threats project  aei  marc...</td>\n",
       "      <td>with the critical threats project aei march i...</td>\n",
       "      <td>critical threats project aei march isw publis...</td>\n",
       "      <td>critic threat project aei march isw publish r...</td>\n",
       "      <td>critical threat project aei march isw publish...</td>\n",
       "      <td>{'march': 0.589, 'foreign': 0.179, 'eu': 0.179...</td>\n",
       "    </tr>\n",
       "    <tr>\n",
       "      <th>7</th>\n",
       "      <td>7</td>\n",
       "      <td>2022-03-04</td>\n",
       "      <td>Ukraine Conflict Update 15 | Institute for the...</td>\n",
       "      <td>Russian Offensive Campaign Assessment, January...</td>\n",
       "      <td>&lt;div class=\"field field-name-body field-type-t...</td>\n",
       "      <td>\\r\\nwith the Critical Threats Project, AEI\\r\\n...</td>\n",
       "      <td>\\r\\nwith the critical threats project, aei\\r\\n...</td>\n",
       "      <td>with the critical threats project, aei  marc...</td>\n",
       "      <td>with the critical threats project  aei  marc...</td>\n",
       "      <td>with the critical threats project aei march i...</td>\n",
       "      <td>critical threats project aei march isw publis...</td>\n",
       "      <td>critic threat project aei march isw publish r...</td>\n",
       "      <td>critical threat project aei march isw publish...</td>\n",
       "      <td>{'march': 0.601, 'nato': 0.161, 'lukashenko': ...</td>\n",
       "    </tr>\n",
       "    <tr>\n",
       "      <th>8</th>\n",
       "      <td>8</td>\n",
       "      <td>2022-03-05</td>\n",
       "      <td>Explainer on Russian Conscription, Reserve, an...</td>\n",
       "      <td>Russian Offensive Campaign Assessment, January...</td>\n",
       "      <td>&lt;div class=\"field field-name-body field-type-t...</td>\n",
       "      <td>\\r\\nThe early announcement of the  spring draf...</td>\n",
       "      <td>\\r\\nthe early announcement of the  spring draf...</td>\n",
       "      <td>the early announcement of the  spring draft ...</td>\n",
       "      <td>the early announcement of the  spring draft ...</td>\n",
       "      <td>the early announcement of the spring draft is...</td>\n",
       "      <td>early announcement spring draft unlikely incr...</td>\n",
       "      <td>earli announc spring draft unlik increas russ...</td>\n",
       "      <td>early announcement spring draft unlikely incr...</td>\n",
       "      <td>{'reservist': 0.394, 'reserve': 0.269, 'conscr...</td>\n",
       "    </tr>\n",
       "    <tr>\n",
       "      <th>9</th>\n",
       "      <td>9</td>\n",
       "      <td>2022-03-06</td>\n",
       "      <td>Ukraine Conflict Update 16 | Institute for the...</td>\n",
       "      <td>Russian Offensive Campaign Assessment, January...</td>\n",
       "      <td>&lt;div class=\"field field-name-body field-type-t...</td>\n",
       "      <td>\\r\\nwith the Critical Threats Project, AEI\\r\\n...</td>\n",
       "      <td>\\r\\nwith the critical threats project, aei\\r\\n...</td>\n",
       "      <td>with the critical threats project, aei  marc...</td>\n",
       "      <td>with the critical threats project  aei  marc...</td>\n",
       "      <td>with the critical threats project aei march i...</td>\n",
       "      <td>critical threats project aei march isw publis...</td>\n",
       "      <td>critic threat project aei march isw publish r...</td>\n",
       "      <td>critical threat project aei march isw publish...</td>\n",
       "      <td>{'march': 0.545, 'oil': 0.191, 'ceasefire': 0....</td>\n",
       "    </tr>\n",
       "  </tbody>\n",
       "</table>\n",
       "</div>"
      ],
      "text/plain": [
       "   Unnamed: 0        date                                              title  \\\n",
       "0           0  2022-02-25  Russia-Ukraine Warning Update: Russian Offensi...   \n",
       "1           1  2022-02-26  Russia-Ukraine Warning Update: Russian Offensi...   \n",
       "2           2  2022-02-27  Russia-Ukraine Warning Update: Russian Offensi...   \n",
       "3           3  2022-02-28  Russian Offensive Campaign Assessment, Februar...   \n",
       "4           4  2022-03-01  Russian Offensive Campaign Assessment, March 1...   \n",
       "5           5  2022-03-02  Russian Offensive Campaign Assessment, March 2...   \n",
       "6           6  2022-03-03  Ukraine Conflict Update 14 | Institute for the...   \n",
       "7           7  2022-03-04  Ukraine Conflict Update 15 | Institute for the...   \n",
       "8           8  2022-03-05  Explainer on Russian Conscription, Reserve, an...   \n",
       "9           9  2022-03-06  Ukraine Conflict Update 16 | Institute for the...   \n",
       "\n",
       "                                          text_title  \\\n",
       "0  Russian Offensive Campaign Assessment, January...   \n",
       "1  Russian Offensive Campaign Assessment, January...   \n",
       "2  Russian Offensive Campaign Assessment, January...   \n",
       "3  Russian Offensive Campaign Assessment, January...   \n",
       "4  Russian Offensive Campaign Assessment, January...   \n",
       "5  Russian Offensive Campaign Assessment, January...   \n",
       "6  Russian Offensive Campaign Assessment, January...   \n",
       "7  Russian Offensive Campaign Assessment, January...   \n",
       "8  Russian Offensive Campaign Assessment, January...   \n",
       "9  Russian Offensive Campaign Assessment, January...   \n",
       "\n",
       "                                           text_main  \\\n",
       "0  <div class=\"field field-name-body field-type-t...   \n",
       "1  <div class=\"field field-name-body field-type-t...   \n",
       "2  <div class=\"field field-name-body field-type-t...   \n",
       "3  <div class=\"field field-name-body field-type-t...   \n",
       "4  <div class=\"field field-name-body field-type-t...   \n",
       "5  <div class=\"field field-name-body field-type-t...   \n",
       "6  <div class=\"field field-name-body field-type-t...   \n",
       "7  <div class=\"field field-name-body field-type-t...   \n",
       "8  <div class=\"field field-name-body field-type-t...   \n",
       "9  <div class=\"field field-name-body field-type-t...   \n",
       "\n",
       "                                        main_html_v8  \\\n",
       "0  \\r\\nRussian forces entered major Ukrainian cit...   \n",
       "1  \\r\\nRussian forces’ main axes of advance in th...   \n",
       "2  \\r\\nThe Russian military has likely recognized...   \n",
       "3  The Russian military is reorganizing its milit...   \n",
       "4  Russian forces are completing the reinforcemen...   \n",
       "5  Russian forces resumed offensive operations in...   \n",
       "6  \\r\\nwith the Critical Threats Project, AEI\\r\\n...   \n",
       "7  \\r\\nwith the Critical Threats Project, AEI\\r\\n...   \n",
       "8  \\r\\nThe early announcement of the  spring draf...   \n",
       "9  \\r\\nwith the Critical Threats Project, AEI\\r\\n...   \n",
       "\n",
       "                                           main_html  \\\n",
       "0  \\r\\nrussian forces entered major ukrainian cit...   \n",
       "1  \\r\\nrussian forces’ main axes of advance in th...   \n",
       "2  \\r\\nthe russian military has likely recognized...   \n",
       "3  the russian military is reorganizing its milit...   \n",
       "4  russian forces are completing the reinforcemen...   \n",
       "5  russian forces resumed offensive operations in...   \n",
       "6  \\r\\nwith the critical threats project, aei\\r\\n...   \n",
       "7  \\r\\nwith the critical threats project, aei\\r\\n...   \n",
       "8  \\r\\nthe early announcement of the  spring draf...   \n",
       "9  \\r\\nwith the critical threats project, aei\\r\\n...   \n",
       "\n",
       "                                          main_html1  \\\n",
       "0    russian forces entered major ukrainian citie...   \n",
       "1    russian forces’ main axes of advance in the ...   \n",
       "2    the russian military has likely recognized t...   \n",
       "3  the russian military is reorganizing its milit...   \n",
       "4  russian forces are completing the reinforcemen...   \n",
       "5  russian forces resumed offensive operations in...   \n",
       "6    with the critical threats project, aei  marc...   \n",
       "7    with the critical threats project, aei  marc...   \n",
       "8    the early announcement of the  spring draft ...   \n",
       "9    with the critical threats project, aei  marc...   \n",
       "\n",
       "                                          main_html2  \\\n",
       "0    russian forces entered major ukrainian citie...   \n",
       "1    russian forces’ main axes of advance in the ...   \n",
       "2    the russian military has likely recognized t...   \n",
       "3  the russian military is reorganizing its milit...   \n",
       "4  russian forces are completing the reinforcemen...   \n",
       "5  russian forces resumed offensive operations in...   \n",
       "6    with the critical threats project  aei  marc...   \n",
       "7    with the critical threats project  aei  marc...   \n",
       "8    the early announcement of the  spring draft ...   \n",
       "9    with the critical threats project  aei  marc...   \n",
       "\n",
       "                                          main_html3  \\\n",
       "0   russian forces entered major ukrainian cities...   \n",
       "1   russian forces main axes of advance in the la...   \n",
       "2   the russian military has likely recognized th...   \n",
       "3   the russian military is reorganizing its mili...   \n",
       "4   russian forces are completing the reinforceme...   \n",
       "5   russian forces resumed offensive operations i...   \n",
       "6   with the critical threats project aei march i...   \n",
       "7   with the critical threats project aei march i...   \n",
       "8   the early announcement of the spring draft is...   \n",
       "9   with the critical threats project aei march i...   \n",
       "\n",
       "                                          main_html4  \\\n",
       "0   russian forces entered major ukrainian cities...   \n",
       "1   russian forces main axes advance last twenty ...   \n",
       "2   russian military likely recognized initial ex...   \n",
       "3   russian military reorganizing military effort...   \n",
       "4   russian forces completing reinforcement resup...   \n",
       "5   russian forces resumed offensive operations s...   \n",
       "6   critical threats project aei march isw publis...   \n",
       "7   critical threats project aei march isw publis...   \n",
       "8   early announcement spring draft unlikely incr...   \n",
       "9   critical threats project aei march isw publis...   \n",
       "\n",
       "                                        data_stemmed  \\\n",
       "0   russian forc enter major ukrainian cities—inc...   \n",
       "1   russian forc main axe advanc last twenti four...   \n",
       "2   russian militari like recogn initi expect lim...   \n",
       "3   russian militari reorgan militari effort atte...   \n",
       "4   russian forc complet reinforc resuppli troop ...   \n",
       "5   russian forc resum offens oper support envelo...   \n",
       "6   critic threat project aei march isw publish r...   \n",
       "7   critic threat project aei march isw publish r...   \n",
       "8   earli announc spring draft unlik increas russ...   \n",
       "9   critic threat project aei march isw publish r...   \n",
       "\n",
       "                                     data_lemmatized  \\\n",
       "0   russian force entered major ukrainian cities—...   \n",
       "1   russian force main ax advance last twenty fou...   \n",
       "2   russian military likely recognized initial ex...   \n",
       "3   russian military reorganizing military effort...   \n",
       "4   russian force completing reinforcement resupp...   \n",
       "5   russian force resumed offensive operation sup...   \n",
       "6   critical threat project aei march isw publish...   \n",
       "7   critical threat project aei march isw publish...   \n",
       "8   early announcement spring draft unlikely incr...   \n",
       "9   critical threat project aei march isw publish...   \n",
       "\n",
       "                                            keywords  \n",
       "0  {'february': 0.339, 'kyiv': 0.323, 'pm': 0.298...  \n",
       "1  {'february': 0.409, 'kyiv': 0.367, 'twenty': 0...  \n",
       "2  {'february': 0.496, 'seven': 0.35, 'twenty': 0...  \n",
       "3  {'february': 0.553, 'eight': 0.348, 'twenty': ...  \n",
       "4  {'kyiv': 0.359, 'chernihiv': 0.219, 'hour': 0....  \n",
       "5  {'march': 0.561, 'kyiv': 0.392, 'chernihiv': 0...  \n",
       "6  {'march': 0.589, 'foreign': 0.179, 'eu': 0.179...  \n",
       "7  {'march': 0.601, 'nato': 0.161, 'lukashenko': ...  \n",
       "8  {'reservist': 0.394, 'reserve': 0.269, 'conscr...  \n",
       "9  {'march': 0.545, 'oil': 0.191, 'ceasefire': 0....  "
      ]
     },
     "execution_count": 374,
     "metadata": {},
     "output_type": "execute_result"
    }
   ],
   "source": [
    "df.head(10)"
   ]
  },
  {
   "cell_type": "code",
   "execution_count": 381,
   "metadata": {
    "collapsed": false,
    "pycharm": {
     "name": "#%%\n"
    }
   },
   "outputs": [
    {
     "data": {
      "text/plain": [
       "{'february': 0.339,\n",
       " 'kyiv': 0.323,\n",
       " 'pm': 0.298,\n",
       " 'twenty': 0.215,\n",
       " 'five': 0.193,\n",
       " 'local': 0.154,\n",
       " 'belarus': 0.149,\n",
       " 'time': 0.142,\n",
       " 'zero': 0.141,\n",
       " 'bypassed': 0.133,\n",
       " 'frontal': 0.126,\n",
       " 'envelop': 0.124,\n",
       " 'chernihiv': 0.12,\n",
       " 'advancing': 0.101,\n",
       " 'entered': 0.1,\n",
       " 'clothes': 0.097,\n",
       " 'determined': 0.086,\n",
       " 'odessa': 0.082,\n",
       " 'captured': 0.077,\n",
       " 'enter': 0.077,\n",
       " 'dnipro': 0.077,\n",
       " 'may': 0.077,\n",
       " 'east': 0.076,\n",
       " 'amphibious': 0.075,\n",
       " 'stolin': 0.075,\n",
       " 'headed': 0.075,\n",
       " 'active': 0.073,\n",
       " 'verge': 0.072,\n",
       " 'landing': 0.071,\n",
       " 'air': 0.071,\n",
       " 'crimea': 0.068,\n",
       " 'next': 0.068,\n",
       " 'four': 0.068,\n",
       " 'failed': 0.067,\n",
       " 'vdv': 0.067,\n",
       " 'kharkiv': 0.067,\n",
       " 'assembling': 0.066,\n",
       " 'capability': 0.065,\n",
       " 'outskirt': 0.064,\n",
       " 'rivne': 0.064,\n",
       " 'bypassing': 0.064,\n",
       " 'broad': 0.064,\n",
       " 'element': 0.062,\n",
       " 'axis': 0.061,\n",
       " 'bank': 0.061,\n",
       " 'envelopment': 0.06,\n",
       " 'downtown': 0.06,\n",
       " 'achieved': 0.06,\n",
       " 'airborne': 0.06,\n",
       " 'southeastern': 0.06,\n",
       " 'reportedly': 0.059,\n",
       " 'refrain': 0.058,\n",
       " 'pin': 0.057,\n",
       " 'planned': 0.057,\n",
       " 'hostomel': 0.056,\n",
       " 'defending': 0.056,\n",
       " 'assault': 0.056,\n",
       " 'conventional': 0.055,\n",
       " 'hour': 0.053,\n",
       " 'line': 0.053,\n",
       " 'ax': 0.052,\n",
       " 'mariupol': 0.052,\n",
       " 'failing': 0.051,\n",
       " 'confirm': 0.051,\n",
       " 'several': 0.049,\n",
       " 'unconfirmed': 0.049,\n",
       " 'airport': 0.049,\n",
       " 'west': 0.049,\n",
       " 'far': 0.048,\n",
       " 'sea': 0.048,\n",
       " 'organized': 0.048,\n",
       " 'troop': 0.048,\n",
       " 'redeployed': 0.047,\n",
       " 'advance': 0.047,\n",
       " 'yet': 0.046,\n",
       " 'bypass': 0.046,\n",
       " 'fully': 0.045,\n",
       " 'toward': 0.045,\n",
       " 'motor': 0.044,\n",
       " 'success': 0.044,\n",
       " 'earlier': 0.043,\n",
       " 'later': 0.042,\n",
       " 'civil': 0.042,\n",
       " 'odesa': 0.042,\n",
       " 'division': 0.042,\n",
       " 'seizing': 0.042,\n",
       " 'runway': 0.041,\n",
       " 'reprioritize': 0.041,\n",
       " 'misreported': 0.041,\n",
       " 'gotten': 0.041,\n",
       " 'emanating': 0.041,\n",
       " 'decapitation': 0.041,\n",
       " 'preventing': 0.041,\n",
       " 'use': 0.041,\n",
       " 'little': 0.039,\n",
       " 'frequency': 0.039,\n",
       " '25th': 0.039,\n",
       " '1pm': 0.039,\n",
       " 'abandoned': 0.039,\n",
       " 'defense': 0.038}"
      ]
     },
     "execution_count": 381,
     "metadata": {},
     "output_type": "execute_result"
    }
   ],
   "source": [
    "df['keywords'][0]"
   ]
  },
  {
   "cell_type": "code",
   "execution_count": 384,
   "metadata": {
    "collapsed": false,
    "pycharm": {
     "name": "#%%\n"
    }
   },
   "outputs": [],
   "source": [
    "df.to_csv(\"./text_vectorized.csv\", sep=\";\", index=False)"
   ]
  },
  {
   "cell_type": "code",
   "execution_count": null,
   "metadata": {
    "collapsed": false,
    "pycharm": {
     "name": "#%%\n"
    }
   },
   "outputs": [],
   "source": []
  }
 ],
 "metadata": {
  "kernelspec": {
   "display_name": "Python 3 (ipykernel)",
   "language": "python",
   "name": "python3"
  },
  "language_info": {
   "codemirror_mode": {
    "name": "ipython",
    "version": 3
   },
   "file_extension": ".py",
   "mimetype": "text/x-python",
   "name": "python",
   "nbconvert_exporter": "python",
   "pygments_lexer": "ipython3",
   "version": "3.10.10"
  }
 },
 "nbformat": 4,
 "nbformat_minor": 5
}
