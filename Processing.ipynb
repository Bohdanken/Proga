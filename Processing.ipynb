{
 "cells": [
  {
   "cell_type": "code",
   "execution_count": 279,
   "id": "a16143dd",
   "metadata": {
    "pycharm": {
     "name": "#%%\n"
    }
   },
   "outputs": [
    {
     "name": "stderr",
     "output_type": "stream",
     "text": [
      "C:\\Users\\IvarY\\AppData\\Local\\Temp\\ipykernel_2348\\1828496303.py:2: DeprecationWarning: Importing display from IPython.core.display is deprecated since IPython 7.14, please import from IPython display\n",
      "  from IPython.core.display import display, HTML\n"
     ]
    }
   ],
   "source": [
    "import pandas as pd\n",
    "from IPython.core.display import display, HTML\n",
    "from bs4 import BeautifulSoup\n",
    "INPUT_DATA_FOLDER = \"\"\n",
    "DATA_FILE = \"table_of_data_preprocessed.csv\"\n",
    "\n",
    "OUTPUT_FOLDER = \"2_isw_parsed\"\n",
    "OUTPUT_DATA_FILE = \"table_of_data_processed.csv\""
   ]
  },
  {
   "cell_type": "code",
   "execution_count": 280,
   "id": "3b8030aa",
   "metadata": {
    "pycharm": {
     "name": "#%%\n"
    }
   },
   "outputs": [],
   "source": [
    "df = pd.read_csv(f\"{DATA_FILE}\")"
   ]
  },
  {
   "cell_type": "code",
   "execution_count": 281,
   "id": "d1bfd3e3",
   "metadata": {
    "pycharm": {
     "name": "#%%\n"
    }
   },
   "outputs": [
    {
     "data": {
      "text/plain": "   Unnamed: 0        date                                              title  \\\n0           0  2022-02-25  Russia-Ukraine Warning Update: Russian Offensi...   \n1           1  2022-02-26  Russia-Ukraine Warning Update: Russian Offensi...   \n2           2  2022-02-27  Russia-Ukraine Warning Update: Russian Offensi...   \n3           3  2022-02-28  Russian Offensive Campaign Assessment, Februar...   \n4           4  2022-03-01  Russian Offensive Campaign Assessment, March 1...   \n5           5  2022-03-02  Russian Offensive Campaign Assessment, March 2...   \n6           6  2022-03-03  Ukraine Conflict Update 14 | Institute for the...   \n7           7  2022-03-04  Ukraine Conflict Update 15 | Institute for the...   \n8           8  2022-03-05  Explainer on Russian Conscription, Reserve, an...   \n9           9  2022-03-06  Ukraine Conflict Update 16 | Institute for the...   \n\n                                          text_title  \\\n0  Russian Offensive Campaign Assessment, January...   \n1  Russian Offensive Campaign Assessment, January...   \n2  Russian Offensive Campaign Assessment, January...   \n3  Russian Offensive Campaign Assessment, January...   \n4  Russian Offensive Campaign Assessment, January...   \n5  Russian Offensive Campaign Assessment, January...   \n6  Russian Offensive Campaign Assessment, January...   \n7  Russian Offensive Campaign Assessment, January...   \n8  Russian Offensive Campaign Assessment, January...   \n9  Russian Offensive Campaign Assessment, January...   \n\n                                           text_main  \\\n0  <div class=\"field field-name-body field-type-t...   \n1  <div class=\"field field-name-body field-type-t...   \n2  <div class=\"field field-name-body field-type-t...   \n3  <div class=\"field field-name-body field-type-t...   \n4  <div class=\"field field-name-body field-type-t...   \n5  <div class=\"field field-name-body field-type-t...   \n6  <div class=\"field field-name-body field-type-t...   \n7  <div class=\"field field-name-body field-type-t...   \n8  <div class=\"field field-name-body field-type-t...   \n9  <div class=\"field field-name-body field-type-t...   \n\n                                        main_html_v8  \n0  \\r\\nRussian forces entered major Ukrainian cit...  \n1  \\r\\nRussian forces’ main axes of advance in th...  \n2  \\r\\nThe Russian military has likely recognized...  \n3  The Russian military is reorganizing its milit...  \n4  Russian forces are completing the reinforcemen...  \n5  Russian forces resumed offensive operations in...  \n6  \\r\\nwith the Critical Threats Project, AEI\\r\\n...  \n7  \\r\\nwith the Critical Threats Project, AEI\\r\\n...  \n8  \\r\\nThe early announcement of the  spring draf...  \n9  \\r\\nwith the Critical Threats Project, AEI\\r\\n...  ",
      "text/html": "<div>\n<style scoped>\n    .dataframe tbody tr th:only-of-type {\n        vertical-align: middle;\n    }\n\n    .dataframe tbody tr th {\n        vertical-align: top;\n    }\n\n    .dataframe thead th {\n        text-align: right;\n    }\n</style>\n<table border=\"1\" class=\"dataframe\">\n  <thead>\n    <tr style=\"text-align: right;\">\n      <th></th>\n      <th>Unnamed: 0</th>\n      <th>date</th>\n      <th>title</th>\n      <th>text_title</th>\n      <th>text_main</th>\n      <th>main_html_v8</th>\n    </tr>\n  </thead>\n  <tbody>\n    <tr>\n      <th>0</th>\n      <td>0</td>\n      <td>2022-02-25</td>\n      <td>Russia-Ukraine Warning Update: Russian Offensi...</td>\n      <td>Russian Offensive Campaign Assessment, January...</td>\n      <td>&lt;div class=\"field field-name-body field-type-t...</td>\n      <td>\\r\\nRussian forces entered major Ukrainian cit...</td>\n    </tr>\n    <tr>\n      <th>1</th>\n      <td>1</td>\n      <td>2022-02-26</td>\n      <td>Russia-Ukraine Warning Update: Russian Offensi...</td>\n      <td>Russian Offensive Campaign Assessment, January...</td>\n      <td>&lt;div class=\"field field-name-body field-type-t...</td>\n      <td>\\r\\nRussian forces’ main axes of advance in th...</td>\n    </tr>\n    <tr>\n      <th>2</th>\n      <td>2</td>\n      <td>2022-02-27</td>\n      <td>Russia-Ukraine Warning Update: Russian Offensi...</td>\n      <td>Russian Offensive Campaign Assessment, January...</td>\n      <td>&lt;div class=\"field field-name-body field-type-t...</td>\n      <td>\\r\\nThe Russian military has likely recognized...</td>\n    </tr>\n    <tr>\n      <th>3</th>\n      <td>3</td>\n      <td>2022-02-28</td>\n      <td>Russian Offensive Campaign Assessment, Februar...</td>\n      <td>Russian Offensive Campaign Assessment, January...</td>\n      <td>&lt;div class=\"field field-name-body field-type-t...</td>\n      <td>The Russian military is reorganizing its milit...</td>\n    </tr>\n    <tr>\n      <th>4</th>\n      <td>4</td>\n      <td>2022-03-01</td>\n      <td>Russian Offensive Campaign Assessment, March 1...</td>\n      <td>Russian Offensive Campaign Assessment, January...</td>\n      <td>&lt;div class=\"field field-name-body field-type-t...</td>\n      <td>Russian forces are completing the reinforcemen...</td>\n    </tr>\n    <tr>\n      <th>5</th>\n      <td>5</td>\n      <td>2022-03-02</td>\n      <td>Russian Offensive Campaign Assessment, March 2...</td>\n      <td>Russian Offensive Campaign Assessment, January...</td>\n      <td>&lt;div class=\"field field-name-body field-type-t...</td>\n      <td>Russian forces resumed offensive operations in...</td>\n    </tr>\n    <tr>\n      <th>6</th>\n      <td>6</td>\n      <td>2022-03-03</td>\n      <td>Ukraine Conflict Update 14 | Institute for the...</td>\n      <td>Russian Offensive Campaign Assessment, January...</td>\n      <td>&lt;div class=\"field field-name-body field-type-t...</td>\n      <td>\\r\\nwith the Critical Threats Project, AEI\\r\\n...</td>\n    </tr>\n    <tr>\n      <th>7</th>\n      <td>7</td>\n      <td>2022-03-04</td>\n      <td>Ukraine Conflict Update 15 | Institute for the...</td>\n      <td>Russian Offensive Campaign Assessment, January...</td>\n      <td>&lt;div class=\"field field-name-body field-type-t...</td>\n      <td>\\r\\nwith the Critical Threats Project, AEI\\r\\n...</td>\n    </tr>\n    <tr>\n      <th>8</th>\n      <td>8</td>\n      <td>2022-03-05</td>\n      <td>Explainer on Russian Conscription, Reserve, an...</td>\n      <td>Russian Offensive Campaign Assessment, January...</td>\n      <td>&lt;div class=\"field field-name-body field-type-t...</td>\n      <td>\\r\\nThe early announcement of the  spring draf...</td>\n    </tr>\n    <tr>\n      <th>9</th>\n      <td>9</td>\n      <td>2022-03-06</td>\n      <td>Ukraine Conflict Update 16 | Institute for the...</td>\n      <td>Russian Offensive Campaign Assessment, January...</td>\n      <td>&lt;div class=\"field field-name-body field-type-t...</td>\n      <td>\\r\\nwith the Critical Threats Project, AEI\\r\\n...</td>\n    </tr>\n  </tbody>\n</table>\n</div>"
     },
     "execution_count": 281,
     "metadata": {},
     "output_type": "execute_result"
    }
   ],
   "source": [
    "df.head(10)"
   ]
  },
  {
   "cell_type": "code",
   "execution_count": 282,
   "id": "3aee3e7b",
   "metadata": {
    "pycharm": {
     "name": "#%%\n"
    }
   },
   "outputs": [
    {
     "name": "stdout",
     "output_type": "stream",
     "text": [
      "showing info https://raw.githubusercontent.com/nltk/nltk_data/gh-pages/index.xml\n"
     ]
    },
    {
     "data": {
      "text/plain": "True"
     },
     "execution_count": 282,
     "metadata": {},
     "output_type": "execute_result"
    }
   ],
   "source": [
    "import nltk\n",
    "\n",
    "nltk.download()"
   ]
  },
  {
   "cell_type": "code",
   "execution_count": 283,
   "id": "cd1f3ad6",
   "metadata": {
    "pycharm": {
     "name": "#%%\n"
    }
   },
   "outputs": [],
   "source": [
    "words = [w for w in nltk.corpus.state_union.words() if w.isalpha()]"
   ]
  },
  {
   "cell_type": "code",
   "execution_count": 284,
   "id": "32cff338",
   "metadata": {
    "pycharm": {
     "name": "#%%\n"
    }
   },
   "outputs": [],
   "source": [
    "stopwords = nltk.corpus.stopwords.words(\"english\")"
   ]
  },
  {
   "cell_type": "code",
   "execution_count": 285,
   "id": "6915fa8f",
   "metadata": {
    "pycharm": {
     "name": "#%%\n"
    }
   },
   "outputs": [],
   "source": [
    "df['main_html'] = df['main_html_v8'].apply(lambda x: x.lower())\n",
    "#display(HTML(df.iloc[0][\"main_html\"]))"
   ]
  },
  {
   "cell_type": "code",
   "execution_count": 286,
   "outputs": [],
   "source": [
    "import unicodedata\n",
    "\n",
    "\n",
    "def remove_special_characters(data):\n",
    "    result = unicodedata.normalize(\"NFKD\", data)\n",
    "    #CHARS_TO_REMOVE=['\\r','\\n']\n",
    "    return result.replace('\\r', ' ').replace('\\n', ' ')"
   ],
   "metadata": {
    "collapsed": false,
    "pycharm": {
     "name": "#%%\n"
    }
   }
  },
  {
   "cell_type": "code",
   "execution_count": 287,
   "outputs": [
    {
     "data": {
      "text/plain": "'  russian forces entered major ukrainian cities—including kyiv and kherson—for the first time on february 25. russian forces’ main axes of advance focused on kyiv (successfully isolating the city on both banks of the dnipro river). russian military operations along ukraine’s northern border have been less well-planned, organized, and conducted than those emanating from crimea. they have also been less successful so far. the divergence in performance likely arises in part from differences in the composition and organization of the russian ground forces elements in the western military district and belarus (to ukraine’s north) and southern military district and black sea fleet (to its south and east), as isw has previously observed. determined and well-organized ukrainian resistance around kyiv and kharkiv has also played an important role in preventing the russian military from advancing with the speed and success for which it had reportedly planned. the russian military has deployed additional forces to southeastern belarus, likely beyond those moscow had planned to use against ukraine, to offset these problems and challenges. russian forces remain much larger and more capable than ukraine’s conventional military, however. russia will likely defeat ukrainian regular military forces and secure their territorial objectives at some point in the coming days or weeks if putin is determined to do so and willing to pay the cost in blood and treasure.   key takeaways  russian forces entered the outskirts of kyiv on the west bank of the dnipro on february 25. russian sabotage groups in civilian clothes are reportedly active in downtown kyiv.  russian forces have so far failed to enter kyiv’s eastern outskirts. ukrainian forces have successfully slowed russian troops, which have temporarily abandoned the failed attempt to take the city of chernihiv and are instead bypassing it.  elements of the russian 76th vdv (airborne) division have concentrated in southeastern belarus likely for use along the chernihiv-bypass axis toward kyiv in the next 24 hours.  russian forces will likely envelop kharkhiv in the next 24 hours after failing to enter the city through frontal assaults on february 24.  russian forces have achieved little success on frontal assaults or envelopments against ukrainian forces in donbas but may not have intended to do more than pin ukrainian forces in the east.   north of crimea, russian forces fully captured kherson and are likely on the verge of seizing melitopol in the east. unconfirmed reports indicate that russian forces had bypassed kherson earlier and headed directly for mykolaiv and odessa.  russian forces may be assembling in stolin, belarus, to open a new line of advance against rivne in western ukraine.     click here to enlarge the map below.          russian forces carried out additional air and missile strikes on kyiv and other major cities around 3:00 am local time on february 25. isw cannot confirm the frequency and targets of overnight russian strikes at this time. the ukrainian general staff reported that russian forces are increasingly targeting civil infrastructure and residential buildings “to intimidate the population of ukraine.” russian forces continue to refrain from using the likely full scale of russian air and missile capabilities, likely seeking to limit the negative imagery of heavy ukrainian civilian casualties. however, russian forces will likely increase their use of bombardments in coming days to overcome heavier-than-anticipated ukrainian resistance.  russian ground forces are advancing on four primary axes, discussed in turn below:  belarus/kyiv;  kharkiv;  donbas; and  crimea-kherson.  1)     belarus/kyiv axis: russian forces entered the outskirts of kyiv on the west bank of the dnipro on february 25. russian forces have so far failed to enter kyiv’s eastern outskirts. they have abandoned for now the failed attempt to take the city of chernihiv and are instead bypassing it.  elements of the 76thvdv (airborne) division have concentrated in southeastern belarus likely for use along the chernihiv-bypass axis toward kyiv in the next 24 hours.  russian forces entered the northwest kyiv suburb of obolon, on the western bank of the dnipro river, as of 11:00 am local time. the ukrainian general staff asked residents of obolon to shelter in place and make molotov cocktails the morning of february 25. the russian ministry of defense claimed at 3:30 pm local time on february 25 that russian forces had isolated kyiv from the west.  russian forces bypassed the city of chernihiv on the eastern approach to kyiv after being halted by ukrainian forces much of february 24-25. the uk defense ministry reported at 6:00 pm local time that russian forces opened a “new route” to kyiv after failing to capture chernihiv. russian forces have not yet entered kyiv’s eastern outskirts.  the ukrainian general staff reported russian vdv (airborne) troops redeployed from belarus to the east bank of the dnipro river due to damage to the hostomel military airport on the western bank, now in russian hands after ukrainian forces withdrew sometime early on february 25. russian forces failed to secure hostomel airport by air assault and appear to have taken it only when mechanized units from belarus arrived.  ukrainian defenders appear to have damaged the runway enough to make it unusable, preventing russian forces from airlifting troops directly onto kyiv’s western flank and causing russian forces to reprioritize the eastern axis of advance.  russian reconnaissance and sabotage units, many reportedly operating in civilian clothes or captured ukrainian uniforms, are reportedly active in central kyiv. a ukrainian deputy defense minister reported russian forces seized two ukrainian trucks to break through ukrainian lines into central kyiv around noon local time. the ukrainian general staff warned at 5:00 pm local time that russian units in civilian clothes are operating in several unspecified ukrainian cities.  president zelensky, his chief of staff, and prime minister shmyhal released a video from downtown kyiv at 8:00 pm local time on february 25 stating “we are all here, defending our independence.”  the ukrainian military reported it redeployed unspecified units to assist in the defense of kyiv. isw cannot currently confirm the extent of ukrainian preparations to conduct urban fighting in kyiv.  2)     kharkiv axis: russian forces will likely envelop kharkiv in the next 24 hours after failing to enter the city through frontal assaults on february 24. russian forces are now advancing on a broad front along the northeastern ukrainian border as of february 25.  kharkiv civil authorities reported russian forces entering the outskirts of kharkiv from several directions at 9:00 pm local time. elements of russia’s 25th separate guards motor rifle brigade, part of the 6th combined arms army and permanently deployed near st petersburg, are confirmed to be active in kharkiv.  russian forces have reportedly crossed the northeastern ukrainian border at several other points both west of kharkiv, including okhtyrka and sumy. russian forces are likely advancing toward kyiv on a broad front and may seek to envelop and isolate kharkiv.  3)     donbas axis: russian forces have achieved little success on the frontal assaults or the envelopment but may not have intended to do more than pin ukrainian forces in the east.  the russians have not weighted their ground offensive efforts toward breaking through ukrainian defensive positions on the line of contact, taking mariupol from the east, or driving rapidly through luhansk oblast to the north. ukrainian forces remain largely in their original defensive positions in the east. the russians may be content to leave them there while concentrating on capturing kyiv and imposing a new government on ukraine. they may alternatively seek to envelop and destroy ukrainian forces at and near the line of contact at a later date.  russian forces have been unable to continue an enveloping maneuver through donetsk oblast as of 4:00 pm local time february 25. they have not apparently reinforced their efforts to do so, however, suggesting that they may not be very determined to make rapid progress on this axis as long as ukrainian forces remain in defensive positions.  ukrainian forces report undergoing continuous shelling.  ukrainian forces claim to continue to hold the entire line of contact in donetsk and luhansk as of 1pm local time february 25.  russian forces are likely conducting a frontal assault on mariupol from the northeast. the mayor of mariupol claimed ukrainian forces destroyed twenty-two russian tanks advancing from pavlopil at 4:00 pm local time on february 25. russian sources reported shelling mariupol with mlrs systems at 7:00 pm local time on february 25.  4)            crimea axis: russian forces fully captured kherson and are likely on the verge of seizing melitopol in the east. unconfirmed reports indicate that russian forces had bypassed kherson earlier and headed directly for mykolaiv and odessa.  russian forces reportedly captured kherson at 6:00 pm local time on february 25. elements of the russian 42nd motor rifle division of the 58th combined arms army and unknown vdv (airborne) elements are confirmed to be active in kherson.  russian forces are advancing west of kherson and reportedly bypassed it early february 25 before its capture by follow-on russian forces later in the day. ukrainian forces destroyed at least one bridge over the dnipro to slow russian forces. the ukrainian ministry of defense reported russian forces are advancing on mykolaiv. isw cannot confirm the current depth of russian advances.  russian forces may have captured melitopol, east of crimea, late on february 25. ukrainian forces reported defending the city at 10:00 am local time february 25. russian forces claimed to have captured the city as of 6:00 pm local time.  the ukrainian general staff reported that russia is deploying second echelon troops to kherson on february 25. if confirmed, this is the first russian deployment of second-line troops into ukrainian territory.  isw cannot confirm any russian amphibious landings as of 3:00 pm est. several western sources misreported a quote from an anonymous us official that there are indications of russia’s capability to conduct an amphibious assault west of mariupol with thousands of troops as meaning a landing had already occurred. russia may wait until forces from crimea have fully secured crossings over the dnipro river or gotten closer to odesa before attempting to seize odesa by air and sea.  immediate items to watch  social media users observed a russian armored column assembling in stolin, belarus, on february 25. these forces could potentially conduct a new line of advance against rivne in western ukraine.  russian naval infantry have not yet conducted amphibious landings but retain the capability to do so against the odesa or the azov sea coasts or both.  russian forces continue to refrain from using their likely full spectrum of air and missile capabilities. the ukrainian air force also remains active. russian operations will likely steadily wear down ukrainian air capabilities and eventually take the ukrainian air force out of the fight.  russian forces have not yet attempted the decapitation strike several analysts and outlets have forecasted and may attempt to do so in the near future.  russia has sufficient conventional military power to reinforce each of its current axes of advance and overpower the conventional ukrainian forces defending them.                                      '"
     },
     "execution_count": 287,
     "metadata": {},
     "output_type": "execute_result"
    }
   ],
   "source": [
    "df['main_html1'] = df['main_html'].apply(lambda x: remove_special_characters(x))\n",
    "df['main_html1'][0]"
   ],
   "metadata": {
    "collapsed": false,
    "pycharm": {
     "name": "#%%\n"
    }
   }
  },
  {
   "cell_type": "code",
   "execution_count": 288,
   "id": "411ba9df",
   "metadata": {
    "pycharm": {
     "name": "#%%\n"
    }
   },
   "outputs": [],
   "source": [
    "import string\n",
    "\n",
    "def remove_any_punct(q):\n",
    "    result=\" \"\n",
    "    # for char in q:\n",
    "    #     if char.isalpha():\n",
    "    #         result.join(char)\n",
    "    #     else:\n",
    "    #         result.join(\" \")\n",
    "    # return result\n",
    "    return q.translate(str.maketrans(string.punctuation, ' '*len(string.punctuation)))"
   ]
  },
  {
   "cell_type": "code",
   "execution_count": 289,
   "id": "5212dc24",
   "metadata": {
    "pycharm": {
     "name": "#%%\n"
    }
   },
   "outputs": [],
   "source": [
    "#df=df.drop(['main_html2'], axis=1)\n",
    "#df['main_html'][0]\n",
    "df['main_html2'] = df['main_html1'].apply(lambda x: remove_any_punct(x))\n",
    "#print(df.iloc[0]['main_html'])\n",
    "#print(df.iloc[0]['main_html2'])\n",
    "#df['main_html2'][0]"
   ]
  },
  {
   "cell_type": "code",
   "execution_count": 290,
   "id": "cf4c0fa0",
   "metadata": {
    "pycharm": {
     "name": "#%%\n"
    }
   },
   "outputs": [],
   "source": [
    "def remove_one_letter_word (data):\n",
    "    word_tokens = nltk.word_tokenize(str(data))\n",
    "    new_text = \"\"\n",
    "    for w in word_tokens:\n",
    "        if len(w) == 1 :\n",
    "            continue\n",
    "\n",
    "        new_text= new_text + \" \" + w\n",
    "    return new_text"
   ]
  },
  {
   "cell_type": "code",
   "execution_count": 291,
   "id": "34a148c2",
   "metadata": {
    "pycharm": {
     "name": "#%%\n"
    }
   },
   "outputs": [],
   "source": [
    "#remove_one_letter_word(df.iloc[0][\"main_html\"])\n",
    "df['main_html3'] = df['main_html2'].apply(lambda x: remove_one_letter_word(x))\n",
    "#print(df.iloc[0][\"main_html3\"])\n",
    "#df['main_html3'][0]"
   ]
  },
  {
   "cell_type": "code",
   "execution_count": 296,
   "outputs": [
    {
     "data": {
      "text/plain": "     Unnamed: 0        date  \\\n0             0  2022-02-25   \n1             1  2022-02-26   \n2             2  2022-02-27   \n3             3  2022-02-28   \n4             4  2022-03-01   \n..          ...         ...   \n319         319  2023-01-16   \n320         320  2023-01-17   \n321         321  2023-01-18   \n322         322  2023-01-19   \n323         323  2023-01-20   \n\n                                            main_html1  \\\n0      russian forces entered major ukrainian citie...   \n1      russian forces’ main axes of advance in the ...   \n2      the russian military has likely recognized t...   \n3    the russian military is reorganizing its milit...   \n4    russian forces are completing the reinforcemen...   \n..                                                 ...   \n319    click here to see isw’s interactive map of t...   \n320      kateryna stepanenko, karolina hird, riley ...   \n321  click here to see isw’s interactive map of the...   \n322    george barros, riley bailey, kateryna stepan...   \n323      kateryna stepanenko, karolina hird, riley ...   \n\n                                            main_html2  \\\n0      russian forces entered major ukrainian citie...   \n1      russian forces’ main axes of advance in the ...   \n2      the russian military has likely recognized t...   \n3    the russian military is reorganizing its milit...   \n4    russian forces are completing the reinforcemen...   \n..                                                 ...   \n319    click here to see isw’s interactive map of t...   \n320      kateryna stepanenko  karolina hird  riley ...   \n321  click here to see isw’s interactive map of the...   \n322    george barros  riley bailey  kateryna stepan...   \n323      kateryna stepanenko  karolina hird  riley ...   \n\n                                            main_html3  \n0     russian forces entered major ukrainian cities...  \n1     russian forces main axes of advance in the la...  \n2     the russian military has likely recognized th...  \n3     the russian military is reorganizing its mili...  \n4     russian forces are completing the reinforceme...  \n..                                                 ...  \n319   click here to see isw interactive map of the ...  \n320   kateryna stepanenko karolina hird riley baile...  \n321   click here to see isw interactive map of the ...  \n322   george barros riley bailey kateryna stepanenk...  \n323   kateryna stepanenko karolina hird riley baile...  \n\n[324 rows x 5 columns]",
      "text/html": "<div>\n<style scoped>\n    .dataframe tbody tr th:only-of-type {\n        vertical-align: middle;\n    }\n\n    .dataframe tbody tr th {\n        vertical-align: top;\n    }\n\n    .dataframe thead th {\n        text-align: right;\n    }\n</style>\n<table border=\"1\" class=\"dataframe\">\n  <thead>\n    <tr style=\"text-align: right;\">\n      <th></th>\n      <th>Unnamed: 0</th>\n      <th>date</th>\n      <th>main_html1</th>\n      <th>main_html2</th>\n      <th>main_html3</th>\n    </tr>\n  </thead>\n  <tbody>\n    <tr>\n      <th>0</th>\n      <td>0</td>\n      <td>2022-02-25</td>\n      <td>russian forces entered major ukrainian citie...</td>\n      <td>russian forces entered major ukrainian citie...</td>\n      <td>russian forces entered major ukrainian cities...</td>\n    </tr>\n    <tr>\n      <th>1</th>\n      <td>1</td>\n      <td>2022-02-26</td>\n      <td>russian forces’ main axes of advance in the ...</td>\n      <td>russian forces’ main axes of advance in the ...</td>\n      <td>russian forces main axes of advance in the la...</td>\n    </tr>\n    <tr>\n      <th>2</th>\n      <td>2</td>\n      <td>2022-02-27</td>\n      <td>the russian military has likely recognized t...</td>\n      <td>the russian military has likely recognized t...</td>\n      <td>the russian military has likely recognized th...</td>\n    </tr>\n    <tr>\n      <th>3</th>\n      <td>3</td>\n      <td>2022-02-28</td>\n      <td>the russian military is reorganizing its milit...</td>\n      <td>the russian military is reorganizing its milit...</td>\n      <td>the russian military is reorganizing its mili...</td>\n    </tr>\n    <tr>\n      <th>4</th>\n      <td>4</td>\n      <td>2022-03-01</td>\n      <td>russian forces are completing the reinforcemen...</td>\n      <td>russian forces are completing the reinforcemen...</td>\n      <td>russian forces are completing the reinforceme...</td>\n    </tr>\n    <tr>\n      <th>...</th>\n      <td>...</td>\n      <td>...</td>\n      <td>...</td>\n      <td>...</td>\n      <td>...</td>\n    </tr>\n    <tr>\n      <th>319</th>\n      <td>319</td>\n      <td>2023-01-16</td>\n      <td>click here to see isw’s interactive map of t...</td>\n      <td>click here to see isw’s interactive map of t...</td>\n      <td>click here to see isw interactive map of the ...</td>\n    </tr>\n    <tr>\n      <th>320</th>\n      <td>320</td>\n      <td>2023-01-17</td>\n      <td>kateryna stepanenko, karolina hird, riley ...</td>\n      <td>kateryna stepanenko  karolina hird  riley ...</td>\n      <td>kateryna stepanenko karolina hird riley baile...</td>\n    </tr>\n    <tr>\n      <th>321</th>\n      <td>321</td>\n      <td>2023-01-18</td>\n      <td>click here to see isw’s interactive map of the...</td>\n      <td>click here to see isw’s interactive map of the...</td>\n      <td>click here to see isw interactive map of the ...</td>\n    </tr>\n    <tr>\n      <th>322</th>\n      <td>322</td>\n      <td>2023-01-19</td>\n      <td>george barros, riley bailey, kateryna stepan...</td>\n      <td>george barros  riley bailey  kateryna stepan...</td>\n      <td>george barros riley bailey kateryna stepanenk...</td>\n    </tr>\n    <tr>\n      <th>323</th>\n      <td>323</td>\n      <td>2023-01-20</td>\n      <td>kateryna stepanenko, karolina hird, riley ...</td>\n      <td>kateryna stepanenko  karolina hird  riley ...</td>\n      <td>kateryna stepanenko karolina hird riley baile...</td>\n    </tr>\n  </tbody>\n</table>\n<p>324 rows × 5 columns</p>\n</div>"
     },
     "execution_count": 296,
     "metadata": {},
     "output_type": "execute_result"
    }
   ],
   "source": [
    "df=df.drop(['title', 'text_title', 'text_main', 'main_html_v8', 'main_html'], axis=1)\n",
    "df"
   ],
   "metadata": {
    "collapsed": false,
    "pycharm": {
     "name": "#%%\n"
    }
   }
  },
  {
   "cell_type": "code",
   "execution_count": 292,
   "outputs": [],
   "source": [],
   "metadata": {
    "collapsed": false,
    "pycharm": {
     "name": "#%%\n"
    }
   }
  }
 ],
 "metadata": {
  "kernelspec": {
   "display_name": "Python 3 (ipykernel)",
   "language": "python",
   "name": "python3"
  },
  "language_info": {
   "codemirror_mode": {
    "name": "ipython",
    "version": 3
   },
   "file_extension": ".py",
   "mimetype": "text/x-python",
   "name": "python",
   "nbconvert_exporter": "python",
   "pygments_lexer": "ipython3",
   "version": "3.9.6"
  }
 },
 "nbformat": 4,
 "nbformat_minor": 5
}