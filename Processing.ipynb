{
 "cells": [
  {
   "cell_type": "code",
   "execution_count": 2,
   "id": "a16143dd",
   "metadata": {},
   "outputs": [
    {
     "name": "stderr",
     "output_type": "stream",
     "text": [
      "C:\\Users\\Богдан\\AppData\\Local\\Temp\\ipykernel_25216\\951250785.py:2: DeprecationWarning: Importing display from IPython.core.display is deprecated since IPython 7.14, please import from IPython display\n",
      "  from IPython.core.display import display, HTML\n"
     ]
    }
   ],
   "source": [
    "import pandas as pd\n",
    "from IPython.core.display import display, HTML\n",
    "from bs4 import BeautifulSoup\n",
    "INPUT_DATA_FOLDER = \"\"\n",
    "DATA_FILE = \"table_of_data_preprocessed.csv\"\n",
    "\n",
    "OUTPUT_FOLDER = \"2_isw_parsed\"\n",
    "OUTPUT_DATA_FILE = \"table_of_data_processed.csv\""
   ]
  },
  {
   "cell_type": "code",
   "execution_count": 3,
   "id": "3b8030aa",
   "metadata": {},
   "outputs": [],
   "source": [
    "df = pd.read_csv(f\"{DATA_FILE}\")"
   ]
  },
  {
   "cell_type": "code",
   "execution_count": 4,
   "id": "d1bfd3e3",
   "metadata": {},
   "outputs": [
    {
     "data": {
      "text/html": [
       "<div>\n",
       "<style scoped>\n",
       "    .dataframe tbody tr th:only-of-type {\n",
       "        vertical-align: middle;\n",
       "    }\n",
       "\n",
       "    .dataframe tbody tr th {\n",
       "        vertical-align: top;\n",
       "    }\n",
       "\n",
       "    .dataframe thead th {\n",
       "        text-align: right;\n",
       "    }\n",
       "</style>\n",
       "<table border=\"1\" class=\"dataframe\">\n",
       "  <thead>\n",
       "    <tr style=\"text-align: right;\">\n",
       "      <th></th>\n",
       "      <th>Unnamed: 0</th>\n",
       "      <th>date</th>\n",
       "      <th>title</th>\n",
       "      <th>text_title</th>\n",
       "      <th>text_main</th>\n",
       "      <th>main_html_v8</th>\n",
       "    </tr>\n",
       "  </thead>\n",
       "  <tbody>\n",
       "    <tr>\n",
       "      <th>0</th>\n",
       "      <td>0</td>\n",
       "      <td>2022-02-25</td>\n",
       "      <td>Russia-Ukraine Warning Update: Russian Offensi...</td>\n",
       "      <td>Russian Offensive Campaign Assessment, January...</td>\n",
       "      <td>&lt;div class=\"field field-name-body field-type-t...</td>\n",
       "      <td>\\nRussian forces entered major Ukrainian citie...</td>\n",
       "    </tr>\n",
       "    <tr>\n",
       "      <th>1</th>\n",
       "      <td>1</td>\n",
       "      <td>2022-02-26</td>\n",
       "      <td>Russia-Ukraine Warning Update: Russian Offensi...</td>\n",
       "      <td>Russian Offensive Campaign Assessment, January...</td>\n",
       "      <td>&lt;div class=\"field field-name-body field-type-t...</td>\n",
       "      <td>\\nRussian forces’ main axes of advance in the ...</td>\n",
       "    </tr>\n",
       "    <tr>\n",
       "      <th>2</th>\n",
       "      <td>2</td>\n",
       "      <td>2022-02-27</td>\n",
       "      <td>Russia-Ukraine Warning Update: Russian Offensi...</td>\n",
       "      <td>Russian Offensive Campaign Assessment, January...</td>\n",
       "      <td>&lt;div class=\"field field-name-body field-type-t...</td>\n",
       "      <td>\\nThe Russian military has likely recognized t...</td>\n",
       "    </tr>\n",
       "    <tr>\n",
       "      <th>3</th>\n",
       "      <td>3</td>\n",
       "      <td>2022-02-28</td>\n",
       "      <td>Russian Offensive Campaign Assessment, Februar...</td>\n",
       "      <td>Russian Offensive Campaign Assessment, January...</td>\n",
       "      <td>&lt;div class=\"field field-name-body field-type-t...</td>\n",
       "      <td>The Russian military is reorganizing its milit...</td>\n",
       "    </tr>\n",
       "    <tr>\n",
       "      <th>4</th>\n",
       "      <td>4</td>\n",
       "      <td>2022-03-01</td>\n",
       "      <td>Russian Offensive Campaign Assessment, March 1...</td>\n",
       "      <td>Russian Offensive Campaign Assessment, January...</td>\n",
       "      <td>&lt;div class=\"field field-name-body field-type-t...</td>\n",
       "      <td>Russian forces are completing the reinforcemen...</td>\n",
       "    </tr>\n",
       "    <tr>\n",
       "      <th>5</th>\n",
       "      <td>5</td>\n",
       "      <td>2022-03-02</td>\n",
       "      <td>Russian Offensive Campaign Assessment, March 2...</td>\n",
       "      <td>Russian Offensive Campaign Assessment, January...</td>\n",
       "      <td>&lt;div class=\"field field-name-body field-type-t...</td>\n",
       "      <td>Russian forces resumed offensive operations in...</td>\n",
       "    </tr>\n",
       "    <tr>\n",
       "      <th>6</th>\n",
       "      <td>6</td>\n",
       "      <td>2022-03-03</td>\n",
       "      <td>Ukraine Conflict Update 14 | Institute for the...</td>\n",
       "      <td>Russian Offensive Campaign Assessment, January...</td>\n",
       "      <td>&lt;div class=\"field field-name-body field-type-t...</td>\n",
       "      <td>\\nwith the Critical Threats Project, AEI\\nMarc...</td>\n",
       "    </tr>\n",
       "    <tr>\n",
       "      <th>7</th>\n",
       "      <td>7</td>\n",
       "      <td>2022-03-04</td>\n",
       "      <td>Ukraine Conflict Update 15 | Institute for the...</td>\n",
       "      <td>Russian Offensive Campaign Assessment, January...</td>\n",
       "      <td>&lt;div class=\"field field-name-body field-type-t...</td>\n",
       "      <td>\\nwith the Critical Threats Project, AEI\\nMarc...</td>\n",
       "    </tr>\n",
       "    <tr>\n",
       "      <th>8</th>\n",
       "      <td>8</td>\n",
       "      <td>2022-03-05</td>\n",
       "      <td>Explainer on Russian Conscription, Reserve, an...</td>\n",
       "      <td>Russian Offensive Campaign Assessment, January...</td>\n",
       "      <td>&lt;div class=\"field field-name-body field-type-t...</td>\n",
       "      <td>\\nThe early announcement of the  spring draft ...</td>\n",
       "    </tr>\n",
       "    <tr>\n",
       "      <th>9</th>\n",
       "      <td>9</td>\n",
       "      <td>2022-03-06</td>\n",
       "      <td>Ukraine Conflict Update 16 | Institute for the...</td>\n",
       "      <td>Russian Offensive Campaign Assessment, January...</td>\n",
       "      <td>&lt;div class=\"field field-name-body field-type-t...</td>\n",
       "      <td>\\nwith the Critical Threats Project, AEI\\nMarc...</td>\n",
       "    </tr>\n",
       "  </tbody>\n",
       "</table>\n",
       "</div>"
      ],
      "text/plain": [
       "   Unnamed: 0        date                                              title  \\\n",
       "0           0  2022-02-25  Russia-Ukraine Warning Update: Russian Offensi...   \n",
       "1           1  2022-02-26  Russia-Ukraine Warning Update: Russian Offensi...   \n",
       "2           2  2022-02-27  Russia-Ukraine Warning Update: Russian Offensi...   \n",
       "3           3  2022-02-28  Russian Offensive Campaign Assessment, Februar...   \n",
       "4           4  2022-03-01  Russian Offensive Campaign Assessment, March 1...   \n",
       "5           5  2022-03-02  Russian Offensive Campaign Assessment, March 2...   \n",
       "6           6  2022-03-03  Ukraine Conflict Update 14 | Institute for the...   \n",
       "7           7  2022-03-04  Ukraine Conflict Update 15 | Institute for the...   \n",
       "8           8  2022-03-05  Explainer on Russian Conscription, Reserve, an...   \n",
       "9           9  2022-03-06  Ukraine Conflict Update 16 | Institute for the...   \n",
       "\n",
       "                                          text_title  \\\n",
       "0  Russian Offensive Campaign Assessment, January...   \n",
       "1  Russian Offensive Campaign Assessment, January...   \n",
       "2  Russian Offensive Campaign Assessment, January...   \n",
       "3  Russian Offensive Campaign Assessment, January...   \n",
       "4  Russian Offensive Campaign Assessment, January...   \n",
       "5  Russian Offensive Campaign Assessment, January...   \n",
       "6  Russian Offensive Campaign Assessment, January...   \n",
       "7  Russian Offensive Campaign Assessment, January...   \n",
       "8  Russian Offensive Campaign Assessment, January...   \n",
       "9  Russian Offensive Campaign Assessment, January...   \n",
       "\n",
       "                                           text_main  \\\n",
       "0  <div class=\"field field-name-body field-type-t...   \n",
       "1  <div class=\"field field-name-body field-type-t...   \n",
       "2  <div class=\"field field-name-body field-type-t...   \n",
       "3  <div class=\"field field-name-body field-type-t...   \n",
       "4  <div class=\"field field-name-body field-type-t...   \n",
       "5  <div class=\"field field-name-body field-type-t...   \n",
       "6  <div class=\"field field-name-body field-type-t...   \n",
       "7  <div class=\"field field-name-body field-type-t...   \n",
       "8  <div class=\"field field-name-body field-type-t...   \n",
       "9  <div class=\"field field-name-body field-type-t...   \n",
       "\n",
       "                                        main_html_v8  \n",
       "0  \\nRussian forces entered major Ukrainian citie...  \n",
       "1  \\nRussian forces’ main axes of advance in the ...  \n",
       "2  \\nThe Russian military has likely recognized t...  \n",
       "3  The Russian military is reorganizing its milit...  \n",
       "4  Russian forces are completing the reinforcemen...  \n",
       "5  Russian forces resumed offensive operations in...  \n",
       "6  \\nwith the Critical Threats Project, AEI\\nMarc...  \n",
       "7  \\nwith the Critical Threats Project, AEI\\nMarc...  \n",
       "8  \\nThe early announcement of the  spring draft ...  \n",
       "9  \\nwith the Critical Threats Project, AEI\\nMarc...  "
      ]
     },
     "execution_count": 4,
     "metadata": {},
     "output_type": "execute_result"
    }
   ],
   "source": [
    "df.head(10)"
   ]
  },
  {
   "cell_type": "code",
   "execution_count": 5,
   "id": "3aee3e7b",
   "metadata": {},
   "outputs": [
    {
     "name": "stdout",
     "output_type": "stream",
     "text": [
      "showing info https://raw.githubusercontent.com/nltk/nltk_data/gh-pages/index.xml\n"
     ]
    },
    {
     "data": {
      "text/plain": [
       "True"
      ]
     },
     "execution_count": 5,
     "metadata": {},
     "output_type": "execute_result"
    }
   ],
   "source": [
    "import nltk\n",
    "\n",
    "nltk.download()"
   ]
  },
  {
   "cell_type": "code",
   "execution_count": 6,
   "id": "cd1f3ad6",
   "metadata": {},
   "outputs": [],
   "source": [
    "words = [w for w in nltk.corpus.state_union.words() if w.isalpha()]"
   ]
  },
  {
   "cell_type": "code",
   "execution_count": null,
   "id": "32cff338",
   "metadata": {},
   "outputs": [],
   "source": [
    "stopwords = nltk.corpus.stopwords.words(\"english\")"
   ]
  },
  {
   "cell_type": "code",
   "execution_count": 10,
   "id": "6915fa8f",
   "metadata": {},
   "outputs": [],
   "source": [
    "df['main_html'] = df['main_html_v8'].apply(lambda x: x.lower())\n",
    "#display(HTML(df.iloc[0][\"main_html\"]))"
   ]
  },
  {
   "cell_type": "code",
   "execution_count": 27,
   "id": "411ba9df",
   "metadata": {},
   "outputs": [],
   "source": [
    "def remove_any_punct(q):\n",
    "    result=\"\"\n",
    "    for char in q:\n",
    "        if char.isalpha():\n",
    "            result.join(char)\n",
    "        else:\n",
    "            result.join(\" \")"
   ]
  },
  {
   "cell_type": "code",
   "execution_count": 28,
   "id": "5212dc24",
   "metadata": {},
   "outputs": [
    {
     "name": "stdout",
     "output_type": "stream",
     "text": [
      "\n",
      "russian forces entered major ukrainian cities—including kyiv and kherson—for the first time on february 25. russian forces’ main axes of advance focused on kyiv (successfully isolating the city on both banks of the dnipro river). russian military operations along ukraine’s northern border have been less well-planned, organized, and conducted than those emanating from crimea. they have also been less successful so far. the divergence in performance likely arises in part from differences in the composition and organization of the russian ground forces elements in the western military district and belarus (to ukraine’s north) and southern military district and black sea fleet (to its south and east), as isw has previously observed. determined and well-organized ukrainian resistance around kyiv and kharkiv has also played an important role in preventing the russian military from advancing with the speed and success for which it had reportedly planned. the russian military has deployed additional forces to southeastern belarus, likely beyond those moscow had planned to use against ukraine, to offset these problems and challenges. russian forces remain much larger and more capable than ukraine’s conventional military, however. russia will likely defeat ukrainian regular military forces and secure their territorial objectives at some point in the coming days or weeks if putin is determined to do so and willing to pay the cost in blood and treasure. \n",
      "key takeaways\n",
      "russian forces entered the outskirts of kyiv on the west bank of the dnipro on february 25. russian sabotage groups in civilian clothes are reportedly active in downtown kyiv.\n",
      "russian forces have so far failed to enter kyiv’s eastern outskirts. ukrainian forces have successfully slowed russian troops, which have temporarily abandoned the failed attempt to take the city of chernihiv and are instead bypassing it.\n",
      "elements of the russian 76th vdv (airborne) division have concentrated in southeastern belarus likely for use along the chernihiv-bypass axis toward kyiv in the next 24 hours.\n",
      "russian forces will likely envelop kharkhiv in the next 24 hours after failing to enter the city through frontal assaults on february 24.\n",
      "russian forces have achieved little success on frontal assaults or envelopments against ukrainian forces in donbas but may not have intended to do more than pin ukrainian forces in the east. \n",
      "north of crimea, russian forces fully captured kherson and are likely on the verge of seizing melitopol in the east. unconfirmed reports indicate that russian forces had bypassed kherson earlier and headed directly for mykolaiv and odessa.\n",
      "russian forces may be assembling in stolin, belarus, to open a new line of advance against rivne in western ukraine.\n",
      " \n",
      "click here to enlarge the map below.\n",
      " \n",
      "\n",
      " \n",
      "russian forces carried out additional air and missile strikes on kyiv and other major cities around 3:00 am local time on february 25. isw cannot confirm the frequency and targets of overnight russian strikes at this time. the ukrainian general staff reported that russian forces are increasingly targeting civil infrastructure and residential buildings “to intimidate the population of ukraine.” russian forces continue to refrain from using the likely full scale of russian air and missile capabilities, likely seeking to limit the negative imagery of heavy ukrainian civilian casualties. however, russian forces will likely increase their use of bombardments in coming days to overcome heavier-than-anticipated ukrainian resistance.\n",
      "russian ground forces are advancing on four primary axes, discussed in turn below:\n",
      "belarus/kyiv;\n",
      "kharkiv;\n",
      "donbas; and\n",
      "crimea-kherson.\n",
      "1)     belarus/kyiv axis: russian forces entered the outskirts of kyiv on the west bank of the dnipro on february 25. russian forces have so far failed to enter kyiv’s eastern outskirts. they have abandoned for now the failed attempt to take the city of chernihiv and are instead bypassing it.  elements of the 76thvdv (airborne) division have concentrated in southeastern belarus likely for use along the chernihiv-bypass axis toward kyiv in the next 24 hours.\n",
      "russian forces entered the northwest kyiv suburb of obolon, on the western bank of the dnipro river, as of 11:00 am local time. the ukrainian general staff asked residents of obolon to shelter in place and make molotov cocktails the morning of february 25. the russian ministry of defense claimed at 3:30 pm local time on february 25 that russian forces had isolated kyiv from the west.\n",
      "russian forces bypassed the city of chernihiv on the eastern approach to kyiv after being halted by ukrainian forces much of february 24-25. the uk defense ministry reported at 6:00 pm local time that russian forces opened a “new route” to kyiv after failing to capture chernihiv. russian forces have not yet entered kyiv’s eastern outskirts.\n",
      "the ukrainian general staff reported russian vdv (airborne) troops redeployed from belarus to the east bank of the dnipro river due to damage to the hostomel military airport on the western bank, now in russian hands after ukrainian forces withdrew sometime early on february 25. russian forces failed to secure hostomel airport by air assault and appear to have taken it only when mechanized units from belarus arrived.  ukrainian defenders appear to have damaged the runway enough to make it unusable, preventing russian forces from airlifting troops directly onto kyiv’s western flank and causing russian forces to reprioritize the eastern axis of advance.\n",
      "russian reconnaissance and sabotage units, many reportedly operating in civilian clothes or captured ukrainian uniforms, are reportedly active in central kyiv. a ukrainian deputy defense minister reported russian forces seized two ukrainian trucks to break through ukrainian lines into central kyiv around noon local time. the ukrainian general staff warned at 5:00 pm local time that russian units in civilian clothes are operating in several unspecified ukrainian cities.\n",
      "president zelensky, his chief of staff, and prime minister shmyhal released a video from downtown kyiv at 8:00 pm local time on february 25 stating “we are all here, defending our independence.”\n",
      "the ukrainian military reported it redeployed unspecified units to assist in the defense of kyiv. isw cannot currently confirm the extent of ukrainian preparations to conduct urban fighting in kyiv.\n",
      "2)     kharkiv axis: russian forces will likely envelop kharkiv in the next 24 hours after failing to enter the city through frontal assaults on february 24. russian forces are now advancing on a broad front along the northeastern ukrainian border as of february 25.\n",
      "kharkiv civil authorities reported russian forces entering the outskirts of kharkiv from several directions at 9:00 pm local time. elements of russia’s 25th separate guards motor rifle brigade, part of the 6th combined arms army and permanently deployed near st petersburg, are confirmed to be active in kharkiv.\n",
      "russian forces have reportedly crossed the northeastern ukrainian border at several other points both west of kharkiv, including okhtyrka and sumy. russian forces are likely advancing toward kyiv on a broad front and may seek to envelop and isolate kharkiv.\n",
      "3)     donbas axis: russian forces have achieved little success on the frontal assaults or the envelopment but may not have intended to do more than pin ukrainian forces in the east.  the russians have not weighted their ground offensive efforts toward breaking through ukrainian defensive positions on the line of contact, taking mariupol from the east, or driving rapidly through luhansk oblast to the north. ukrainian forces remain largely in their original defensive positions in the east. the russians may be content to leave them there while concentrating on capturing kyiv and imposing a new government on ukraine. they may alternatively seek to envelop and destroy ukrainian forces at and near the line of contact at a later date.\n",
      "russian forces have been unable to continue an enveloping maneuver through donetsk oblast as of 4:00 pm local time february 25. they have not apparently reinforced their efforts to do so, however, suggesting that they may not be very determined to make rapid progress on this axis as long as ukrainian forces remain in defensive positions.  ukrainian forces report undergoing continuous shelling.\n",
      "ukrainian forces claim to continue to hold the entire line of contact in donetsk and luhansk as of 1pm local time february 25.\n",
      "russian forces are likely conducting a frontal assault on mariupol from the northeast. the mayor of mariupol claimed ukrainian forces destroyed twenty-two russian tanks advancing from pavlopil at 4:00 pm local time on february 25. russian sources reported shelling mariupol with mlrs systems at 7:00 pm local time on february 25.\n",
      "4)            crimea axis: russian forces fully captured kherson and are likely on the verge of seizing melitopol in the east. unconfirmed reports indicate that russian forces had bypassed kherson earlier and headed directly for mykolaiv and odessa.\n",
      "russian forces reportedly captured kherson at 6:00 pm local time on february 25. elements of the russian 42nd motor rifle division of the 58th combined arms army and unknown vdv (airborne) elements are confirmed to be active in kherson.\n",
      "russian forces are advancing west of kherson and reportedly bypassed it early february 25 before its capture by follow-on russian forces later in the day. ukrainian forces destroyed at least one bridge over the dnipro to slow russian forces. the ukrainian ministry of defense reported russian forces are advancing on mykolaiv. isw cannot confirm the current depth of russian advances.\n",
      "russian forces may have captured melitopol, east of crimea, late on february 25. ukrainian forces reported defending the city at 10:00 am local time february 25. russian forces claimed to have captured the city as of 6:00 pm local time.\n",
      "the ukrainian general staff reported that russia is deploying second echelon troops to kherson on february 25. if confirmed, this is the first russian deployment of second-line troops into ukrainian territory.\n",
      "isw cannot confirm any russian amphibious landings as of 3:00 pm est. several western sources misreported a quote from an anonymous us official that there are indications of russia’s capability to conduct an amphibious assault west of mariupol with thousands of troops as meaning a landing had already occurred. russia may wait until forces from crimea have fully secured crossings over the dnipro river or gotten closer to odesa before attempting to seize odesa by air and sea.\n",
      "immediate items to watch\n",
      "social media users observed a russian armored column assembling in stolin, belarus, on february 25. these forces could potentially conduct a new line of advance against rivne in western ukraine.\n",
      "russian naval infantry have not yet conducted amphibious landings but retain the capability to do so against the odesa or the azov sea coasts or both.\n",
      "russian forces continue to refrain from using their likely full spectrum of air and missile capabilities. the ukrainian air force also remains active. russian operations will likely steadily wear down ukrainian air capabilities and eventually take the ukrainian air force out of the fight.\n",
      "russian forces have not yet attempted the decapitation strike several analysts and outlets have forecasted and may attempt to do so in the near future.\n",
      "russia has sufficient conventional military power to reinforce each of its current axes of advance and overpower the conventional ukrainian forces defending them.\n",
      "\n",
      "\n",
      "                              \n",
      "\n"
     ]
    }
   ],
   "source": [
    "df['main_html2'] = df['main_html'].apply(lambda x: remove_any_punct(x))\n",
    "print(df.iloc[0][\"main_html\"])"
   ]
  },
  {
   "cell_type": "code",
   "execution_count": null,
   "id": "cf4c0fa0",
   "metadata": {},
   "outputs": [],
   "source": [
    "def remove_one_letter_word (data):\n",
    "    words word_tokenize (str(data))\n",
    "    new_text = \"\"\n",
    "    for w in words:\n",
    "        if len(w)\n",
    "        1:\n",
    "    new_text= new_text + \"\n",
    "    return new_text"
   ]
  },
  {
   "cell_type": "code",
   "execution_count": null,
   "id": "34a148c2",
   "metadata": {},
   "outputs": [],
   "source": []
  }
 ],
 "metadata": {
  "kernelspec": {
   "display_name": "Python 3 (ipykernel)",
   "language": "python",
   "name": "python3"
  },
  "language_info": {
   "codemirror_mode": {
    "name": "ipython",
    "version": 3
   },
   "file_extension": ".py",
   "mimetype": "text/x-python",
   "name": "python",
   "nbconvert_exporter": "python",
   "pygments_lexer": "ipython3",
   "version": "3.9.6"
  }
 },
 "nbformat": 4,
 "nbformat_minor": 5
}
