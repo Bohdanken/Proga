{
 "cells": [
  {
   "cell_type": "code",
   "execution_count": 38,
   "id": "f17719fb",
   "metadata": {},
   "outputs": [],
   "source": [
    "import pandas as pd\n",
    "import glob\n",
    "from datetime import datetime\n",
    "from bs4 import BeautifulSoup"
   ]
  },
  {
   "cell_type": "code",
   "execution_count": 39,
   "id": "053677bd",
   "metadata": {},
   "outputs": [],
   "source": [
    "INPUT_DATA_FOLDER = \"\"\n",
    "OUTPUT_FOLDER =  \"\"\n",
    "OUTPUT_DATA_FILE = \"all_days_isw_reports.csv\"\n",
    "#files_by_days = glob.glob(f\"{INPUT_DATA_FOLDER}/*.html\")\n",
    "files_by_days = glob.glob(\"*.html\")"
   ]
  },
  {
   "cell_type": "code",
   "execution_count": 46,
   "id": "fa2f9e3a",
   "metadata": {},
   "outputs": [
    {
     "name": "stdout",
     "output_type": "stream",
     "text": [
      "03-11-2022.html\n"
     ]
    }
   ],
   "source": [
    "all_data = []\n",
    "for file in files_by_days:\n",
    "    print(file)\n",
    "    d = {}\n",
    "    date = datetime.strptime(file[:-5], '%d-%m-%Y')\n",
    "    with open(file, \"r\", encoding=\"utf8\") as cfile:\n",
    "        parsed_html = BeautifulSoup(cfile.read())\n",
    "        title = parsed_html.head.find('title').text\n",
    "        link = parsed_html.head.find('link', attrs={'rel':'canonical'}, href = True).attrs[\"href\"]\n",
    "        text_title = parsed_html.body.find('h1', attrs={'id':'page-title'}).text\n",
    "        text_main = parsed_html.body.find('div', attrs={'class':'field field-name-body field-type-text-with-summary field-label-hidden'})\n",
    "\n",
    "        d = {\n",
    "            \"date\":date,\n",
    "            \"title\":title,\n",
    "            \"text_title:\":text_title,\n",
    "            \"full_url\":link,\n",
    "            \"main_html\":text_main\n",
    "        }\n",
    "        all_data.append(d)"
   ]
  },
  {
   "cell_type": "code",
   "execution_count": 47,
   "id": "81a54d3d",
   "metadata": {},
   "outputs": [],
   "source": [
    "df = pd.DataFrame.from_dict(all_data)"
   ]
  },
  {
   "cell_type": "code",
   "execution_count": 48,
   "id": "429e79a8",
   "metadata": {},
   "outputs": [
    {
     "data": {
      "text/html": [
       "<div>\n",
       "<style scoped>\n",
       "    .dataframe tbody tr th:only-of-type {\n",
       "        vertical-align: middle;\n",
       "    }\n",
       "\n",
       "    .dataframe tbody tr th {\n",
       "        vertical-align: top;\n",
       "    }\n",
       "\n",
       "    .dataframe thead th {\n",
       "        text-align: right;\n",
       "    }\n",
       "</style>\n",
       "<table border=\"1\" class=\"dataframe\">\n",
       "  <thead>\n",
       "    <tr style=\"text-align: right;\">\n",
       "      <th></th>\n",
       "      <th>date</th>\n",
       "      <th>title</th>\n",
       "      <th>text_title:</th>\n",
       "      <th>full_url</th>\n",
       "      <th>main_html</th>\n",
       "    </tr>\n",
       "  </thead>\n",
       "  <tbody>\n",
       "    <tr>\n",
       "      <th>0</th>\n",
       "      <td>2022-11-03</td>\n",
       "      <td>Russian Offensive Campaign Assessment, Novembe...</td>\n",
       "      <td>Russian Offensive Campaign Assessment, November 3</td>\n",
       "      <td>/backgrounder/russian-offensive-campaign-asses...</td>\n",
       "      <td>[[[ , &lt;p&gt;&lt;strong&gt;&lt;br/&gt;&lt;/strong&gt;&lt;/p&gt;, \\n, &lt;p&gt;&lt;s...</td>\n",
       "    </tr>\n",
       "  </tbody>\n",
       "</table>\n",
       "</div>"
      ],
      "text/plain": [
       "        date                                              title  \\\n",
       "0 2022-11-03  Russian Offensive Campaign Assessment, Novembe...   \n",
       "\n",
       "                                         text_title:  \\\n",
       "0  Russian Offensive Campaign Assessment, November 3   \n",
       "\n",
       "                                            full_url  \\\n",
       "0  /backgrounder/russian-offensive-campaign-asses...   \n",
       "\n",
       "                                           main_html  \n",
       "0  [[[ , <p><strong><br/></strong></p>, \\n, <p><s...  "
      ]
     },
     "execution_count": 48,
     "metadata": {},
     "output_type": "execute_result"
    }
   ],
   "source": [
    "df.head(1)"
   ]
  },
  {
   "cell_type": "code",
   "execution_count": 49,
   "id": "b4a1dec3",
   "metadata": {},
   "outputs": [],
   "source": [
    "#df.to_csv(f\"{OUTPUT_FOLDER}/{OUTPUT_DATA_FILE}\", sep=\";\", index=False)\n",
    "df.to_csv(f\"{OUTPUT_DATA_FILE}\", sep=\";\", index=False)"
   ]
  },
  {
   "cell_type": "code",
   "execution_count": null,
   "id": "83bb2016",
   "metadata": {},
   "outputs": [],
   "source": []
  }
 ],
 "metadata": {
  "kernelspec": {
   "display_name": "Python 3 (ipykernel)",
   "language": "python",
   "name": "python3"
  },
  "language_info": {
   "codemirror_mode": {
    "name": "ipython",
    "version": 3
   },
   "file_extension": ".py",
   "mimetype": "text/x-python",
   "name": "python",
   "nbconvert_exporter": "python",
   "pygments_lexer": "ipython3",
   "version": "3.11.2"
  }
 },
 "nbformat": 4,
 "nbformat_minor": 5
}
