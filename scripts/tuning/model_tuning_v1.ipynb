{
 "cells": [
  {
   "cell_type": "code",
   "execution_count": 1,
   "metadata": {
    "collapsed": true,
    "pycharm": {
     "name": "#%%\n"
    }
   },
   "outputs": [],
   "source": [
    "import numpy as np\n",
    "import pandas as pd\n",
    "\n",
    "import pickle\n",
    "\n",
    "import scipy\n",
    "import scipy.sparse as sp\n",
    "\n",
    "import scripts.training.Dataset_split as spl\n",
    "\n",
    "from datetime import datetime"
   ]
  },
  {
   "cell_type": "code",
   "execution_count": 2,
   "outputs": [],
   "source": [
    "PROJECT_FOLDER = \"../..\"\n",
    "INPUT_DATA_FOLDER = \"data/final_data\"\n",
    "MODEL_FOLDER = \"model\"\n",
    "FINAL_TRAIN_MATRIX = \"final_train_matrix_v1.pkl\"\n",
    "FINAL_DATETIMES = \"final_datetimes_v1\"\n",
    "FINAL_Y = \"final_y_v1\"\n",
    "TUNING_FOLDER = f\"{MODEL_FOLDER}/tuning\""
   ],
   "metadata": {
    "collapsed": false,
    "pycharm": {
     "name": "#%%\n"
    }
   }
  },
  {
   "cell_type": "code",
   "execution_count": 3,
   "outputs": [
    {
     "data": {
      "text/plain": "<191715x9026 sparse matrix of type '<class 'numpy.float64'>'\n\twith 129877897 stored elements in Compressed Sparse Row format>"
     },
     "execution_count": 3,
     "metadata": {},
     "output_type": "execute_result"
    }
   ],
   "source": [
    "X = pickle.load(open(f\"{PROJECT_FOLDER}/{INPUT_DATA_FOLDER}/{FINAL_TRAIN_MATRIX}\", \"rb\"))\n",
    "X"
   ],
   "metadata": {
    "collapsed": false,
    "pycharm": {
     "name": "#%%\n"
    }
   }
  },
  {
   "cell_type": "code",
   "execution_count": 4,
   "outputs": [
    {
     "data": {
      "text/plain": "0         0\n167500    0\n159608    0\n151693    0\n143371    0\n         ..\n135512    0\n119083    0\n51952     0\n16353     0\n191714    0\nName: is_alarm, Length: 191715, dtype: int64"
     },
     "execution_count": 4,
     "metadata": {},
     "output_type": "execute_result"
    }
   ],
   "source": [
    "y = pickle.load(open(f\"{PROJECT_FOLDER}/{INPUT_DATA_FOLDER}/{FINAL_Y}.pkl\", \"rb\"))\n",
    "y"
   ],
   "metadata": {
    "collapsed": false,
    "pycharm": {
     "name": "#%%\n"
    }
   }
  },
  {
   "cell_type": "code",
   "execution_count": 5,
   "outputs": [],
   "source": [
    "df_dt = pickle.load(open(f\"{PROJECT_FOLDER}/{INPUT_DATA_FOLDER}/{FINAL_DATETIMES}.pkl\", \"rb\"))"
   ],
   "metadata": {
    "collapsed": false,
    "pycharm": {
     "name": "#%%\n"
    }
   }
  },
  {
   "cell_type": "code",
   "execution_count": 6,
   "outputs": [
    {
     "name": "stdout",
     "output_type": "stream",
     "text": [
      "                  datetime\n",
      "0      2022-02-26 00:00:00\n",
      "167500 2022-02-26 00:00:00\n",
      "159608 2022-02-26 00:00:00\n",
      "151693 2022-02-26 00:00:00\n",
      "143371 2022-02-26 00:00:00\n",
      "135513 2022-02-26 00:00:00\n",
      "7906   2022-02-26 00:00:00\n",
      "126982 2022-02-26 00:00:00\n",
      "119084 2022-02-26 00:00:00\n",
      "110697 2022-02-26 00:00:00\n",
      "102871 2022-02-26 00:00:00\n",
      "95071  2022-02-26 00:00:00\n",
      "86863  2022-02-26 00:00:00\n",
      "78090  2022-02-26 00:00:00\n",
      "68415  2022-02-26 00:00:00\n",
      "16354  2022-02-26 00:00:00\n",
      "60189  2022-02-26 00:00:00\n",
      "51953  2022-02-26 00:00:00\n",
      "44112  2022-02-26 00:00:00\n",
      "36193  2022-02-26 00:00:00\n",
      "175685 2022-02-26 00:00:00\n",
      "183770 2022-02-26 00:00:00\n",
      "25430  2022-02-26 00:00:00\n",
      "25431  2022-02-26 01:00:00\n",
      "167501 2022-02-26 01:00:00\n",
      "95072  2022-02-26 01:00:00\n",
      "143372 2022-02-26 01:00:00\n",
      "51954  2022-02-26 01:00:00\n",
      "86864  2022-02-26 01:00:00\n",
      "119085 2022-02-26 01:00:00\n"
     ]
    }
   ],
   "source": [
    "print(df_dt.head(30))"
   ],
   "metadata": {
    "collapsed": false,
    "pycharm": {
     "name": "#%%\n"
    }
   }
  },
  {
   "cell_type": "code",
   "execution_count": 7,
   "outputs": [
    {
     "data": {
      "text/plain": "Int64Index([     0, 167500, 159608, 151693, 143371, 135513,   7906, 126982,\n            119084, 110697, 102871,  95071,  86863,  78090,  68415,  16354,\n             60189,  51953,  44112,  36193, 175685, 183770,  25430],\n           dtype='int64')"
     },
     "execution_count": 7,
     "metadata": {},
     "output_type": "execute_result"
    }
   ],
   "source": [
    "df_dt.loc[df_dt['datetime']==pd.to_datetime(\"2022-02-26 00:00:00\")].index\n"
   ],
   "metadata": {
    "collapsed": false,
    "pycharm": {
     "name": "#%%\n"
    }
   }
  },
  {
   "cell_type": "code",
   "execution_count": 7,
   "outputs": [],
   "source": [
    "from sklearn.model_selection import GridSearchCV\n",
    "from scipy.stats import uniform\n",
    "from sklearn.linear_model import LogisticRegression\n",
    "from sklearn.model_selection import TimeSeriesSplit\n",
    "import scripts.training.Dataset_split as spl\n",
    "import os"
   ],
   "metadata": {
    "collapsed": false,
    "pycharm": {
     "name": "#%%\n"
    }
   }
  },
  {
   "cell_type": "code",
   "execution_count": 8,
   "outputs": [
    {
     "name": "stdout",
     "output_type": "stream",
     "text": [
      "logistic_regression_v11\n"
     ]
    }
   ],
   "source": [
    "TUNING_PATH = f\"{PROJECT_FOLDER}/{TUNING_FOLDER}\"\n",
    "MODEL_NAME = \"logistic_regression_v11\"\n",
    "RANDOM_STATE = 1\n",
    "print(MODEL_NAME)"
   ],
   "metadata": {
    "collapsed": false,
    "pycharm": {
     "name": "#%%\n"
    }
   }
  },
  {
   "cell_type": "code",
   "execution_count": 9,
   "outputs": [],
   "source": [
    "def train_model (n_splits, max_iter, solver, min_split, max_split):\n",
    "    split = 1\n",
    "    tss = TimeSeriesSplit(n_splits=n_splits)\n",
    "    MIN_ITERATION = min_split\n",
    "    MAX_ITERATION = max_split\n",
    "    RANDOM_STATE = 1\n",
    "    #getting indexes for df_all_features from splitting df_datetime\n",
    "\n",
    "    for train_index, test_index in zip(*spl.split_dataset(df_dt, tss)):\n",
    "        if(split<MIN_ITERATION):\n",
    "            split+=1\n",
    "            continue\n",
    "        if(split>MAX_ITERATION):\n",
    "            break\n",
    "\n",
    "        model=LogisticRegression(max_iter=max_iter, random_state=RANDOM_STATE, solver=solver, verbose=1, multi_class='ovr', n_jobs=-1)\n",
    "\n",
    "        X_train=X[train_index]\n",
    "        X_test=X[test_index]\n",
    "        y_train=y[train_index]\n",
    "        y_test=y[test_index]\n",
    "\n",
    "        model.fit(X_train, y_train)\n",
    "        score = model.score(X_test, y_test)\n",
    "\n",
    "        print(f\"{MODEL_NAME}_split{split}: {score}\")\n",
    "        FOLDER=f\"{TUNING_PATH}/{MODEL_NAME}\"\n",
    "        if not os.path.exists(FOLDER):\n",
    "            os.makedirs(FOLDER)\n",
    "        with open(f\"{TUNING_PATH}/{MODEL_NAME}/{MODEL_NAME}_{solver}_split{split}.pkl\", 'wb') as handle: pickle.dump(model, handle)\n",
    "        split+=1"
   ],
   "metadata": {
    "collapsed": false,
    "pycharm": {
     "name": "#%%\n"
    }
   }
  },
  {
   "cell_type": "code",
   "execution_count": 10,
   "outputs": [],
   "source": [
    "#train_model(n_splits=4, max_iter=500, min_split=4, max_split=4, solver='saga')"
   ],
   "metadata": {
    "collapsed": false,
    "pycharm": {
     "name": "#%%\n"
    }
   }
  },
  {
   "cell_type": "code",
   "execution_count": 11,
   "outputs": [],
   "source": [
    "def logistic_regression_custom_cv(X, y, n_splits=100, min_split=1, max_split=None, **kwargs):\n",
    "    if max_split is None:\n",
    "        max_split = n_splits\n",
    "    split = 1\n",
    "    tss = TimeSeriesSplit(n_splits=n_splits)\n",
    "    MIN_ITERATION = min_split\n",
    "    MAX_ITERATION = max_split\n",
    "    RANDOM_STATE = 1\n",
    "\n",
    "    model=LogisticRegression(**kwargs)\n",
    "\n",
    "    #getting indexes for df_all_features from splitting df_datetime\n",
    "    print(f\"START AT: {datetime.now()}\")\n",
    "    for train_index, test_index in zip(*spl.split_dataset(df_dt, tss)):\n",
    "        if(split<MIN_ITERATION):\n",
    "            split+=1\n",
    "            continue\n",
    "        if(split>MAX_ITERATION):\n",
    "            break\n",
    "\n",
    "        print(f\"Split {split}: {datetime.now()}\")\n",
    "\n",
    "        X_train=X[train_index]\n",
    "        X_test=X[test_index]\n",
    "        y_train=y[train_index]\n",
    "        y_test=y[test_index]\n",
    "\n",
    "        model.fit(X_train, y_train)\n",
    "        score = model.score(X_test, y_test)\n",
    "\n",
    "        print(f\"{MODEL_NAME}_split{split}: {score}\")\n",
    "        FOLDER=f\"{TUNING_PATH}/{MODEL_NAME}\"\n",
    "        if not os.path.exists(FOLDER):\n",
    "            os.makedirs(FOLDER)\n",
    "        with open(f\"{TUNING_PATH}/{MODEL_NAME}/{MODEL_NAME}_{model.solver}_split{split}.pkl\", 'wb') as handle: pickle.dump(model, handle)\n",
    "        split+=1\n",
    "    print(f\"FINISH: {datetime.now()}\")"
   ],
   "metadata": {
    "collapsed": false,
    "pycharm": {
     "name": "#%%\n"
    }
   }
  },
  {
   "cell_type": "code",
   "execution_count": 13,
   "outputs": [
    {
     "ename": "SystemExit",
     "evalue": "Stop here",
     "output_type": "error",
     "traceback": [
      "An exception has occurred, use %tb to see the full traceback.\n",
      "\u001B[1;31mSystemExit\u001B[0m\u001B[1;31m:\u001B[0m Stop here\n"
     ]
    },
    {
     "name": "stderr",
     "output_type": "stream",
     "text": [
      "C:\\Users\\IvarY\\AppData\\Local\\Programs\\Python\\Python39\\lib\\site-packages\\IPython\\core\\interactiveshell.py:3468: UserWarning: To exit: use 'exit', 'quit', or Ctrl-D.\n",
      "  warn(\"To exit: use 'exit', 'quit', or Ctrl-D.\", stacklevel=1)\n"
     ]
    }
   ],
   "source": [
    "raise SystemExit(\"Stop here\")"
   ],
   "metadata": {
    "collapsed": false,
    "pycharm": {
     "name": "#%%\n"
    }
   }
  },
  {
   "cell_type": "code",
   "execution_count": 16,
   "outputs": [
    {
     "name": "stdout",
     "output_type": "stream",
     "text": [
      "START AT: 2023-04-26 17:29:58.428448\n",
      "Split 4: 2023-04-26 17:30:03.382585\n"
     ]
    },
    {
     "name": "stderr",
     "output_type": "stream",
     "text": [
      "[Parallel(n_jobs=2)]: Using backend ThreadingBackend with 2 concurrent workers.\n"
     ]
    },
    {
     "name": "stdout",
     "output_type": "stream",
     "text": [
      "max_iter reached after 116 seconds\n",
      "logistic_regression_v9_split4: 0.8593155893536122\n",
      "FINISH: 2023-04-26 17:32:00.754626\n"
     ]
    },
    {
     "name": "stderr",
     "output_type": "stream",
     "text": [
      "C:\\Users\\IvarY\\AppData\\Local\\Programs\\Python\\Python39\\lib\\site-packages\\sklearn\\linear_model\\_sag.py:350: ConvergenceWarning: The max_iter was reached which means the coef_ did not converge\n",
      "  warnings.warn(\n",
      "[Parallel(n_jobs=2)]: Done   1 out of   1 | elapsed:  1.9min finished\n"
     ]
    }
   ],
   "source": [
    "logistic_regression_custom_cv(X=X, y=y, n_splits=4, min_split=4, max_iter=100, random_state=RANDOM_STATE, solver='saga', verbose=1, multi_class='ovr', n_jobs=2, penalty='l2')"
   ],
   "metadata": {
    "collapsed": false,
    "pycharm": {
     "name": "#%%\n"
    }
   }
  },
  {
   "cell_type": "code",
   "execution_count": 14,
   "outputs": [
    {
     "name": "stdout",
     "output_type": "stream",
     "text": [
      "START AT: 2023-04-26 17:15:01.710686\n",
      "Split 4: 2023-04-26 17:15:05.852086\n"
     ]
    },
    {
     "name": "stderr",
     "output_type": "stream",
     "text": [
      "[Parallel(n_jobs=2)]: Using backend ThreadingBackend with 2 concurrent workers.\n"
     ]
    },
    {
     "name": "stdout",
     "output_type": "stream",
     "text": [
      "max_iter reached after 787 seconds\n",
      "logistic_regression_v8_split4: 0.8593155893536122\n",
      "FINISH: 2023-04-26 17:28:13.290068\n"
     ]
    },
    {
     "name": "stderr",
     "output_type": "stream",
     "text": [
      "C:\\Users\\IvarY\\AppData\\Local\\Programs\\Python\\Python39\\lib\\site-packages\\sklearn\\linear_model\\_sag.py:350: ConvergenceWarning: The max_iter was reached which means the coef_ did not converge\n",
      "  warnings.warn(\n",
      "[Parallel(n_jobs=2)]: Done   1 out of   1 | elapsed: 13.1min finished\n"
     ]
    }
   ],
   "source": [
    "#logistic_regression_custom_cv(X=X, y=y, n_splits=4, min_split=4, max_iter=100, random_state=RANDOM_STATE, solver='saga', verbose=2, multi_class='ovr', n_jobs=2, penalty='l1')"
   ],
   "metadata": {
    "collapsed": false,
    "pycharm": {
     "name": "#%%\n"
    }
   }
  },
  {
   "cell_type": "code",
   "execution_count": 20,
   "outputs": [
    {
     "name": "stdout",
     "output_type": "stream",
     "text": [
      "START AT: 2023-04-26 17:43:20.057435\n",
      "Split 4: 2023-04-26 17:43:26.920924\n"
     ]
    },
    {
     "name": "stderr",
     "output_type": "stream",
     "text": [
      "[Parallel(n_jobs=1)]: Using backend SequentialBackend with 1 concurrent workers.\n"
     ]
    },
    {
     "name": "stdout",
     "output_type": "stream",
     "text": [
      "max_iter reached after 103 seconds\n",
      "logistic_regression_v10_split4: 0.8593155893536122\n",
      "FINISH: 2023-04-26 17:45:10.109645\n"
     ]
    },
    {
     "name": "stderr",
     "output_type": "stream",
     "text": [
      "C:\\Users\\IvarY\\AppData\\Local\\Programs\\Python\\Python39\\lib\\site-packages\\sklearn\\linear_model\\_sag.py:350: ConvergenceWarning: The max_iter was reached which means the coef_ did not converge\n",
      "  warnings.warn(\n",
      "[Parallel(n_jobs=1)]: Done   1 out of   1 | elapsed:  1.7min remaining:    0.0s\n",
      "[Parallel(n_jobs=1)]: Done   1 out of   1 | elapsed:  1.7min finished\n"
     ]
    }
   ],
   "source": [
    "logistic_regression_custom_cv(X=X, y=y, n_splits=4, min_split=4, max_iter=100, random_state=RANDOM_STATE, verbose=2, solver='sag')"
   ],
   "metadata": {
    "collapsed": false,
    "pycharm": {
     "name": "#%%\n"
    }
   }
  },
  {
   "cell_type": "code",
   "execution_count": 16,
   "outputs": [
    {
     "name": "stdout",
     "output_type": "stream",
     "text": [
      "START AT: 2023-04-26 18:56:33.974056\n",
      "Split 8: 2023-04-26 18:56:56.362757\n"
     ]
    },
    {
     "name": "stderr",
     "output_type": "stream",
     "text": [
      "[Parallel(n_jobs=1)]: Using backend SequentialBackend with 1 concurrent workers.\n",
      "C:\\Users\\IvarY\\AppData\\Local\\Programs\\Python\\Python39\\lib\\site-packages\\sklearn\\linear_model\\_logistic.py:458: ConvergenceWarning: lbfgs failed to converge (status=1):\n",
      "STOP: TOTAL NO. of ITERATIONS REACHED LIMIT.\n",
      "\n",
      "Increase the number of iterations (max_iter) or scale the data as shown in:\n",
      "    https://scikit-learn.org/stable/modules/preprocessing.html\n",
      "Please also refer to the documentation for alternative solver options:\n",
      "    https://scikit-learn.org/stable/modules/linear_model.html#logistic-regression\n",
      "  n_iter_i = _check_optimize_result(\n",
      "[Parallel(n_jobs=1)]: Done   1 out of   1 | elapsed:   34.6s remaining:    0.0s\n",
      "[Parallel(n_jobs=1)]: Done   1 out of   1 | elapsed:   34.6s finished\n"
     ]
    },
    {
     "name": "stdout",
     "output_type": "stream",
     "text": [
      "logistic_regression_v11_split8: 0.7742566046676934\n",
      "Split 9: 2023-04-26 18:57:31.681184\n"
     ]
    },
    {
     "name": "stderr",
     "output_type": "stream",
     "text": [
      "[Parallel(n_jobs=1)]: Using backend SequentialBackend with 1 concurrent workers.\n",
      "C:\\Users\\IvarY\\AppData\\Local\\Programs\\Python\\Python39\\lib\\site-packages\\sklearn\\linear_model\\_logistic.py:458: ConvergenceWarning: lbfgs failed to converge (status=1):\n",
      "STOP: TOTAL NO. of ITERATIONS REACHED LIMIT.\n",
      "\n",
      "Increase the number of iterations (max_iter) or scale the data as shown in:\n",
      "    https://scikit-learn.org/stable/modules/preprocessing.html\n",
      "Please also refer to the documentation for alternative solver options:\n",
      "    https://scikit-learn.org/stable/modules/linear_model.html#logistic-regression\n",
      "  n_iter_i = _check_optimize_result(\n",
      "[Parallel(n_jobs=1)]: Done   1 out of   1 | elapsed:   32.0s remaining:    0.0s\n",
      "[Parallel(n_jobs=1)]: Done   1 out of   1 | elapsed:   32.0s finished\n"
     ]
    },
    {
     "name": "stdout",
     "output_type": "stream",
     "text": [
      "logistic_regression_v11_split9: 0.8771421675114651\n",
      "Split 10: 2023-04-26 18:58:04.670589\n"
     ]
    },
    {
     "name": "stderr",
     "output_type": "stream",
     "text": [
      "[Parallel(n_jobs=1)]: Using backend SequentialBackend with 1 concurrent workers.\n"
     ]
    },
    {
     "name": "stdout",
     "output_type": "stream",
     "text": [
      "logistic_regression_v11_split10: 0.8467993286981539\n",
      "FINISH: 2023-04-26 18:58:45.542889\n"
     ]
    },
    {
     "name": "stderr",
     "output_type": "stream",
     "text": [
      "C:\\Users\\IvarY\\AppData\\Local\\Programs\\Python\\Python39\\lib\\site-packages\\sklearn\\linear_model\\_logistic.py:458: ConvergenceWarning: lbfgs failed to converge (status=1):\n",
      "STOP: TOTAL NO. of ITERATIONS REACHED LIMIT.\n",
      "\n",
      "Increase the number of iterations (max_iter) or scale the data as shown in:\n",
      "    https://scikit-learn.org/stable/modules/preprocessing.html\n",
      "Please also refer to the documentation for alternative solver options:\n",
      "    https://scikit-learn.org/stable/modules/linear_model.html#logistic-regression\n",
      "  n_iter_i = _check_optimize_result(\n",
      "[Parallel(n_jobs=1)]: Done   1 out of   1 | elapsed:   40.0s remaining:    0.0s\n",
      "[Parallel(n_jobs=1)]: Done   1 out of   1 | elapsed:   40.0s finished\n"
     ]
    }
   ],
   "source": [
    "logistic_regression_custom_cv(X=X, y=y, n_splits=10, min_split=8, max_split=10, max_iter=100, random_state=RANDOM_STATE, verbose=3, warm_start=True)"
   ],
   "metadata": {
    "collapsed": false,
    "pycharm": {
     "name": "#%%\n"
    }
   }
  },
  {
   "cell_type": "code",
   "execution_count": 17,
   "outputs": [
    {
     "name": "stdout",
     "output_type": "stream",
     "text": [
      "START AT: 2023-04-26 19:13:16.360171\n",
      "Split 1: 2023-04-26 19:13:27.334113\n"
     ]
    },
    {
     "name": "stderr",
     "output_type": "stream",
     "text": [
      "[Parallel(n_jobs=1)]: Using backend SequentialBackend with 1 concurrent workers.\n",
      "C:\\Users\\IvarY\\AppData\\Local\\Programs\\Python\\Python39\\lib\\site-packages\\sklearn\\linear_model\\_logistic.py:458: ConvergenceWarning: lbfgs failed to converge (status=1):\n",
      "STOP: TOTAL NO. of ITERATIONS REACHED LIMIT.\n",
      "\n",
      "Increase the number of iterations (max_iter) or scale the data as shown in:\n",
      "    https://scikit-learn.org/stable/modules/preprocessing.html\n",
      "Please also refer to the documentation for alternative solver options:\n",
      "    https://scikit-learn.org/stable/modules/linear_model.html#logistic-regression\n",
      "  n_iter_i = _check_optimize_result(\n",
      "[Parallel(n_jobs=1)]: Done   1 out of   1 | elapsed:    8.9s remaining:    0.0s\n",
      "[Parallel(n_jobs=1)]: Done   1 out of   1 | elapsed:    8.9s finished\n"
     ]
    },
    {
     "name": "stdout",
     "output_type": "stream",
     "text": [
      "logistic_regression_v11_split1: 0.7110613043752763\n",
      "Split 2: 2023-04-26 19:13:36.588482\n"
     ]
    },
    {
     "name": "stderr",
     "output_type": "stream",
     "text": [
      "[Parallel(n_jobs=1)]: Using backend SequentialBackend with 1 concurrent workers.\n",
      "C:\\Users\\IvarY\\AppData\\Local\\Programs\\Python\\Python39\\lib\\site-packages\\sklearn\\linear_model\\_logistic.py:458: ConvergenceWarning: lbfgs failed to converge (status=1):\n",
      "STOP: TOTAL NO. of ITERATIONS REACHED LIMIT.\n",
      "\n",
      "Increase the number of iterations (max_iter) or scale the data as shown in:\n",
      "    https://scikit-learn.org/stable/modules/preprocessing.html\n",
      "Please also refer to the documentation for alternative solver options:\n",
      "    https://scikit-learn.org/stable/modules/linear_model.html#logistic-regression\n",
      "  n_iter_i = _check_optimize_result(\n",
      "[Parallel(n_jobs=1)]: Done   1 out of   1 | elapsed:   17.6s remaining:    0.0s\n",
      "[Parallel(n_jobs=1)]: Done   1 out of   1 | elapsed:   17.6s finished\n"
     ]
    },
    {
     "name": "stdout",
     "output_type": "stream",
     "text": [
      "logistic_regression_v11_split2: 0.7747443565502604\n",
      "Split 3: 2023-04-26 19:13:54.812323\n"
     ]
    },
    {
     "name": "stderr",
     "output_type": "stream",
     "text": [
      "[Parallel(n_jobs=1)]: Using backend SequentialBackend with 1 concurrent workers.\n",
      "C:\\Users\\IvarY\\AppData\\Local\\Programs\\Python\\Python39\\lib\\site-packages\\sklearn\\linear_model\\_logistic.py:458: ConvergenceWarning: lbfgs failed to converge (status=1):\n",
      "STOP: TOTAL NO. of ITERATIONS REACHED LIMIT.\n",
      "\n",
      "Increase the number of iterations (max_iter) or scale the data as shown in:\n",
      "    https://scikit-learn.org/stable/modules/preprocessing.html\n",
      "Please also refer to the documentation for alternative solver options:\n",
      "    https://scikit-learn.org/stable/modules/linear_model.html#logistic-regression\n",
      "  n_iter_i = _check_optimize_result(\n",
      "[Parallel(n_jobs=1)]: Done   1 out of   1 | elapsed:   22.5s remaining:    0.0s\n",
      "[Parallel(n_jobs=1)]: Done   1 out of   1 | elapsed:   22.5s finished\n"
     ]
    },
    {
     "name": "stdout",
     "output_type": "stream",
     "text": [
      "logistic_regression_v11_split3: 0.7704587625567855\n",
      "Split 4: 2023-04-26 19:14:18.014198\n"
     ]
    },
    {
     "name": "stderr",
     "output_type": "stream",
     "text": [
      "[Parallel(n_jobs=1)]: Using backend SequentialBackend with 1 concurrent workers.\n",
      "C:\\Users\\IvarY\\AppData\\Local\\Programs\\Python\\Python39\\lib\\site-packages\\sklearn\\linear_model\\_logistic.py:458: ConvergenceWarning: lbfgs failed to converge (status=1):\n",
      "STOP: TOTAL NO. of ITERATIONS REACHED LIMIT.\n",
      "\n",
      "Increase the number of iterations (max_iter) or scale the data as shown in:\n",
      "    https://scikit-learn.org/stable/modules/preprocessing.html\n",
      "Please also refer to the documentation for alternative solver options:\n",
      "    https://scikit-learn.org/stable/modules/linear_model.html#logistic-regression\n",
      "  n_iter_i = _check_optimize_result(\n",
      "[Parallel(n_jobs=1)]: Done   1 out of   1 | elapsed:   27.1s remaining:    0.0s\n",
      "[Parallel(n_jobs=1)]: Done   1 out of   1 | elapsed:   27.1s finished\n"
     ]
    },
    {
     "name": "stdout",
     "output_type": "stream",
     "text": [
      "logistic_regression_v11_split4: 0.7623634782048391\n",
      "Split 5: 2023-04-26 19:14:45.886195\n"
     ]
    },
    {
     "name": "stderr",
     "output_type": "stream",
     "text": [
      "[Parallel(n_jobs=1)]: Using backend SequentialBackend with 1 concurrent workers.\n"
     ]
    },
    {
     "name": "stdout",
     "output_type": "stream",
     "text": [
      "logistic_regression_v11_split5: 0.857639344262295\n",
      "FINISH: 2023-04-26 19:15:20.697072\n"
     ]
    },
    {
     "name": "stderr",
     "output_type": "stream",
     "text": [
      "C:\\Users\\IvarY\\AppData\\Local\\Programs\\Python\\Python39\\lib\\site-packages\\sklearn\\linear_model\\_logistic.py:458: ConvergenceWarning: lbfgs failed to converge (status=1):\n",
      "STOP: TOTAL NO. of ITERATIONS REACHED LIMIT.\n",
      "\n",
      "Increase the number of iterations (max_iter) or scale the data as shown in:\n",
      "    https://scikit-learn.org/stable/modules/preprocessing.html\n",
      "Please also refer to the documentation for alternative solver options:\n",
      "    https://scikit-learn.org/stable/modules/linear_model.html#logistic-regression\n",
      "  n_iter_i = _check_optimize_result(\n",
      "[Parallel(n_jobs=1)]: Done   1 out of   1 | elapsed:   34.0s remaining:    0.0s\n",
      "[Parallel(n_jobs=1)]: Done   1 out of   1 | elapsed:   34.0s finished\n"
     ]
    }
   ],
   "source": [
    "logistic_regression_custom_cv(X=X, y=y, n_splits=5, min_split=1, max_split=5, max_iter=100, random_state=RANDOM_STATE, verbose=3, warm_start=True)"
   ],
   "metadata": {
    "collapsed": false,
    "pycharm": {
     "name": "#%%\n"
    }
   }
  },
  {
   "cell_type": "code",
   "execution_count": 14,
   "outputs": [],
   "source": [
    "from sklearn.metrics import confusion_matrix, ConfusionMatrixDisplay"
   ],
   "metadata": {
    "collapsed": false,
    "pycharm": {
     "name": "#%%\n"
    }
   }
  },
  {
   "cell_type": "code",
   "execution_count": 15,
   "outputs": [],
   "source": [
    "def plot_confusion_matrix(clf, y_test, predicted):\n",
    "    classes = clf.classes_\n",
    "    classes[0], classes[1] = classes[1], classes[0]\n",
    "\n",
    "    cm = confusion_matrix(y_test, predicted, labels=classes)\n",
    "    cm = cm.T\n",
    "\n",
    "    disp = ConfusionMatrixDisplay(confusion_matrix=cm, display_labels=classes)\n",
    "    disp.plot()"
   ],
   "metadata": {
    "collapsed": false,
    "pycharm": {
     "name": "#%%\n"
    }
   }
  },
  {
   "cell_type": "code",
   "execution_count": 16,
   "outputs": [],
   "source": [
    "tss_glb = TimeSeriesSplit(n_splits=5)"
   ],
   "metadata": {
    "collapsed": false,
    "pycharm": {
     "name": "#%%\n"
    }
   }
  },
  {
   "cell_type": "code",
   "execution_count": null,
   "outputs": [],
   "source": [
    "model_glb = pickle.load(open(f\"{TUNING_PATH}/{MODEL_NAME}/{MODEL_NAME}_lbfgs_split10.pkl\", \"rb\"))\n",
    "for train_index, test_index in zip(*spl.split_dataset(df_dt, tss_glb)):\n",
    "\n",
    "    X_test=X[test_index]\n",
    "    y_test=y[test_index]\n",
    "    prediction=model_glb.predict(X_test)\n",
    "    plot_confusion_matrix(model_glb, y_test, prediction)"
   ],
   "metadata": {
    "collapsed": false,
    "pycharm": {
     "name": "#%%\n"
    }
   }
  },
  {
   "cell_type": "code",
   "execution_count": 21,
   "outputs": [
    {
     "data": {
      "text/plain": "<Figure size 640x480 with 2 Axes>",
      "image/png": "[encoded data removed]"
     },
     "metadata": {},
     "output_type": "display_data"
    },
    {
     "data": {
      "text/plain": "<Figure size 640x480 with 2 Axes>",
      "image/png": "[encoded data removed]"
     },
     "metadata": {},
     "output_type": "display_data"
    },
    {
     "data": {
      "text/plain": "<Figure size 640x480 with 2 Axes>",
      "image/png": "[encoded data removed]"
     },
     "metadata": {},
     "output_type": "display_data"
    },
    {
     "data": {
      "text/plain": "<Figure size 640x480 with 2 Axes>",
      "image/png": "[encoded data removed]"
     },
     "metadata": {},
     "output_type": "display_data"
    },
    {
     "data": {
      "text/plain": "<Figure size 640x480 with 2 Axes>",
      "image/png": "[encoded data removed]"
     },
     "metadata": {},
     "output_type": "display_data"
    }
   ],
   "source": [
    "model_glb = pickle.load(open(f\"{TUNING_PATH}/logistic_regression_v10/logistic_regression_v10_liblinear_split4.pkl\", \"rb\"))\n",
    "for train_index, test_index in zip(*spl.split_dataset(df_dt, tss_glb)):\n",
    "\n",
    "    X_test=X[test_index]\n",
    "    y_test=y[test_index]\n",
    "    prediction=model_glb.predict(X_test)\n",
    "    plot_confusion_matrix(model_glb, y_test, prediction)"
   ],
   "metadata": {
    "collapsed": false,
    "pycharm": {
     "name": "#%%\n"
    }
   }
  },
  {
   "cell_type": "code",
   "execution_count": 23,
   "outputs": [
    {
     "name": "stdout",
     "output_type": "stream",
     "text": [
      "START AT: 2023-04-26 19:32:44.638051\n",
      "Split 3: 2023-04-26 19:32:53.233418\n"
     ]
    },
    {
     "name": "stderr",
     "output_type": "stream",
     "text": [
      "C:\\Users\\IvarY\\AppData\\Local\\Programs\\Python\\Python39\\lib\\site-packages\\sklearn\\linear_model\\_logistic.py:458: ConvergenceWarning: lbfgs failed to converge (status=1):\n",
      "STOP: TOTAL NO. of ITERATIONS REACHED LIMIT.\n",
      "\n",
      "Increase the number of iterations (max_iter) or scale the data as shown in:\n",
      "    https://scikit-learn.org/stable/modules/preprocessing.html\n",
      "Please also refer to the documentation for alternative solver options:\n",
      "    https://scikit-learn.org/stable/modules/linear_model.html#logistic-regression\n",
      "  n_iter_i = _check_optimize_result(\n"
     ]
    },
    {
     "name": "stdout",
     "output_type": "stream",
     "text": [
      "logistic_regression_v11_split3: 0.5295924243393691\n",
      "Split 4: 2023-04-26 19:33:18.756254\n"
     ]
    },
    {
     "name": "stderr",
     "output_type": "stream",
     "text": [
      "C:\\Users\\IvarY\\AppData\\Local\\Programs\\Python\\Python39\\lib\\site-packages\\sklearn\\linear_model\\_logistic.py:458: ConvergenceWarning: lbfgs failed to converge (status=1):\n",
      "STOP: TOTAL NO. of ITERATIONS REACHED LIMIT.\n",
      "\n",
      "Increase the number of iterations (max_iter) or scale the data as shown in:\n",
      "    https://scikit-learn.org/stable/modules/preprocessing.html\n",
      "Please also refer to the documentation for alternative solver options:\n",
      "    https://scikit-learn.org/stable/modules/linear_model.html#logistic-regression\n",
      "  n_iter_i = _check_optimize_result(\n"
     ]
    },
    {
     "name": "stdout",
     "output_type": "stream",
     "text": [
      "logistic_regression_v11_split4: 0.5392570636940623\n",
      "Split 5: 2023-04-26 19:33:47.952207\n",
      "logistic_regression_v11_split5: 0.5518032786885246\n",
      "FINISH: 2023-04-26 19:34:27.079974\n"
     ]
    },
    {
     "name": "stderr",
     "output_type": "stream",
     "text": [
      "C:\\Users\\IvarY\\AppData\\Local\\Programs\\Python\\Python39\\lib\\site-packages\\sklearn\\linear_model\\_logistic.py:458: ConvergenceWarning: lbfgs failed to converge (status=1):\n",
      "STOP: TOTAL NO. of ITERATIONS REACHED LIMIT.\n",
      "\n",
      "Increase the number of iterations (max_iter) or scale the data as shown in:\n",
      "    https://scikit-learn.org/stable/modules/preprocessing.html\n",
      "Please also refer to the documentation for alternative solver options:\n",
      "    https://scikit-learn.org/stable/modules/linear_model.html#logistic-regression\n",
      "  n_iter_i = _check_optimize_result(\n"
     ]
    }
   ],
   "source": [
    "logistic_regression_custom_cv(X=X, y=y, n_splits=5, min_split=3, max_split=5, class_weight='balanced')"
   ],
   "metadata": {
    "collapsed": false,
    "pycharm": {
     "name": "#%%\n"
    }
   }
  },
  {
   "cell_type": "code",
   "execution_count": 18,
   "outputs": [
    {
     "name": "stdout",
     "output_type": "stream",
     "text": [
      "START AT: 2023-04-26 20:08:17.141160\n",
      "Split 3: 2023-04-26 20:08:24.299608\n"
     ]
    },
    {
     "name": "stderr",
     "output_type": "stream",
     "text": [
      "C:\\Users\\IvarY\\AppData\\Local\\Programs\\Python\\Python39\\lib\\site-packages\\sklearn\\linear_model\\_sag.py:350: ConvergenceWarning: The max_iter was reached which means the coef_ did not converge\n",
      "  warnings.warn(\n"
     ]
    },
    {
     "name": "stdout",
     "output_type": "stream",
     "text": [
      "logistic_regression_v11_split3: 0.5510589289141979\n",
      "Split 4: 2023-04-26 20:09:52.400298\n"
     ]
    },
    {
     "name": "stderr",
     "output_type": "stream",
     "text": [
      "C:\\Users\\IvarY\\AppData\\Local\\Programs\\Python\\Python39\\lib\\site-packages\\sklearn\\linear_model\\_sag.py:350: ConvergenceWarning: The max_iter was reached which means the coef_ did not converge\n",
      "  warnings.warn(\n"
     ]
    },
    {
     "name": "stdout",
     "output_type": "stream",
     "text": [
      "logistic_regression_v11_split4: 0.59595992138922\n",
      "Split 5: 2023-04-26 20:11:46.413332\n",
      "logistic_regression_v11_split5: 0.5777704918032787\n",
      "FINISH: 2023-04-26 20:14:14.478805\n"
     ]
    },
    {
     "name": "stderr",
     "output_type": "stream",
     "text": [
      "C:\\Users\\IvarY\\AppData\\Local\\Programs\\Python\\Python39\\lib\\site-packages\\sklearn\\linear_model\\_sag.py:350: ConvergenceWarning: The max_iter was reached which means the coef_ did not converge\n",
      "  warnings.warn(\n"
     ]
    }
   ],
   "source": [
    "logistic_regression_custom_cv(X=X, y=y, n_splits=5, min_split=3, max_split=5, class_weight='balanced', solver='saga', penalty='l2', warm_start=True)"
   ],
   "metadata": {
    "collapsed": false,
    "pycharm": {
     "name": "#%%\n"
    }
   }
  },
  {
   "cell_type": "code",
   "execution_count": 29,
   "outputs": [
    {
     "name": "stdout",
     "output_type": "stream",
     "text": [
      "Split 1\n",
      "Train data total alert time: 14860/36142\n",
      "Test data total alert time: 8424/31678\n",
      "Split 2\n",
      "Train data total alert time: 23284/67820\n",
      "Test data total alert time: 6655/31098\n",
      "Split 3\n",
      "Train data total alert time: 29939/98918\n",
      "Test data total alert time: 7130/31258\n",
      "Split 4\n",
      "Train data total alert time: 37069/130176\n",
      "Test data total alert time: 7376/31039\n",
      "Split 5\n",
      "Train data total alert time: 44445/161215\n",
      "Test data total alert time: 4341/30500\n"
     ]
    }
   ],
   "source": [
    "split_glb=1\n",
    "for train_index, test_index in zip(*spl.split_dataset(df_dt, tss_glb)):\n",
    "    #X_train=X[train_index]\n",
    "    #X_test=X[test_index]\n",
    "    y_train=y[train_index]\n",
    "    y_test=y[test_index]\n",
    "    print(f\"Split {split_glb}\")\n",
    "    print(f\"Train data total alert time: {y_train.sum()}/{y_train.size}\")\n",
    "    print(f\"Test data total alert time: {y_test.sum()}/{y_test.size}\")\n",
    "    split_glb+=1"
   ],
   "metadata": {
    "collapsed": false,
    "pycharm": {
     "name": "#%%\n"
    }
   }
  },
  {
   "cell_type": "code",
   "execution_count": 20,
   "outputs": [
    {
     "data": {
      "text/plain": "<Figure size 640x480 with 2 Axes>",
      "image/png": "[encoded data removed]"
     },
     "metadata": {},
     "output_type": "display_data"
    },
    {
     "data": {
      "text/plain": "<Figure size 640x480 with 2 Axes>",
      "image/png": "[encoded data removed]"
     },
     "metadata": {},
     "output_type": "display_data"
    },
    {
     "data": {
      "text/plain": "<Figure size 640x480 with 2 Axes>",
      "image/png": "[encoded data removed]"
     },
     "metadata": {},
     "output_type": "display_data"
    }
   ],
   "source": [
    "split_glb=1\n",
    "\n",
    "for train_index, test_index in zip(*spl.split_dataset(df_dt, tss_glb)):\n",
    "    if(split_glb<3):\n",
    "        split_glb+=1\n",
    "        continue\n",
    "    model_glb = pickle.load(open(f\"{TUNING_PATH}/logistic_regression_v11/logistic_regression_v11_saga_split{split_glb}.pkl\", \"rb\"))\n",
    "    X_test=X[test_index]\n",
    "    y_test=y[test_index]\n",
    "    prediction=model_glb.predict(X_test)\n",
    "    plot_confusion_matrix(model_glb, y_test, prediction)\n",
    "    split_glb+=1"
   ],
   "metadata": {
    "collapsed": false,
    "pycharm": {
     "name": "#%%\n"
    }
   }
  },
  {
   "cell_type": "code",
   "execution_count": null,
   "outputs": [],
   "source": [],
   "metadata": {
    "collapsed": false,
    "pycharm": {
     "name": "#%%\n"
    }
   }
  }
 ],
 "metadata": {
  "kernelspec": {
   "display_name": "Python 3",
   "language": "python",
   "name": "python3"
  },
  "language_info": {
   "codemirror_mode": {
    "name": "ipython",
    "version": 2
   },
   "file_extension": ".py",
   "mimetype": "text/x-python",
   "name": "python",
   "nbconvert_exporter": "python",
   "pygments_lexer": "ipython2",
   "version": "2.7.6"
  }
 },
 "nbformat": 4,
 "nbformat_minor": 0
}