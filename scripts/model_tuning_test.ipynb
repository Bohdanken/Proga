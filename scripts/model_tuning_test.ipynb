{
 "cells": [
  {
   "cell_type": "code",
   "execution_count": 1,
   "metadata": {
    "collapsed": true,
    "pycharm": {
     "name": "#%%\n"
    }
   },
   "outputs": [],
   "source": [
    "import numpy as np\n",
    "import pandas as pd\n",
    "\n",
    "import pickle\n",
    "\n",
    "import scipy\n",
    "import scipy.sparse as sp\n",
    "\n",
    "import scripts.training.Dataset_split as dtspl"
   ]
  },
  {
   "cell_type": "code",
   "execution_count": 2,
   "outputs": [],
   "source": [
    "PROGRAM_FOLDER = \"..\"\n",
    "INPUT_DATA_FOLDER = \"data/final_data\"\n",
    "MODEL_FOLDER = \"model\"\n",
    "FINAL_TRAIN_MATRIX = \"final_train_matrix_v1.pkl\"\n",
    "FINAL_DATETIMES = \"final_datetimes_v1\"\n",
    "FINAL_Y = \"final_y_v1\"\n",
    "TUNING_FOLDER = f\"{MODEL_FOLDER}/tuning\"\n",
    "alarm_classifier = \"alarm_classifier\"\n",
    "alarm_classifier_version = \"v1\""
   ],
   "metadata": {
    "collapsed": false,
    "pycharm": {
     "name": "#%%\n"
    }
   }
  },
  {
   "cell_type": "code",
   "execution_count": 3,
   "outputs": [],
   "source": [
    "#read data from files\n",
    "df_work_v3 = pd.read_csv(f\"../{INPUT_DATA_FOLDER}/df_work_v3.csv\", sep=\";\")\n",
    "tfidf_vector_all = pickle.load(open(f\"../{MODEL_FOLDER}/tfidf_vector_calculated.pkl\", \"rb\"))"
   ],
   "metadata": {
    "collapsed": false,
    "pycharm": {
     "name": "#%%\n"
    }
   }
  },
  {
   "cell_type": "code",
   "execution_count": 4,
   "outputs": [
    {
     "data": {
      "text/plain": "       day_datetime  day_tempmax  day_tempmin  day_temp  day_dew  \\\n0        2022-02-26          6.3         -1.5       1.9     -2.7   \n1        2022-02-26          6.3         -1.5       1.9     -2.7   \n2        2022-02-26          6.3         -1.5       1.9     -2.7   \n3        2022-02-26          6.3         -1.5       1.9     -2.7   \n4        2022-02-26          6.3         -1.5       1.9     -2.7   \n...             ...          ...          ...       ...      ...   \n191710   2023-01-20         11.2          5.7       7.9      6.2   \n191711   2023-01-20         11.2          5.7       7.9      6.2   \n191712   2023-01-20         11.2          5.7       7.9      6.2   \n191713   2023-01-20         11.2          5.7       7.9      6.2   \n191714   2023-01-20         11.2          5.7       7.9      6.2   \n\n        day_humidity  day_precip  day_precipcover  day_solarradiation  \\\n0               73.4         0.0              0.0               116.2   \n1               73.4         0.0              0.0               116.2   \n2               73.4         0.0              0.0               116.2   \n3               73.4         0.0              0.0               116.2   \n4               73.4         0.0              0.0               116.2   \n...              ...         ...              ...                 ...   \n191710          89.3         0.6             12.5                16.8   \n191711          89.3         0.6             12.5                16.8   \n191712          89.3         0.6             12.5                16.8   \n191713          89.3         0.6             12.5                16.8   \n191714          89.3         0.6             12.5                16.8   \n\n        day_solarenergy  ...  hour_pressure  hour_visibility hour_cloudcover  \\\n0                   8.4  ...         1022.0             24.1             0.0   \n1                   8.4  ...         1023.0             24.1             0.0   \n2                   8.4  ...         1023.6             10.0            90.0   \n3                   8.4  ...         1024.0             24.1            63.6   \n4                   8.4  ...         1024.0             24.1            73.6   \n...                 ...  ...            ...              ...             ...   \n191710              1.4  ...         1010.0             24.1           100.0   \n191711              1.4  ...         1010.8             10.0            30.0   \n191712              1.4  ...         1011.0             24.1           100.0   \n191713              1.4  ...         1011.0             24.1           100.0   \n191714              1.4  ...         1011.8             10.0           100.0   \n\n        hour_solarradiation  hour_uvindex  hour_severerisk  region_id_x  \\\n0                       0.0           0.0             10.0            3   \n1                       0.0           0.0             10.0            3   \n2                       NaN           NaN             10.0            3   \n3                       0.0           0.0             10.0            3   \n4                       0.0           0.0             10.0            3   \n...                     ...           ...              ...          ...   \n191710                  0.0           0.0             10.0            2   \n191711                  0.0           0.0             10.0            2   \n191712                  0.0           0.0             10.0            2   \n191713                  0.0           0.0             10.0            2   \n191714                  0.0           0.0             10.0            2   \n\n        is_alarm  region_id_y  hour_conditions_id  \n0              0            3                   0  \n1              0            3                   0  \n2              0            3                   4  \n3              0            3                   4  \n4              0            3                   4  \n...          ...          ...                 ...  \n191710         0            2                   3  \n191711         0            2                   4  \n191712         0            2                   3  \n191713         0            2                   3  \n191714         0            2                   3  \n\n[191715 rows x 33 columns]",
      "text/html": "<div>\n<style scoped>\n    .dataframe tbody tr th:only-of-type {\n        vertical-align: middle;\n    }\n\n    .dataframe tbody tr th {\n        vertical-align: top;\n    }\n\n    .dataframe thead th {\n        text-align: right;\n    }\n</style>\n<table border=\"1\" class=\"dataframe\">\n  <thead>\n    <tr style=\"text-align: right;\">\n      <th></th>\n      <th>day_datetime</th>\n      <th>day_tempmax</th>\n      <th>day_tempmin</th>\n      <th>day_temp</th>\n      <th>day_dew</th>\n      <th>day_humidity</th>\n      <th>day_precip</th>\n      <th>day_precipcover</th>\n      <th>day_solarradiation</th>\n      <th>day_solarenergy</th>\n      <th>...</th>\n      <th>hour_pressure</th>\n      <th>hour_visibility</th>\n      <th>hour_cloudcover</th>\n      <th>hour_solarradiation</th>\n      <th>hour_uvindex</th>\n      <th>hour_severerisk</th>\n      <th>region_id_x</th>\n      <th>is_alarm</th>\n      <th>region_id_y</th>\n      <th>hour_conditions_id</th>\n    </tr>\n  </thead>\n  <tbody>\n    <tr>\n      <th>0</th>\n      <td>2022-02-26</td>\n      <td>6.3</td>\n      <td>-1.5</td>\n      <td>1.9</td>\n      <td>-2.7</td>\n      <td>73.4</td>\n      <td>0.0</td>\n      <td>0.0</td>\n      <td>116.2</td>\n      <td>8.4</td>\n      <td>...</td>\n      <td>1022.0</td>\n      <td>24.1</td>\n      <td>0.0</td>\n      <td>0.0</td>\n      <td>0.0</td>\n      <td>10.0</td>\n      <td>3</td>\n      <td>0</td>\n      <td>3</td>\n      <td>0</td>\n    </tr>\n    <tr>\n      <th>1</th>\n      <td>2022-02-26</td>\n      <td>6.3</td>\n      <td>-1.5</td>\n      <td>1.9</td>\n      <td>-2.7</td>\n      <td>73.4</td>\n      <td>0.0</td>\n      <td>0.0</td>\n      <td>116.2</td>\n      <td>8.4</td>\n      <td>...</td>\n      <td>1023.0</td>\n      <td>24.1</td>\n      <td>0.0</td>\n      <td>0.0</td>\n      <td>0.0</td>\n      <td>10.0</td>\n      <td>3</td>\n      <td>0</td>\n      <td>3</td>\n      <td>0</td>\n    </tr>\n    <tr>\n      <th>2</th>\n      <td>2022-02-26</td>\n      <td>6.3</td>\n      <td>-1.5</td>\n      <td>1.9</td>\n      <td>-2.7</td>\n      <td>73.4</td>\n      <td>0.0</td>\n      <td>0.0</td>\n      <td>116.2</td>\n      <td>8.4</td>\n      <td>...</td>\n      <td>1023.6</td>\n      <td>10.0</td>\n      <td>90.0</td>\n      <td>NaN</td>\n      <td>NaN</td>\n      <td>10.0</td>\n      <td>3</td>\n      <td>0</td>\n      <td>3</td>\n      <td>4</td>\n    </tr>\n    <tr>\n      <th>3</th>\n      <td>2022-02-26</td>\n      <td>6.3</td>\n      <td>-1.5</td>\n      <td>1.9</td>\n      <td>-2.7</td>\n      <td>73.4</td>\n      <td>0.0</td>\n      <td>0.0</td>\n      <td>116.2</td>\n      <td>8.4</td>\n      <td>...</td>\n      <td>1024.0</td>\n      <td>24.1</td>\n      <td>63.6</td>\n      <td>0.0</td>\n      <td>0.0</td>\n      <td>10.0</td>\n      <td>3</td>\n      <td>0</td>\n      <td>3</td>\n      <td>4</td>\n    </tr>\n    <tr>\n      <th>4</th>\n      <td>2022-02-26</td>\n      <td>6.3</td>\n      <td>-1.5</td>\n      <td>1.9</td>\n      <td>-2.7</td>\n      <td>73.4</td>\n      <td>0.0</td>\n      <td>0.0</td>\n      <td>116.2</td>\n      <td>8.4</td>\n      <td>...</td>\n      <td>1024.0</td>\n      <td>24.1</td>\n      <td>73.6</td>\n      <td>0.0</td>\n      <td>0.0</td>\n      <td>10.0</td>\n      <td>3</td>\n      <td>0</td>\n      <td>3</td>\n      <td>4</td>\n    </tr>\n    <tr>\n      <th>...</th>\n      <td>...</td>\n      <td>...</td>\n      <td>...</td>\n      <td>...</td>\n      <td>...</td>\n      <td>...</td>\n      <td>...</td>\n      <td>...</td>\n      <td>...</td>\n      <td>...</td>\n      <td>...</td>\n      <td>...</td>\n      <td>...</td>\n      <td>...</td>\n      <td>...</td>\n      <td>...</td>\n      <td>...</td>\n      <td>...</td>\n      <td>...</td>\n      <td>...</td>\n      <td>...</td>\n    </tr>\n    <tr>\n      <th>191710</th>\n      <td>2023-01-20</td>\n      <td>11.2</td>\n      <td>5.7</td>\n      <td>7.9</td>\n      <td>6.2</td>\n      <td>89.3</td>\n      <td>0.6</td>\n      <td>12.5</td>\n      <td>16.8</td>\n      <td>1.4</td>\n      <td>...</td>\n      <td>1010.0</td>\n      <td>24.1</td>\n      <td>100.0</td>\n      <td>0.0</td>\n      <td>0.0</td>\n      <td>10.0</td>\n      <td>2</td>\n      <td>0</td>\n      <td>2</td>\n      <td>3</td>\n    </tr>\n    <tr>\n      <th>191711</th>\n      <td>2023-01-20</td>\n      <td>11.2</td>\n      <td>5.7</td>\n      <td>7.9</td>\n      <td>6.2</td>\n      <td>89.3</td>\n      <td>0.6</td>\n      <td>12.5</td>\n      <td>16.8</td>\n      <td>1.4</td>\n      <td>...</td>\n      <td>1010.8</td>\n      <td>10.0</td>\n      <td>30.0</td>\n      <td>0.0</td>\n      <td>0.0</td>\n      <td>10.0</td>\n      <td>2</td>\n      <td>0</td>\n      <td>2</td>\n      <td>4</td>\n    </tr>\n    <tr>\n      <th>191712</th>\n      <td>2023-01-20</td>\n      <td>11.2</td>\n      <td>5.7</td>\n      <td>7.9</td>\n      <td>6.2</td>\n      <td>89.3</td>\n      <td>0.6</td>\n      <td>12.5</td>\n      <td>16.8</td>\n      <td>1.4</td>\n      <td>...</td>\n      <td>1011.0</td>\n      <td>24.1</td>\n      <td>100.0</td>\n      <td>0.0</td>\n      <td>0.0</td>\n      <td>10.0</td>\n      <td>2</td>\n      <td>0</td>\n      <td>2</td>\n      <td>3</td>\n    </tr>\n    <tr>\n      <th>191713</th>\n      <td>2023-01-20</td>\n      <td>11.2</td>\n      <td>5.7</td>\n      <td>7.9</td>\n      <td>6.2</td>\n      <td>89.3</td>\n      <td>0.6</td>\n      <td>12.5</td>\n      <td>16.8</td>\n      <td>1.4</td>\n      <td>...</td>\n      <td>1011.0</td>\n      <td>24.1</td>\n      <td>100.0</td>\n      <td>0.0</td>\n      <td>0.0</td>\n      <td>10.0</td>\n      <td>2</td>\n      <td>0</td>\n      <td>2</td>\n      <td>3</td>\n    </tr>\n    <tr>\n      <th>191714</th>\n      <td>2023-01-20</td>\n      <td>11.2</td>\n      <td>5.7</td>\n      <td>7.9</td>\n      <td>6.2</td>\n      <td>89.3</td>\n      <td>0.6</td>\n      <td>12.5</td>\n      <td>16.8</td>\n      <td>1.4</td>\n      <td>...</td>\n      <td>1011.8</td>\n      <td>10.0</td>\n      <td>100.0</td>\n      <td>0.0</td>\n      <td>0.0</td>\n      <td>10.0</td>\n      <td>2</td>\n      <td>0</td>\n      <td>2</td>\n      <td>3</td>\n    </tr>\n  </tbody>\n</table>\n<p>191715 rows × 33 columns</p>\n</div>"
     },
     "execution_count": 4,
     "metadata": {},
     "output_type": "execute_result"
    }
   ],
   "source": [
    "df_work_v3"
   ],
   "metadata": {
    "collapsed": false,
    "pycharm": {
     "name": "#%%\n"
    }
   }
  },
  {
   "cell_type": "code",
   "execution_count": 5,
   "outputs": [],
   "source": [
    "columns_to_drop = ['day_solarradiation', 'day_solarenergy', 'day_uvindex', 'hour_visibility', 'hour_solarradiation', 'hour_uvindex']"
   ],
   "metadata": {
    "collapsed": false,
    "pycharm": {
     "name": "#%%\n"
    }
   }
  },
  {
   "cell_type": "code",
   "execution_count": 6,
   "outputs": [],
   "source": [
    "df_work_v3.drop(columns_to_drop, axis=1, inplace=True)"
   ],
   "metadata": {
    "collapsed": false,
    "pycharm": {
     "name": "#%%\n"
    }
   }
  },
  {
   "cell_type": "code",
   "execution_count": 7,
   "outputs": [],
   "source": [
    "#print(df_work_v3['hour_precip'].isna().sum())\n",
    "#df_work_v3"
   ],
   "metadata": {
    "collapsed": false,
    "pycharm": {
     "name": "#%%\n"
    }
   }
  },
  {
   "cell_type": "code",
   "execution_count": 8,
   "outputs": [],
   "source": [
    "#df_precip=df_work_v3['hour_precip'].to_frame()\n",
    "#df_precip"
   ],
   "metadata": {
    "collapsed": false,
    "pycharm": {
     "name": "#%%\n"
    }
   }
  },
  {
   "cell_type": "code",
   "execution_count": 9,
   "outputs": [],
   "source": [
    "#df_precip_fix1=df_precip.fillna(method='bfill')\n",
    "#df_precip_fix1=df_precip.interpolate()\n",
    "#df_precip_fix1"
   ],
   "metadata": {
    "collapsed": false,
    "pycharm": {
     "name": "#%%\n"
    }
   }
  },
  {
   "cell_type": "code",
   "execution_count": 10,
   "outputs": [],
   "source": [
    "#modified_rows = df_precip_fix1.index[df_precip_fix1.ne(df_precip).any(axis=1)]\n",
    "\n",
    "#df_precip_fix1.loc[modified_rows]"
   ],
   "metadata": {
    "collapsed": false,
    "pycharm": {
     "name": "#%%\n"
    }
   }
  },
  {
   "cell_type": "code",
   "execution_count": 11,
   "outputs": [],
   "source": [
    "df_work_v3.interpolate(inplace=True)"
   ],
   "metadata": {
    "collapsed": false,
    "pycharm": {
     "name": "#%%\n"
    }
   }
  },
  {
   "cell_type": "code",
   "execution_count": 12,
   "outputs": [],
   "source": [
    "#creating df sorted by datetime\n",
    "df_work_v3['datetime'] = pd.to_datetime(df_work_v3['day_datetime'] + ' ' + df_work_v3['hour_datetime'])\n",
    "df_work_v3.drop(['day_datetime', 'hour_datetime'], axis=1, inplace=True)\n",
    "df_sorted = df_work_v3.sort_values('datetime')"
   ],
   "metadata": {
    "collapsed": false,
    "pycharm": {
     "name": "#%%\n"
    }
   }
  },
  {
   "cell_type": "code",
   "execution_count": 13,
   "outputs": [],
   "source": [
    "#separating datetime to split the df\n",
    "df_datetime = df_sorted['datetime']\n",
    "df_datetime = df_datetime.to_frame()"
   ],
   "metadata": {
    "collapsed": false,
    "pycharm": {
     "name": "#%%\n"
    }
   }
  },
  {
   "cell_type": "code",
   "execution_count": 14,
   "outputs": [],
   "source": [
    "df_sorted.drop(['datetime'], axis=1, inplace=True)\n",
    "df_x=df_sorted.drop([\"is_alarm\"], axis=1)\n",
    "y = df_sorted['is_alarm']"
   ],
   "metadata": {
    "collapsed": false,
    "pycharm": {
     "name": "#%%\n"
    }
   }
  },
  {
   "cell_type": "code",
   "execution_count": 35,
   "outputs": [
    {
     "ename": "KeyError",
     "evalue": "False",
     "output_type": "error",
     "traceback": [
      "\u001B[1;31m---------------------------------------------------------------------------\u001B[0m",
      "\u001B[1;31mKeyError\u001B[0m                                  Traceback (most recent call last)",
      "File \u001B[1;32m~\\AppData\\Local\\Programs\\Python\\Python39\\lib\\site-packages\\pandas\\core\\indexes\\base.py:3802\u001B[0m, in \u001B[0;36mIndex.get_loc\u001B[1;34m(self, key, method, tolerance)\u001B[0m\n\u001B[0;32m   3801\u001B[0m \u001B[38;5;28;01mtry\u001B[39;00m:\n\u001B[1;32m-> 3802\u001B[0m     \u001B[38;5;28;01mreturn\u001B[39;00m \u001B[38;5;28;43mself\u001B[39;49m\u001B[38;5;241;43m.\u001B[39;49m\u001B[43m_engine\u001B[49m\u001B[38;5;241;43m.\u001B[39;49m\u001B[43mget_loc\u001B[49m\u001B[43m(\u001B[49m\u001B[43mcasted_key\u001B[49m\u001B[43m)\u001B[49m\n\u001B[0;32m   3803\u001B[0m \u001B[38;5;28;01mexcept\u001B[39;00m \u001B[38;5;167;01mKeyError\u001B[39;00m \u001B[38;5;28;01mas\u001B[39;00m err:\n",
      "File \u001B[1;32m~\\AppData\\Local\\Programs\\Python\\Python39\\lib\\site-packages\\pandas\\_libs\\index.pyx:138\u001B[0m, in \u001B[0;36mpandas._libs.index.IndexEngine.get_loc\u001B[1;34m()\u001B[0m\n",
      "File \u001B[1;32m~\\AppData\\Local\\Programs\\Python\\Python39\\lib\\site-packages\\pandas\\_libs\\index.pyx:165\u001B[0m, in \u001B[0;36mpandas._libs.index.IndexEngine.get_loc\u001B[1;34m()\u001B[0m\n",
      "File \u001B[1;32mpandas\\_libs\\hashtable_class_helper.pxi:4726\u001B[0m, in \u001B[0;36mpandas._libs.hashtable.UInt8HashTable.get_item\u001B[1;34m()\u001B[0m\n",
      "File \u001B[1;32mpandas\\_libs\\hashtable_class_helper.pxi:4736\u001B[0m, in \u001B[0;36mpandas._libs.hashtable.UInt8HashTable.get_item\u001B[1;34m()\u001B[0m\n",
      "\u001B[1;31mKeyError\u001B[0m: 0",
      "\nThe above exception was the direct cause of the following exception:\n",
      "\u001B[1;31mKeyError\u001B[0m                                  Traceback (most recent call last)",
      "Cell \u001B[1;32mIn[35], line 1\u001B[0m\n\u001B[1;32m----> 1\u001B[0m \u001B[38;5;28mprint\u001B[39m(\u001B[43mpd\u001B[49m\u001B[38;5;241;43m.\u001B[39;49m\u001B[43mSeries\u001B[49m\u001B[43m(\u001B[49m\u001B[43mdf_x\u001B[49m\u001B[38;5;241;43m.\u001B[39;49m\u001B[43mindex\u001B[49m\u001B[43m \u001B[49m\u001B[38;5;241;43m==\u001B[39;49m\u001B[43m \u001B[49m\u001B[43my\u001B[49m\u001B[38;5;241;43m.\u001B[39;49m\u001B[43mindex\u001B[49m\u001B[43m)\u001B[49m\u001B[38;5;241;43m.\u001B[39;49m\u001B[43mvalue_counts\u001B[49m\u001B[43m(\u001B[49m\u001B[43m)\u001B[49m\u001B[43m[\u001B[49m\u001B[38;5;28;43;01mFalse\u001B[39;49;00m\u001B[43m]\u001B[49m)\n",
      "File \u001B[1;32m~\\AppData\\Local\\Programs\\Python\\Python39\\lib\\site-packages\\pandas\\core\\series.py:981\u001B[0m, in \u001B[0;36mSeries.__getitem__\u001B[1;34m(self, key)\u001B[0m\n\u001B[0;32m    978\u001B[0m     \u001B[38;5;28;01mreturn\u001B[39;00m \u001B[38;5;28mself\u001B[39m\u001B[38;5;241m.\u001B[39m_values[key]\n\u001B[0;32m    980\u001B[0m \u001B[38;5;28;01melif\u001B[39;00m key_is_scalar:\n\u001B[1;32m--> 981\u001B[0m     \u001B[38;5;28;01mreturn\u001B[39;00m \u001B[38;5;28;43mself\u001B[39;49m\u001B[38;5;241;43m.\u001B[39;49m\u001B[43m_get_value\u001B[49m\u001B[43m(\u001B[49m\u001B[43mkey\u001B[49m\u001B[43m)\u001B[49m\n\u001B[0;32m    983\u001B[0m \u001B[38;5;28;01mif\u001B[39;00m is_hashable(key):\n\u001B[0;32m    984\u001B[0m     \u001B[38;5;66;03m# Otherwise index.get_value will raise InvalidIndexError\u001B[39;00m\n\u001B[0;32m    985\u001B[0m     \u001B[38;5;28;01mtry\u001B[39;00m:\n\u001B[0;32m    986\u001B[0m         \u001B[38;5;66;03m# For labels that don't resolve as scalars like tuples and frozensets\u001B[39;00m\n",
      "File \u001B[1;32m~\\AppData\\Local\\Programs\\Python\\Python39\\lib\\site-packages\\pandas\\core\\series.py:1089\u001B[0m, in \u001B[0;36mSeries._get_value\u001B[1;34m(self, label, takeable)\u001B[0m\n\u001B[0;32m   1086\u001B[0m     \u001B[38;5;28;01mreturn\u001B[39;00m \u001B[38;5;28mself\u001B[39m\u001B[38;5;241m.\u001B[39m_values[label]\n\u001B[0;32m   1088\u001B[0m \u001B[38;5;66;03m# Similar to Index.get_value, but we do not fall back to positional\u001B[39;00m\n\u001B[1;32m-> 1089\u001B[0m loc \u001B[38;5;241m=\u001B[39m \u001B[38;5;28;43mself\u001B[39;49m\u001B[38;5;241;43m.\u001B[39;49m\u001B[43mindex\u001B[49m\u001B[38;5;241;43m.\u001B[39;49m\u001B[43mget_loc\u001B[49m\u001B[43m(\u001B[49m\u001B[43mlabel\u001B[49m\u001B[43m)\u001B[49m\n\u001B[0;32m   1090\u001B[0m \u001B[38;5;28;01mreturn\u001B[39;00m \u001B[38;5;28mself\u001B[39m\u001B[38;5;241m.\u001B[39mindex\u001B[38;5;241m.\u001B[39m_get_values_for_loc(\u001B[38;5;28mself\u001B[39m, loc, label)\n",
      "File \u001B[1;32m~\\AppData\\Local\\Programs\\Python\\Python39\\lib\\site-packages\\pandas\\core\\indexes\\base.py:3804\u001B[0m, in \u001B[0;36mIndex.get_loc\u001B[1;34m(self, key, method, tolerance)\u001B[0m\n\u001B[0;32m   3802\u001B[0m     \u001B[38;5;28;01mreturn\u001B[39;00m \u001B[38;5;28mself\u001B[39m\u001B[38;5;241m.\u001B[39m_engine\u001B[38;5;241m.\u001B[39mget_loc(casted_key)\n\u001B[0;32m   3803\u001B[0m \u001B[38;5;28;01mexcept\u001B[39;00m \u001B[38;5;167;01mKeyError\u001B[39;00m \u001B[38;5;28;01mas\u001B[39;00m err:\n\u001B[1;32m-> 3804\u001B[0m     \u001B[38;5;28;01mraise\u001B[39;00m \u001B[38;5;167;01mKeyError\u001B[39;00m(key) \u001B[38;5;28;01mfrom\u001B[39;00m \u001B[38;5;21;01merr\u001B[39;00m\n\u001B[0;32m   3805\u001B[0m \u001B[38;5;28;01mexcept\u001B[39;00m \u001B[38;5;167;01mTypeError\u001B[39;00m:\n\u001B[0;32m   3806\u001B[0m     \u001B[38;5;66;03m# If we have a listlike key, _check_indexing_error will raise\u001B[39;00m\n\u001B[0;32m   3807\u001B[0m     \u001B[38;5;66;03m#  InvalidIndexError. Otherwise we fall through and re-raise\u001B[39;00m\n\u001B[0;32m   3808\u001B[0m     \u001B[38;5;66;03m#  the TypeError.\u001B[39;00m\n\u001B[0;32m   3809\u001B[0m     \u001B[38;5;28mself\u001B[39m\u001B[38;5;241m.\u001B[39m_check_indexing_error(key)\n",
      "\u001B[1;31mKeyError\u001B[0m: False"
     ]
    }
   ],
   "source": [
    "#print(pd.Series(df_x.index == y.index).value_counts()[False])"
   ],
   "metadata": {
    "collapsed": false,
    "pycharm": {
     "name": "#%%\n"
    }
   }
  },
  {
   "cell_type": "code",
   "execution_count": 16,
   "outputs": [
    {
     "name": "stdout",
     "output_type": "stream",
     "text": [
      "[ True  True  True ...  True  True  True]\n"
     ]
    }
   ],
   "source": [
    "#print(df_x.index == df_sorted.index)"
   ],
   "metadata": {
    "collapsed": false,
    "pycharm": {
     "name": "#%%\n"
    }
   }
  },
  {
   "cell_type": "code",
   "execution_count": 47,
   "outputs": [
    {
     "name": "stdout",
     "output_type": "stream",
     "text": [
      "         datetime\n",
      "0      2022-02-26\n",
      "167500 2022-02-26\n",
      "159608 2022-02-26\n",
      "151693 2022-02-26\n",
      "143371 2022-02-26\n",
      "135513 2022-02-26\n",
      "7906   2022-02-26\n",
      "126982 2022-02-26\n",
      "119084 2022-02-26\n",
      "110697 2022-02-26\n",
      "102871 2022-02-26\n",
      "95071  2022-02-26\n",
      "86863  2022-02-26\n",
      "78090  2022-02-26\n",
      "68415  2022-02-26\n",
      "16354  2022-02-26\n",
      "60189  2022-02-26\n",
      "51953  2022-02-26\n",
      "44112  2022-02-26\n",
      "36193  2022-02-26\n",
      "175685 2022-02-26\n",
      "183770 2022-02-26\n",
      "25430  2022-02-26\n"
     ]
    }
   ],
   "source": [
    "print(df_datetime.loc[df_datetime['datetime']==pd.to_datetime(\"2022-02-26 00:00:00\")])"
   ],
   "metadata": {
    "collapsed": false,
    "pycharm": {
     "name": "#%%\n"
    }
   }
  },
  {
   "cell_type": "code",
   "execution_count": 17,
   "outputs": [
    {
     "data": {
      "text/plain": "        day_tempmax  day_tempmin  day_temp  day_dew  day_humidity  day_precip  \\\n0               6.3         -1.5       1.9     -2.7          73.4       0.000   \n167500          5.1         -1.0       1.6     -1.7          79.5       0.000   \n159608          5.3          0.1       2.7     -2.8          68.5       0.100   \n151693          6.0         -4.0       0.1     -4.1          78.2       0.000   \n143371          5.4         -1.3       1.7     -1.6          80.4       0.000   \n...             ...          ...       ...      ...           ...         ...   \n135512          8.9          4.7       6.4      5.5          93.7       1.200   \n119083          7.9          1.3       4.0      0.1          76.5       6.000   \n51952           9.0          1.2       4.0      2.6          91.2       2.481   \n16353          11.9          3.2       7.0      3.3          78.2       0.000   \n191714         11.2          5.7       7.9      6.2          89.3       0.600   \n\n        day_precipcover  day_moonphase  hour_temp  hour_humidity  ...  \\\n0                  0.00           0.84        0.3          82.07  ...   \n167500             0.00           0.84       -0.1          82.63  ...   \n159608             4.17           0.84        2.4          85.39  ...   \n151693             0.00           0.84       -3.0         100.00  ...   \n143371             0.00           0.84       -0.1          92.97  ...   \n...                 ...            ...        ...            ...  ...   \n135512             8.33           0.93        6.4          88.26  ...   \n119083             4.17           0.93        1.3          85.27  ...   \n51952             12.50           0.93        1.5          95.35  ...   \n16353              0.00           0.93        3.2          83.65  ...   \n191714            12.50           0.93        6.7          82.32  ...   \n\n        hour_windgust  hour_windspeed  hour_winddir  hour_pressure  \\\n0                14.4             7.9         294.8         1022.0   \n167500            3.6             1.8         260.0         1018.0   \n159608           13.3             6.8         299.7         1023.0   \n151693           15.8             0.0           0.0         1022.0   \n143371           16.2             8.6         355.5         1018.0   \n...               ...             ...           ...            ...   \n135512           22.0            10.8         140.0         1013.0   \n119083           31.3            16.9          94.0         1018.0   \n51952            21.6             7.5         300.0         1009.1   \n16353            21.6            18.0         120.0         1016.7   \n191714           31.7             3.6         110.0         1011.8   \n\n        hour_cloudcover  hour_severerisk  region_id_x  is_alarm  region_id_y  \\\n0                   0.0             10.0            3         0            3   \n167500            100.0             10.0           23         0           23   \n159608             98.2             10.0            9         0            9   \n151693             44.6             10.0           13         0           13   \n143371             94.8             10.0           16         0           16   \n...                 ...              ...          ...       ...          ...   \n135512            100.0             10.0            6         0            6   \n119083            100.0             10.0            8         0            8   \n51952             100.0             10.0           24         0           24   \n16353             100.0             10.0           11         0           11   \n191714            100.0             10.0            2         0            2   \n\n        hour_conditions_id  \n0                        0  \n167500                   3  \n159608                   3  \n151693                   4  \n143371                   3  \n...                    ...  \n135512                   3  \n119083                   3  \n51952                    3  \n16353                    3  \n191714                   3  \n\n[191715 rows x 25 columns]",
      "text/html": "<div>\n<style scoped>\n    .dataframe tbody tr th:only-of-type {\n        vertical-align: middle;\n    }\n\n    .dataframe tbody tr th {\n        vertical-align: top;\n    }\n\n    .dataframe thead th {\n        text-align: right;\n    }\n</style>\n<table border=\"1\" class=\"dataframe\">\n  <thead>\n    <tr style=\"text-align: right;\">\n      <th></th>\n      <th>day_tempmax</th>\n      <th>day_tempmin</th>\n      <th>day_temp</th>\n      <th>day_dew</th>\n      <th>day_humidity</th>\n      <th>day_precip</th>\n      <th>day_precipcover</th>\n      <th>day_moonphase</th>\n      <th>hour_temp</th>\n      <th>hour_humidity</th>\n      <th>...</th>\n      <th>hour_windgust</th>\n      <th>hour_windspeed</th>\n      <th>hour_winddir</th>\n      <th>hour_pressure</th>\n      <th>hour_cloudcover</th>\n      <th>hour_severerisk</th>\n      <th>region_id_x</th>\n      <th>is_alarm</th>\n      <th>region_id_y</th>\n      <th>hour_conditions_id</th>\n    </tr>\n  </thead>\n  <tbody>\n    <tr>\n      <th>0</th>\n      <td>6.3</td>\n      <td>-1.5</td>\n      <td>1.9</td>\n      <td>-2.7</td>\n      <td>73.4</td>\n      <td>0.000</td>\n      <td>0.00</td>\n      <td>0.84</td>\n      <td>0.3</td>\n      <td>82.07</td>\n      <td>...</td>\n      <td>14.4</td>\n      <td>7.9</td>\n      <td>294.8</td>\n      <td>1022.0</td>\n      <td>0.0</td>\n      <td>10.0</td>\n      <td>3</td>\n      <td>0</td>\n      <td>3</td>\n      <td>0</td>\n    </tr>\n    <tr>\n      <th>167500</th>\n      <td>5.1</td>\n      <td>-1.0</td>\n      <td>1.6</td>\n      <td>-1.7</td>\n      <td>79.5</td>\n      <td>0.000</td>\n      <td>0.00</td>\n      <td>0.84</td>\n      <td>-0.1</td>\n      <td>82.63</td>\n      <td>...</td>\n      <td>3.6</td>\n      <td>1.8</td>\n      <td>260.0</td>\n      <td>1018.0</td>\n      <td>100.0</td>\n      <td>10.0</td>\n      <td>23</td>\n      <td>0</td>\n      <td>23</td>\n      <td>3</td>\n    </tr>\n    <tr>\n      <th>159608</th>\n      <td>5.3</td>\n      <td>0.1</td>\n      <td>2.7</td>\n      <td>-2.8</td>\n      <td>68.5</td>\n      <td>0.100</td>\n      <td>4.17</td>\n      <td>0.84</td>\n      <td>2.4</td>\n      <td>85.39</td>\n      <td>...</td>\n      <td>13.3</td>\n      <td>6.8</td>\n      <td>299.7</td>\n      <td>1023.0</td>\n      <td>98.2</td>\n      <td>10.0</td>\n      <td>9</td>\n      <td>0</td>\n      <td>9</td>\n      <td>3</td>\n    </tr>\n    <tr>\n      <th>151693</th>\n      <td>6.0</td>\n      <td>-4.0</td>\n      <td>0.1</td>\n      <td>-4.1</td>\n      <td>78.2</td>\n      <td>0.000</td>\n      <td>0.00</td>\n      <td>0.84</td>\n      <td>-3.0</td>\n      <td>100.00</td>\n      <td>...</td>\n      <td>15.8</td>\n      <td>0.0</td>\n      <td>0.0</td>\n      <td>1022.0</td>\n      <td>44.6</td>\n      <td>10.0</td>\n      <td>13</td>\n      <td>0</td>\n      <td>13</td>\n      <td>4</td>\n    </tr>\n    <tr>\n      <th>143371</th>\n      <td>5.4</td>\n      <td>-1.3</td>\n      <td>1.7</td>\n      <td>-1.6</td>\n      <td>80.4</td>\n      <td>0.000</td>\n      <td>0.00</td>\n      <td>0.84</td>\n      <td>-0.1</td>\n      <td>92.97</td>\n      <td>...</td>\n      <td>16.2</td>\n      <td>8.6</td>\n      <td>355.5</td>\n      <td>1018.0</td>\n      <td>94.8</td>\n      <td>10.0</td>\n      <td>16</td>\n      <td>0</td>\n      <td>16</td>\n      <td>3</td>\n    </tr>\n    <tr>\n      <th>...</th>\n      <td>...</td>\n      <td>...</td>\n      <td>...</td>\n      <td>...</td>\n      <td>...</td>\n      <td>...</td>\n      <td>...</td>\n      <td>...</td>\n      <td>...</td>\n      <td>...</td>\n      <td>...</td>\n      <td>...</td>\n      <td>...</td>\n      <td>...</td>\n      <td>...</td>\n      <td>...</td>\n      <td>...</td>\n      <td>...</td>\n      <td>...</td>\n      <td>...</td>\n      <td>...</td>\n    </tr>\n    <tr>\n      <th>135512</th>\n      <td>8.9</td>\n      <td>4.7</td>\n      <td>6.4</td>\n      <td>5.5</td>\n      <td>93.7</td>\n      <td>1.200</td>\n      <td>8.33</td>\n      <td>0.93</td>\n      <td>6.4</td>\n      <td>88.26</td>\n      <td>...</td>\n      <td>22.0</td>\n      <td>10.8</td>\n      <td>140.0</td>\n      <td>1013.0</td>\n      <td>100.0</td>\n      <td>10.0</td>\n      <td>6</td>\n      <td>0</td>\n      <td>6</td>\n      <td>3</td>\n    </tr>\n    <tr>\n      <th>119083</th>\n      <td>7.9</td>\n      <td>1.3</td>\n      <td>4.0</td>\n      <td>0.1</td>\n      <td>76.5</td>\n      <td>6.000</td>\n      <td>4.17</td>\n      <td>0.93</td>\n      <td>1.3</td>\n      <td>85.27</td>\n      <td>...</td>\n      <td>31.3</td>\n      <td>16.9</td>\n      <td>94.0</td>\n      <td>1018.0</td>\n      <td>100.0</td>\n      <td>10.0</td>\n      <td>8</td>\n      <td>0</td>\n      <td>8</td>\n      <td>3</td>\n    </tr>\n    <tr>\n      <th>51952</th>\n      <td>9.0</td>\n      <td>1.2</td>\n      <td>4.0</td>\n      <td>2.6</td>\n      <td>91.2</td>\n      <td>2.481</td>\n      <td>12.50</td>\n      <td>0.93</td>\n      <td>1.5</td>\n      <td>95.35</td>\n      <td>...</td>\n      <td>21.6</td>\n      <td>7.5</td>\n      <td>300.0</td>\n      <td>1009.1</td>\n      <td>100.0</td>\n      <td>10.0</td>\n      <td>24</td>\n      <td>0</td>\n      <td>24</td>\n      <td>3</td>\n    </tr>\n    <tr>\n      <th>16353</th>\n      <td>11.9</td>\n      <td>3.2</td>\n      <td>7.0</td>\n      <td>3.3</td>\n      <td>78.2</td>\n      <td>0.000</td>\n      <td>0.00</td>\n      <td>0.93</td>\n      <td>3.2</td>\n      <td>83.65</td>\n      <td>...</td>\n      <td>21.6</td>\n      <td>18.0</td>\n      <td>120.0</td>\n      <td>1016.7</td>\n      <td>100.0</td>\n      <td>10.0</td>\n      <td>11</td>\n      <td>0</td>\n      <td>11</td>\n      <td>3</td>\n    </tr>\n    <tr>\n      <th>191714</th>\n      <td>11.2</td>\n      <td>5.7</td>\n      <td>7.9</td>\n      <td>6.2</td>\n      <td>89.3</td>\n      <td>0.600</td>\n      <td>12.50</td>\n      <td>0.93</td>\n      <td>6.7</td>\n      <td>82.32</td>\n      <td>...</td>\n      <td>31.7</td>\n      <td>3.6</td>\n      <td>110.0</td>\n      <td>1011.8</td>\n      <td>100.0</td>\n      <td>10.0</td>\n      <td>2</td>\n      <td>0</td>\n      <td>2</td>\n      <td>3</td>\n    </tr>\n  </tbody>\n</table>\n<p>191715 rows × 25 columns</p>\n</div>"
     },
     "execution_count": 17,
     "metadata": {},
     "output_type": "execute_result"
    }
   ],
   "source": [
    "df_sorted"
   ],
   "metadata": {
    "collapsed": false,
    "pycharm": {
     "name": "#%%\n"
    }
   }
  },
  {
   "cell_type": "code",
   "execution_count": 19,
   "outputs": [
    {
     "name": "stdout",
     "output_type": "stream",
     "text": [
      "datetime    datetime64[ns]\n",
      "dtype: object\n"
     ]
    }
   ],
   "source": [
    "#print(df_datetime.dtypes)"
   ],
   "metadata": {
    "collapsed": false,
    "pycharm": {
     "name": "#%%\n"
    }
   }
  },
  {
   "cell_type": "code",
   "execution_count": 20,
   "outputs": [
    {
     "name": "stdout",
     "output_type": "stream",
     "text": [
      "day_tempmax           float64\n",
      "day_tempmin           float64\n",
      "day_temp              float64\n",
      "day_dew               float64\n",
      "day_humidity          float64\n",
      "day_precip            float64\n",
      "day_precipcover       float64\n",
      "day_moonphase         float64\n",
      "hour_temp             float64\n",
      "hour_humidity         float64\n",
      "hour_dew              float64\n",
      "hour_precip           float64\n",
      "hour_precipprob       float64\n",
      "hour_snow             float64\n",
      "hour_snowdepth        float64\n",
      "hour_windgust         float64\n",
      "hour_windspeed        float64\n",
      "hour_winddir          float64\n",
      "hour_pressure         float64\n",
      "hour_cloudcover       float64\n",
      "hour_severerisk       float64\n",
      "region_id_x             int64\n",
      "is_alarm                int64\n",
      "region_id_y             int64\n",
      "hour_conditions_id      int64\n",
      "dtype: object\n"
     ]
    }
   ],
   "source": [
    "#print(df_sorted.dtypes)"
   ],
   "metadata": {
    "collapsed": false,
    "pycharm": {
     "name": "#%%\n"
    }
   }
  },
  {
   "cell_type": "code",
   "execution_count": 21,
   "outputs": [
    {
     "data": {
      "text/plain": "(191715, 24)"
     },
     "execution_count": 21,
     "metadata": {},
     "output_type": "execute_result"
    }
   ],
   "source": [
    "df_work_v4_csr = scipy.sparse.csr_matrix(df_x.values)\n",
    "df_work_v4_csr.shape"
   ],
   "metadata": {
    "collapsed": false,
    "pycharm": {
     "name": "#%%\n"
    }
   }
  },
  {
   "cell_type": "code",
   "execution_count": 22,
   "outputs": [
    {
     "data": {
      "text/plain": "(191715, 9026)"
     },
     "execution_count": 22,
     "metadata": {},
     "output_type": "execute_result"
    }
   ],
   "source": [
    "df_all_features = sp.hstack((df_work_v4_csr, tfidf_vector_all), format='csr')\n",
    "df_all_features.shape"
   ],
   "metadata": {
    "collapsed": false,
    "pycharm": {
     "name": "#%%\n"
    }
   }
  },
  {
   "cell_type": "code",
   "execution_count": 34,
   "outputs": [
    {
     "name": "stdout",
     "output_type": "stream",
     "text": [
      "  (0, 0)\t6.3\n",
      "  (0, 1)\t-1.5\n",
      "  (0, 2)\t1.9\n",
      "  (0, 3)\t-2.7\n",
      "  (0, 4)\t73.4\n",
      "  (0, 7)\t0.84\n",
      "  (0, 8)\t0.3\n",
      "  (0, 9)\t82.07\n",
      "  (0, 10)\t-2.4\n",
      "  (0, 15)\t14.4\n",
      "  (0, 16)\t7.9\n",
      "  (0, 17)\t294.8\n",
      "  (0, 18)\t1022.0\n",
      "  (0, 20)\t10.0\n",
      "  (0, 21)\t3.0\n",
      "  (0, 22)\t3.0\n",
      "  (0, 8985)\t0.11857799072401437\n",
      "  (0, 8980)\t0.062443659083071784\n",
      "  (0, 8940)\t0.10370899561521361\n",
      "  (0, 8923)\t0.02171118646719135\n",
      "  (0, 8888)\t0.021724501906642837\n",
      "  (0, 8861)\t0.02008155068935402\n",
      "  (0, 8854)\t0.011833657434587511\n",
      "  (0, 8853)\t0.02030176390281383\n",
      "  (0, 8834)\t0.01625335460235323\n",
      "  :\t:\n",
      "  (191714, 259)\t0.018253624561182964\n",
      "  (191714, 254)\t0.018834137987196676\n",
      "  (191714, 238)\t0.006762777733893114\n",
      "  (191714, 222)\t0.028986563611399105\n",
      "  (191714, 212)\t0.017307203825760245\n",
      "  (191714, 207)\t0.023012136038989685\n",
      "  (191714, 199)\t0.03506941820926559\n",
      "  (191714, 192)\t0.015383494288570455\n",
      "  (191714, 185)\t0.013169958474197968\n",
      "  (191714, 182)\t0.026624168268218264\n",
      "  (191714, 176)\t0.013613515606944985\n",
      "  (191714, 157)\t0.02036107214863311\n",
      "  (191714, 135)\t0.015922395324234978\n",
      "  (191714, 125)\t0.0293937852712688\n",
      "  (191714, 115)\t0.016910428450006888\n",
      "  (191714, 110)\t0.013312084134109132\n",
      "  (191714, 106)\t0.010422690990805429\n",
      "  (191714, 88)\t0.008940857763746417\n",
      "  (191714, 75)\t0.012530138578255573\n",
      "  (191714, 66)\t0.011246248937008176\n",
      "  (191714, 64)\t0.01049054657452863\n",
      "  (191714, 62)\t0.025416533708029643\n",
      "  (191714, 46)\t0.019057881612795088\n",
      "  (191714, 40)\t0.012530138578255573\n",
      "  (191714, 29)\t0.019520739640132734\n"
     ]
    }
   ],
   "source": [
    "print(df_all_features)"
   ],
   "metadata": {
    "collapsed": false,
    "pycharm": {
     "name": "#%%\n"
    }
   }
  },
  {
   "cell_type": "code",
   "execution_count": 24,
   "outputs": [],
   "source": [
    "with open(f\"{PROGRAM_FOLDER}/{INPUT_DATA_FOLDER}/{FINAL_TRAIN_MATRIX}\", 'wb') as handle:\n",
    "     pickle.dump(df_all_features, handle)"
   ],
   "metadata": {
    "collapsed": false,
    "pycharm": {
     "name": "#%%\n"
    }
   }
  },
  {
   "cell_type": "code",
   "execution_count": 25,
   "outputs": [],
   "source": [
    "df_datetime.to_csv(f\"{PROGRAM_FOLDER}/{INPUT_DATA_FOLDER}/{FINAL_DATETIMES}.csv\", index=False)"
   ],
   "metadata": {
    "collapsed": false,
    "pycharm": {
     "name": "#%%\n"
    }
   }
  },
  {
   "cell_type": "code",
   "execution_count": 26,
   "outputs": [],
   "source": [
    "with open(f\"{PROGRAM_FOLDER}/{INPUT_DATA_FOLDER}/{FINAL_DATETIMES}.pkl\", 'wb') as handle:\n",
    "     pickle.dump(df_datetime, handle)"
   ],
   "metadata": {
    "collapsed": false,
    "pycharm": {
     "name": "#%%\n"
    }
   }
  },
  {
   "cell_type": "code",
   "execution_count": 27,
   "outputs": [
    {
     "data": {
      "text/plain": "scipy.sparse._csr.csr_matrix"
     },
     "execution_count": 27,
     "metadata": {},
     "output_type": "execute_result"
    }
   ],
   "source": [
    "type(df_all_features)"
   ],
   "metadata": {
    "collapsed": false,
    "pycharm": {
     "name": "#%%\n"
    }
   }
  },
  {
   "cell_type": "code",
   "execution_count": 28,
   "outputs": [
    {
     "data": {
      "text/plain": "0         0\n167500    0\n159608    0\n151693    0\n143371    0\n         ..\n135512    0\n119083    0\n51952     0\n16353     0\n191714    0\nName: is_alarm, Length: 191715, dtype: int64"
     },
     "execution_count": 28,
     "metadata": {},
     "output_type": "execute_result"
    }
   ],
   "source": [
    "y"
   ],
   "metadata": {
    "collapsed": false,
    "pycharm": {
     "name": "#%%\n"
    }
   }
  },
  {
   "cell_type": "code",
   "execution_count": 29,
   "outputs": [],
   "source": [
    "with open(f\"{PROGRAM_FOLDER}/{INPUT_DATA_FOLDER}/{FINAL_Y}.pkl\", 'wb') as handle:\n",
    "     pickle.dump(y, handle)"
   ],
   "metadata": {
    "collapsed": false,
    "pycharm": {
     "name": "#%%\n"
    }
   }
  },
  {
   "cell_type": "code",
   "execution_count": 30,
   "outputs": [],
   "source": [
    "y.to_csv(f\"{PROGRAM_FOLDER}/{INPUT_DATA_FOLDER}/{FINAL_Y}.csv\", index=False)"
   ],
   "metadata": {
    "collapsed": false,
    "pycharm": {
     "name": "#%%\n"
    }
   }
  },
  {
   "cell_type": "code",
   "execution_count": 31,
   "outputs": [],
   "source": [
    "from sklearn.linear_model import LogisticRegression"
   ],
   "metadata": {
    "collapsed": false,
    "pycharm": {
     "name": "#%%\n"
    }
   }
  },
  {
   "cell_type": "code",
   "execution_count": 32,
   "outputs": [],
   "source": [
    "from sklearn.model_selection import TimeSeriesSplit"
   ],
   "metadata": {
    "collapsed": false,
    "pycharm": {
     "name": "#%%\n"
    }
   }
  },
  {
   "cell_type": "code",
   "execution_count": 49,
   "outputs": [],
   "source": [
    "#raise SystemExit(\"Stop right there!\")"
   ],
   "metadata": {
    "collapsed": false,
    "pycharm": {
     "name": "#%%\n"
    }
   }
  },
  {
   "cell_type": "code",
   "execution_count": 61,
   "outputs": [],
   "source": [
    "TUNING_PATH = f\"{PROGRAM_FOLDER}/{TUNING_FOLDER}\"\n",
    "MODEL_NAME = \"logistic_regression_v5\"\n",
    "RANDOM_STATE=1"
   ],
   "metadata": {
    "collapsed": false,
    "pycharm": {
     "name": "#%%\n"
    }
   }
  },
  {
   "cell_type": "code",
   "execution_count": 66,
   "outputs": [
    {
     "name": "stdout",
     "output_type": "stream",
     "text": [
      "logistic_regression_v5_iter5: 0.8534098360655737\n"
     ]
    },
    {
     "name": "stderr",
     "output_type": "stream",
     "text": [
      "C:\\Users\\IvarY\\AppData\\Local\\Programs\\Python\\Python39\\lib\\site-packages\\sklearn\\linear_model\\_logistic.py:458: ConvergenceWarning: lbfgs failed to converge (status=1):\n",
      "STOP: TOTAL NO. of ITERATIONS REACHED LIMIT.\n",
      "\n",
      "Increase the number of iterations (max_iter) or scale the data as shown in:\n",
      "    https://scikit-learn.org/stable/modules/preprocessing.html\n",
      "Please also refer to the documentation for alternative solver options:\n",
      "    https://scikit-learn.org/stable/modules/linear_model.html#logistic-regression\n",
      "  n_iter_i = _check_optimize_result(\n"
     ]
    }
   ],
   "source": [
    "iteration = 1\n",
    "tss = TimeSeriesSplit(n_splits=7)\n",
    "MIN_ITERATION = 5\n",
    "MAX_ITERATION = 7\n",
    "\n",
    "#getting indexes for df_all_features from splitting df_datetime\n",
    "\n",
    "for train_index, test_index in zip(*dtspl.split_dataset(df_datetime, tss)):\n",
    "    if(iteration<MIN_ITERATION):\n",
    "        iteration+=1\n",
    "        continue\n",
    "    if(iteration>MAX_ITERATION):\n",
    "        break\n",
    "\n",
    "    model=LogisticRegression(max_iter=100,random_state=RANDOM_STATE, )\n",
    "\n",
    "    X_train=df_all_features[train_index]\n",
    "    X_test=df_all_features[test_index]\n",
    "    y_train=y[train_index]\n",
    "    y_test=y[test_index]\n",
    "\n",
    "    model.fit(X_train, y_train)\n",
    "    score = model.score(X_test, y_test)\n",
    "\n",
    "    print(f\"{MODEL_NAME}_iter{iteration}: {score}\")\n",
    "    with open(f\"{TUNING_PATH}/{MODEL_NAME}/{MODEL_NAME}_iter{iteration}.pkl\", 'wb') as handle: pickle.dump(model, handle)\n",
    "    iteration+=1\n"
   ],
   "metadata": {
    "collapsed": false,
    "pycharm": {
     "name": "#%%\n"
    }
   }
  },
  {
   "cell_type": "code",
   "execution_count": 65,
   "outputs": [
    {
     "data": {
      "text/plain": "0.7455285188952352"
     },
     "execution_count": 65,
     "metadata": {},
     "output_type": "execute_result"
    }
   ],
   "source": [
    "1-y.sum()/y.count()"
   ],
   "metadata": {
    "collapsed": false,
    "pycharm": {
     "name": "#%%\n"
    }
   }
  },
  {
   "cell_type": "code",
   "execution_count": null,
   "outputs": [],
   "source": [
    "from sklearn.model_selection import RandomizedSearchCV\n",
    "from scipy.stats import uniform"
   ],
   "metadata": {
    "collapsed": false,
    "pycharm": {
     "name": "#%%\n"
    }
   }
  },
  {
   "cell_type": "code",
   "execution_count": null,
   "outputs": [],
   "source": [
    "logistic = LogisticRegression()\n",
    "param_distributions = {\n",
    "    'penalty': ['l1', 'l2'],\n",
    "    'C': uniform(0, 1),\n",
    "    'solver': ['newton-cg', 'lbfgs', 'liblinear', 'sag', 'saga'],\n",
    "    'max_iter': [50]\n",
    "}\n",
    "random_search = RandomizedSearchCV(\n",
    "    estimator=logistic,\n",
    "    param_distributions=param_distributions,\n",
    "    n_iter=10,\n",
    "    cv=tss,\n",
    "    random_state=42\n",
    ")"
   ],
   "metadata": {
    "collapsed": false,
    "pycharm": {
     "name": "#%%\n"
    }
   }
  },
  {
   "cell_type": "code",
   "execution_count": null,
   "outputs": [],
   "source": [
    "random_search.fit(df_all_features, y)\n",
    "print(\"Best parameters: \", random_search.best_params_)\n",
    "print(\"Best score: \", random_search.best_score_)"
   ],
   "metadata": {
    "collapsed": false,
    "pycharm": {
     "name": "#%%\n"
    }
   }
  },
  {
   "cell_type": "code",
   "execution_count": 68,
   "outputs": [],
   "source": [
    "import matplotlib\n",
    "from sklearn.metrics import confusion_matrix, ConfusionMatrixDisplay"
   ],
   "metadata": {
    "collapsed": false,
    "pycharm": {
     "name": "#%%\n"
    }
   }
  },
  {
   "cell_type": "code",
   "execution_count": 69,
   "outputs": [],
   "source": [
    "def plot_confusion_matrix(clf, y_test, predicted):\n",
    "    classes = clf.classes_\n",
    "    classes[0], classes[1] = classes[1], classes[0]\n",
    "\n",
    "    cm = confusion_matrix(y_test, predicted, labels=classes)\n",
    "    cm = cm.T\n",
    "\n",
    "    disp = ConfusionMatrixDisplay(confusion_matrix=cm, display_labels=classes)\n",
    "    plt=disp.plot()\n",
    "    #plt.show()"
   ],
   "metadata": {
    "collapsed": false,
    "pycharm": {
     "name": "#%%\n"
    }
   }
  },
  {
   "cell_type": "code",
   "execution_count": null,
   "outputs": [],
   "source": [
    "df_sorted.shape"
   ],
   "metadata": {
    "collapsed": false,
    "pycharm": {
     "name": "#%%\n"
    }
   }
  },
  {
   "cell_type": "code",
   "execution_count": null,
   "outputs": [],
   "source": [
    "best_model=random_search.best_estimator_\n",
    "for train_index, test_index in zip(*dtspl.split_dataset(df_datetime, tss)):\n",
    "\n",
    "    X_test=df_all_features[test_index]\n",
    "    y_test=y[test_index]\n",
    "    prediction=best_model.predict(X_test)\n",
    "    plot_confusion_matrix(best_model, y_test, prediction)\n",
    "\n"
   ],
   "metadata": {
    "collapsed": false,
    "pycharm": {
     "name": "#%%\n"
    }
   }
  },
  {
   "cell_type": "code",
   "execution_count": null,
   "outputs": [],
   "source": [
    "iteration=1\n",
    "tss = TimeSeriesSplit(n_splits=3)\n",
    "\n",
    "\n",
    "#getting indexes for df_all_features from splitting df_datetime\n",
    "\n",
    "for train_index, test_index in zip(*dtspl.split_dataset(df_datetime, tss)):\n",
    "    model=LogisticRegression(max_iter=1000,random_state=RANDOM_STATE, C=0.5247564316322378, penalty='l2', solver='newton-cg')\n",
    "\n",
    "    X_train=df_all_features[train_index]\n",
    "    X_test=df_all_features[test_index]\n",
    "    y_train=y[train_index]\n",
    "    y_test=y[test_index]\n",
    "\n",
    "    model.fit(X_train, y_train)\n",
    "    score = model.score(X_test, y_test)\n",
    "\n",
    "    print(f\"{MODEL_NAME}_split{iteration}: {score}\")\n",
    "    with open(f\"{TUNING_PATH}/{MODEL_NAME}_iter{iteration}.pkl\", 'wb') as handle: pickle.dump(model, handle)\n",
    "    iteration+=1"
   ],
   "metadata": {
    "collapsed": false,
    "pycharm": {
     "name": "#%%\n"
    }
   }
  },
  {
   "cell_type": "code",
   "execution_count": 70,
   "outputs": [
    {
     "data": {
      "text/plain": "<Figure size 640x480 with 2 Axes>",
      "image/png": "[encoded data removed]"
     },
     "metadata": {},
     "output_type": "display_data"
    },
    {
     "data": {
      "text/plain": "<Figure size 640x480 with 2 Axes>",
      "image/png": "[encoded data removed]"
     },
     "metadata": {},
     "output_type": "display_data"
    },
    {
     "data": {
      "text/plain": "<Figure size 640x480 with 2 Axes>",
      "image/png": "[encoded data removed]"
     },
     "metadata": {},
     "output_type": "display_data"
    },
    {
     "data": {
      "text/plain": "<Figure size 640x480 with 2 Axes>",
      "image/png": "[encoded data removed]"
     },
     "metadata": {},
     "output_type": "display_data"
    },
    {
     "data": {
      "text/plain": "<Figure size 640x480 with 2 Axes>",
      "image/png": "[encoded data removed]"
     },
     "metadata": {},
     "output_type": "display_data"
    }
   ],
   "source": [
    "for train_index, test_index in zip(*dtspl.split_dataset(df_datetime, tss)):\n",
    "\n",
    "    X_test=df_all_features[test_index]\n",
    "    y_test=y[test_index]\n",
    "    prediction=model.predict(X_test)\n",
    "    plot_confusion_matrix(model, y_test, prediction)"
   ],
   "metadata": {
    "collapsed": false,
    "pycharm": {
     "name": "#%%\n"
    }
   }
  },
  {
   "cell_type": "code",
   "execution_count": null,
   "outputs": [],
   "source": [],
   "metadata": {
    "collapsed": false,
    "pycharm": {
     "name": "#%%\n"
    }
   }
  }
 ],
 "metadata": {
  "kernelspec": {
   "display_name": "Python 3",
   "language": "python",
   "name": "python3"
  },
  "language_info": {
   "codemirror_mode": {
    "name": "ipython",
    "version": 2
   },
   "file_extension": ".py",
   "mimetype": "text/x-python",
   "name": "python",
   "nbconvert_exporter": "python",
   "pygments_lexer": "ipython2",
   "version": "2.7.6"
  }
 },
 "nbformat": 4,
 "nbformat_minor": 0
}