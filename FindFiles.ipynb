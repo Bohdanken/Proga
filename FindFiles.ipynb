{
 "cells": [
  {
   "cell_type": "code",
   "execution_count": 2,
   "id": "26fafefb",
   "metadata": {},
   "outputs": [],
   "source": [
    "import re\n",
    "from datetime import datetime\n",
    "from bs4 import BeautifulSoup\n",
    "import glob\n",
    "import pandas as pd"
   ]
  },
  {
   "cell_type": "code",
   "execution_count": 13,
   "id": "cbd6986e",
   "metadata": {},
   "outputs": [],
   "source": [
    "#Files_by_days = glob.glob(f\"{INPUT_DATA_FOLDER}.*\")\n",
    "Files_by_days = glob.glob(\"D:/Proga/fff//\\d{4}-.*\\.html\")"
   ]
  },
  {
   "cell_type": "code",
   "execution_count": 15,
   "id": "507626d6",
   "metadata": {},
   "outputs": [
    {
     "data": {
      "text/plain": [
       "<re.Match object; span=(0, 28), match='D:/Proga/fff/2022-02-25.html'>"
      ]
     },
     "execution_count": 15,
     "metadata": {},
     "output_type": "execute_result"
    }
   ],
   "source": [
    "#just to show that regex works\n",
    "re.search(\"D:/Proga/fff/\\d{4}-.*\\.html\",\"D:/Proga/fff/2022-02-25.html\")"
   ]
  },
  {
   "cell_type": "code",
   "execution_count": 5,
   "id": "cdfaebce",
   "metadata": {},
   "outputs": [
    {
     "data": {
      "text/plain": [
       "0"
      ]
     },
     "execution_count": 5,
     "metadata": {},
     "output_type": "execute_result"
    }
   ],
   "source": [
    "len(Files_by_days)"
   ]
  },
  {
   "cell_type": "code",
   "execution_count": 6,
   "id": "9eacf401",
   "metadata": {},
   "outputs": [],
   "source": [
    "s"
   ]
  }
 ],
 "metadata": {
  "kernelspec": {
   "display_name": "Python 3 (ipykernel)",
   "language": "python",
   "name": "python3"
  },
  "language_info": {
   "codemirror_mode": {
    "name": "ipython",
    "version": 3
   },
   "file_extension": ".py",
   "mimetype": "text/x-python",
   "name": "python",
   "nbconvert_exporter": "python",
   "pygments_lexer": "ipython3",
   "version": "3.9.6"
  }
 },
 "nbformat": 4,
 "nbformat_minor": 5
}
